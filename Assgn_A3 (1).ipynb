{
  "cells": [
    {
      "cell_type": "code",
      "execution_count": 11,
      "metadata": {
        "id": "ba44ff3f"
      },
      "outputs": [],
      "source": [
        "import numpy as np\n",
        "from keras.datasets import mnist\n",
        "from keras.models import Sequential\n",
        "from keras.layers.core import Dense, Activation\n",
        "from tensorflow.keras.optimizers import SGD, Adam, RMSprop\n",
        "from keras.utils import np_utils\n",
        "from keras.layers.convolutional import Conv2D\n",
        "from keras.layers import Flatten\n",
        "from keras.layers.convolutional import MaxPooling2D"
      ],
      "id": "ba44ff3f"
    },
    {
      "cell_type": "code",
      "execution_count": 2,
      "metadata": {
        "colab": {
          "base_uri": "https://localhost:8080/"
        },
        "id": "747543ec",
        "outputId": "5a5c1534-b669-4fbc-8404-d4ef2533770d"
      },
      "outputs": [
        {
          "output_type": "stream",
          "name": "stdout",
          "text": [
            "Downloading data from https://storage.googleapis.com/tensorflow/tf-keras-datasets/mnist.npz\n",
            "11490434/11490434 [==============================] - 0s 0us/step\n"
          ]
        }
      ],
      "source": [
        "(X_train, y_train), (X_test, y_test) = mnist.load_data()"
      ],
      "id": "747543ec"
    },
    {
      "cell_type": "code",
      "execution_count": 3,
      "metadata": {
        "colab": {
          "base_uri": "https://localhost:8080/"
        },
        "id": "e1978e9d",
        "outputId": "62c1aa24-b289-4d84-ddff-f90c4f5848a3"
      },
      "outputs": [
        {
          "output_type": "execute_result",
          "data": {
            "text/plain": [
              "(60000, 28, 28)"
            ]
          },
          "metadata": {},
          "execution_count": 3
        }
      ],
      "source": [
        "X_train.shape"
      ],
      "id": "e1978e9d"
    },
    {
      "cell_type": "code",
      "execution_count": 4,
      "metadata": {
        "id": "614cf41e"
      },
      "outputs": [],
      "source": [
        "X_train = X_train[:, np.newaxis, :, :]\n",
        "X_test = X_test[:, np.newaxis, :, :]"
      ],
      "id": "614cf41e"
    },
    {
      "cell_type": "code",
      "execution_count": 5,
      "metadata": {
        "colab": {
          "base_uri": "https://localhost:8080/"
        },
        "id": "b0912b18",
        "outputId": "4bd2a650-50b8-468a-973b-8093ce5200a0"
      },
      "outputs": [
        {
          "output_type": "execute_result",
          "data": {
            "text/plain": [
              "(60000, 1, 28, 28)"
            ]
          },
          "metadata": {},
          "execution_count": 5
        }
      ],
      "source": [
        "X_train.shape"
      ],
      "id": "b0912b18"
    },
    {
      "cell_type": "code",
      "execution_count": 6,
      "metadata": {
        "id": "dfbedb34"
      },
      "outputs": [],
      "source": [
        "Y_train = np_utils.to_categorical(y_train, 10)\n",
        "Y_test = np_utils.to_categorical(y_test, 10)"
      ],
      "id": "dfbedb34"
    },
    {
      "cell_type": "code",
      "execution_count": 7,
      "metadata": {
        "id": "7a0d5fb7"
      },
      "outputs": [],
      "source": [
        "mx_acc=[]"
      ],
      "id": "7a0d5fb7"
    },
    {
      "cell_type": "code",
      "execution_count": 8,
      "metadata": {
        "id": "a66724de"
      },
      "outputs": [],
      "source": [
        "a=[SGD,RMSprop,Adam]"
      ],
      "id": "a66724de"
    },
    {
      "cell_type": "code",
      "execution_count": 9,
      "metadata": {
        "colab": {
          "base_uri": "https://localhost:8080/"
        },
        "id": "6e58ef7c",
        "outputId": "559d1bf8-a84e-4679-aa99-54d595135f69",
        "scrolled": false
      },
      "outputs": [
        {
          "output_type": "stream",
          "name": "stderr",
          "text": [
            "/usr/local/lib/python3.7/dist-packages/keras/optimizers/optimizer_v2/gradient_descent.py:108: UserWarning: The `lr` argument is deprecated, use `learning_rate` instead.\n",
            "  super(SGD, self).__init__(name, **kwargs)\n"
          ]
        },
        {
          "output_type": "stream",
          "name": "stdout",
          "text": [
            "313/313 [==============================] - 3s 8ms/step - loss: 0.2247 - accuracy: 0.9316\n",
            "{(<class 'keras.optimizers.optimizer_v2.gradient_descent.SGD'>, 0.001, 100): 0.9315999746322632}\n",
            "313/313 [==============================] - 3s 8ms/step - loss: 0.7804 - accuracy: 0.7519\n",
            "{(<class 'keras.optimizers.optimizer_v2.gradient_descent.SGD'>, 0.001, 100): 0.9315999746322632, (<class 'keras.optimizers.optimizer_v2.gradient_descent.SGD'>, 0.001, 400): 0.7519000172615051}\n",
            "313/313 [==============================] - 3s 8ms/step - loss: 1.5230 - accuracy: 0.5415\n",
            "{(<class 'keras.optimizers.optimizer_v2.gradient_descent.SGD'>, 0.001, 100): 0.9315999746322632, (<class 'keras.optimizers.optimizer_v2.gradient_descent.SGD'>, 0.001, 400): 0.7519000172615051, (<class 'keras.optimizers.optimizer_v2.gradient_descent.SGD'>, 0.001, 700): 0.5414999723434448}\n",
            "313/313 [==============================] - 3s 9ms/step - loss: nan - accuracy: 0.0980\n",
            "{(<class 'keras.optimizers.optimizer_v2.gradient_descent.SGD'>, 0.001, 100): 0.9315999746322632, (<class 'keras.optimizers.optimizer_v2.gradient_descent.SGD'>, 0.001, 400): 0.7519000172615051, (<class 'keras.optimizers.optimizer_v2.gradient_descent.SGD'>, 0.001, 700): 0.5414999723434448, (<class 'keras.optimizers.optimizer_v2.gradient_descent.SGD'>, 0.401, 100): 0.09799999743700027}\n",
            "313/313 [==============================] - 3s 8ms/step - loss: nan - accuracy: 0.0980\n",
            "{(<class 'keras.optimizers.optimizer_v2.gradient_descent.SGD'>, 0.001, 100): 0.9315999746322632, (<class 'keras.optimizers.optimizer_v2.gradient_descent.SGD'>, 0.001, 400): 0.7519000172615051, (<class 'keras.optimizers.optimizer_v2.gradient_descent.SGD'>, 0.001, 700): 0.5414999723434448, (<class 'keras.optimizers.optimizer_v2.gradient_descent.SGD'>, 0.401, 100): 0.09799999743700027, (<class 'keras.optimizers.optimizer_v2.gradient_descent.SGD'>, 0.401, 400): 0.09799999743700027}\n",
            "313/313 [==============================] - 3s 8ms/step - loss: nan - accuracy: 0.0980\n",
            "{(<class 'keras.optimizers.optimizer_v2.gradient_descent.SGD'>, 0.001, 100): 0.9315999746322632, (<class 'keras.optimizers.optimizer_v2.gradient_descent.SGD'>, 0.001, 400): 0.7519000172615051, (<class 'keras.optimizers.optimizer_v2.gradient_descent.SGD'>, 0.001, 700): 0.5414999723434448, (<class 'keras.optimizers.optimizer_v2.gradient_descent.SGD'>, 0.401, 100): 0.09799999743700027, (<class 'keras.optimizers.optimizer_v2.gradient_descent.SGD'>, 0.401, 400): 0.09799999743700027, (<class 'keras.optimizers.optimizer_v2.gradient_descent.SGD'>, 0.401, 700): 0.09799999743700027}\n",
            "313/313 [==============================] - 3s 9ms/step - loss: nan - accuracy: 0.0980\n",
            "{(<class 'keras.optimizers.optimizer_v2.gradient_descent.SGD'>, 0.001, 100): 0.9315999746322632, (<class 'keras.optimizers.optimizer_v2.gradient_descent.SGD'>, 0.001, 400): 0.7519000172615051, (<class 'keras.optimizers.optimizer_v2.gradient_descent.SGD'>, 0.001, 700): 0.5414999723434448, (<class 'keras.optimizers.optimizer_v2.gradient_descent.SGD'>, 0.401, 100): 0.09799999743700027, (<class 'keras.optimizers.optimizer_v2.gradient_descent.SGD'>, 0.401, 400): 0.09799999743700027, (<class 'keras.optimizers.optimizer_v2.gradient_descent.SGD'>, 0.401, 700): 0.09799999743700027, (<class 'keras.optimizers.optimizer_v2.gradient_descent.SGD'>, 0.801, 100): 0.09799999743700027}\n",
            "313/313 [==============================] - 3s 8ms/step - loss: nan - accuracy: 0.0980\n",
            "{(<class 'keras.optimizers.optimizer_v2.gradient_descent.SGD'>, 0.001, 100): 0.9315999746322632, (<class 'keras.optimizers.optimizer_v2.gradient_descent.SGD'>, 0.001, 400): 0.7519000172615051, (<class 'keras.optimizers.optimizer_v2.gradient_descent.SGD'>, 0.001, 700): 0.5414999723434448, (<class 'keras.optimizers.optimizer_v2.gradient_descent.SGD'>, 0.401, 100): 0.09799999743700027, (<class 'keras.optimizers.optimizer_v2.gradient_descent.SGD'>, 0.401, 400): 0.09799999743700027, (<class 'keras.optimizers.optimizer_v2.gradient_descent.SGD'>, 0.401, 700): 0.09799999743700027, (<class 'keras.optimizers.optimizer_v2.gradient_descent.SGD'>, 0.801, 100): 0.09799999743700027, (<class 'keras.optimizers.optimizer_v2.gradient_descent.SGD'>, 0.801, 400): 0.09799999743700027}\n",
            "313/313 [==============================] - 3s 8ms/step - loss: nan - accuracy: 0.0980\n",
            "{(<class 'keras.optimizers.optimizer_v2.gradient_descent.SGD'>, 0.001, 100): 0.9315999746322632, (<class 'keras.optimizers.optimizer_v2.gradient_descent.SGD'>, 0.001, 400): 0.7519000172615051, (<class 'keras.optimizers.optimizer_v2.gradient_descent.SGD'>, 0.001, 700): 0.5414999723434448, (<class 'keras.optimizers.optimizer_v2.gradient_descent.SGD'>, 0.401, 100): 0.09799999743700027, (<class 'keras.optimizers.optimizer_v2.gradient_descent.SGD'>, 0.401, 400): 0.09799999743700027, (<class 'keras.optimizers.optimizer_v2.gradient_descent.SGD'>, 0.401, 700): 0.09799999743700027, (<class 'keras.optimizers.optimizer_v2.gradient_descent.SGD'>, 0.801, 100): 0.09799999743700027, (<class 'keras.optimizers.optimizer_v2.gradient_descent.SGD'>, 0.801, 400): 0.09799999743700027, (<class 'keras.optimizers.optimizer_v2.gradient_descent.SGD'>, 0.801, 700): 0.09799999743700027}\n"
          ]
        },
        {
          "output_type": "stream",
          "name": "stderr",
          "text": [
            "/usr/local/lib/python3.7/dist-packages/keras/optimizers/optimizer_v2/rmsprop.py:135: UserWarning: The `lr` argument is deprecated, use `learning_rate` instead.\n",
            "  super(RMSprop, self).__init__(name, **kwargs)\n"
          ]
        },
        {
          "output_type": "stream",
          "name": "stdout",
          "text": [
            "313/313 [==============================] - 3s 8ms/step - loss: 0.0973 - accuracy: 0.9723\n",
            "{(<class 'keras.optimizers.optimizer_v2.gradient_descent.SGD'>, 0.001, 100): 0.9315999746322632, (<class 'keras.optimizers.optimizer_v2.gradient_descent.SGD'>, 0.001, 400): 0.7519000172615051, (<class 'keras.optimizers.optimizer_v2.gradient_descent.SGD'>, 0.001, 700): 0.5414999723434448, (<class 'keras.optimizers.optimizer_v2.gradient_descent.SGD'>, 0.401, 100): 0.09799999743700027, (<class 'keras.optimizers.optimizer_v2.gradient_descent.SGD'>, 0.401, 400): 0.09799999743700027, (<class 'keras.optimizers.optimizer_v2.gradient_descent.SGD'>, 0.401, 700): 0.09799999743700027, (<class 'keras.optimizers.optimizer_v2.gradient_descent.SGD'>, 0.801, 100): 0.09799999743700027, (<class 'keras.optimizers.optimizer_v2.gradient_descent.SGD'>, 0.801, 400): 0.09799999743700027, (<class 'keras.optimizers.optimizer_v2.gradient_descent.SGD'>, 0.801, 700): 0.09799999743700027, (<class 'keras.optimizers.optimizer_v2.rmsprop.RMSprop'>, 0.001, 100): 0.9722999930381775}\n",
            "313/313 [==============================] - 3s 8ms/step - loss: 0.0689 - accuracy: 0.9780\n",
            "{(<class 'keras.optimizers.optimizer_v2.gradient_descent.SGD'>, 0.001, 100): 0.9315999746322632, (<class 'keras.optimizers.optimizer_v2.gradient_descent.SGD'>, 0.001, 400): 0.7519000172615051, (<class 'keras.optimizers.optimizer_v2.gradient_descent.SGD'>, 0.001, 700): 0.5414999723434448, (<class 'keras.optimizers.optimizer_v2.gradient_descent.SGD'>, 0.401, 100): 0.09799999743700027, (<class 'keras.optimizers.optimizer_v2.gradient_descent.SGD'>, 0.401, 400): 0.09799999743700027, (<class 'keras.optimizers.optimizer_v2.gradient_descent.SGD'>, 0.401, 700): 0.09799999743700027, (<class 'keras.optimizers.optimizer_v2.gradient_descent.SGD'>, 0.801, 100): 0.09799999743700027, (<class 'keras.optimizers.optimizer_v2.gradient_descent.SGD'>, 0.801, 400): 0.09799999743700027, (<class 'keras.optimizers.optimizer_v2.gradient_descent.SGD'>, 0.801, 700): 0.09799999743700027, (<class 'keras.optimizers.optimizer_v2.rmsprop.RMSprop'>, 0.001, 100): 0.9722999930381775, (<class 'keras.optimizers.optimizer_v2.rmsprop.RMSprop'>, 0.001, 400): 0.9779999852180481}\n",
            "313/313 [==============================] - 3s 8ms/step - loss: 0.0854 - accuracy: 0.9743\n",
            "{(<class 'keras.optimizers.optimizer_v2.gradient_descent.SGD'>, 0.001, 100): 0.9315999746322632, (<class 'keras.optimizers.optimizer_v2.gradient_descent.SGD'>, 0.001, 400): 0.7519000172615051, (<class 'keras.optimizers.optimizer_v2.gradient_descent.SGD'>, 0.001, 700): 0.5414999723434448, (<class 'keras.optimizers.optimizer_v2.gradient_descent.SGD'>, 0.401, 100): 0.09799999743700027, (<class 'keras.optimizers.optimizer_v2.gradient_descent.SGD'>, 0.401, 400): 0.09799999743700027, (<class 'keras.optimizers.optimizer_v2.gradient_descent.SGD'>, 0.401, 700): 0.09799999743700027, (<class 'keras.optimizers.optimizer_v2.gradient_descent.SGD'>, 0.801, 100): 0.09799999743700027, (<class 'keras.optimizers.optimizer_v2.gradient_descent.SGD'>, 0.801, 400): 0.09799999743700027, (<class 'keras.optimizers.optimizer_v2.gradient_descent.SGD'>, 0.801, 700): 0.09799999743700027, (<class 'keras.optimizers.optimizer_v2.rmsprop.RMSprop'>, 0.001, 100): 0.9722999930381775, (<class 'keras.optimizers.optimizer_v2.rmsprop.RMSprop'>, 0.001, 400): 0.9779999852180481, (<class 'keras.optimizers.optimizer_v2.rmsprop.RMSprop'>, 0.001, 700): 0.9743000268936157}\n",
            "313/313 [==============================] - 3s 8ms/step - loss: 285954879663424667648.0000 - accuracy: 0.2853\n",
            "{(<class 'keras.optimizers.optimizer_v2.gradient_descent.SGD'>, 0.001, 100): 0.9315999746322632, (<class 'keras.optimizers.optimizer_v2.gradient_descent.SGD'>, 0.001, 400): 0.7519000172615051, (<class 'keras.optimizers.optimizer_v2.gradient_descent.SGD'>, 0.001, 700): 0.5414999723434448, (<class 'keras.optimizers.optimizer_v2.gradient_descent.SGD'>, 0.401, 100): 0.09799999743700027, (<class 'keras.optimizers.optimizer_v2.gradient_descent.SGD'>, 0.401, 400): 0.09799999743700027, (<class 'keras.optimizers.optimizer_v2.gradient_descent.SGD'>, 0.401, 700): 0.09799999743700027, (<class 'keras.optimizers.optimizer_v2.gradient_descent.SGD'>, 0.801, 100): 0.09799999743700027, (<class 'keras.optimizers.optimizer_v2.gradient_descent.SGD'>, 0.801, 400): 0.09799999743700027, (<class 'keras.optimizers.optimizer_v2.gradient_descent.SGD'>, 0.801, 700): 0.09799999743700027, (<class 'keras.optimizers.optimizer_v2.rmsprop.RMSprop'>, 0.001, 100): 0.9722999930381775, (<class 'keras.optimizers.optimizer_v2.rmsprop.RMSprop'>, 0.001, 400): 0.9779999852180481, (<class 'keras.optimizers.optimizer_v2.rmsprop.RMSprop'>, 0.001, 700): 0.9743000268936157, (<class 'keras.optimizers.optimizer_v2.rmsprop.RMSprop'>, 0.401, 100): 0.28529998660087585}\n",
            "313/313 [==============================] - 3s 8ms/step - loss: 222381557150067458048.0000 - accuracy: 0.1578\n",
            "{(<class 'keras.optimizers.optimizer_v2.gradient_descent.SGD'>, 0.001, 100): 0.9315999746322632, (<class 'keras.optimizers.optimizer_v2.gradient_descent.SGD'>, 0.001, 400): 0.7519000172615051, (<class 'keras.optimizers.optimizer_v2.gradient_descent.SGD'>, 0.001, 700): 0.5414999723434448, (<class 'keras.optimizers.optimizer_v2.gradient_descent.SGD'>, 0.401, 100): 0.09799999743700027, (<class 'keras.optimizers.optimizer_v2.gradient_descent.SGD'>, 0.401, 400): 0.09799999743700027, (<class 'keras.optimizers.optimizer_v2.gradient_descent.SGD'>, 0.401, 700): 0.09799999743700027, (<class 'keras.optimizers.optimizer_v2.gradient_descent.SGD'>, 0.801, 100): 0.09799999743700027, (<class 'keras.optimizers.optimizer_v2.gradient_descent.SGD'>, 0.801, 400): 0.09799999743700027, (<class 'keras.optimizers.optimizer_v2.gradient_descent.SGD'>, 0.801, 700): 0.09799999743700027, (<class 'keras.optimizers.optimizer_v2.rmsprop.RMSprop'>, 0.001, 100): 0.9722999930381775, (<class 'keras.optimizers.optimizer_v2.rmsprop.RMSprop'>, 0.001, 400): 0.9779999852180481, (<class 'keras.optimizers.optimizer_v2.rmsprop.RMSprop'>, 0.001, 700): 0.9743000268936157, (<class 'keras.optimizers.optimizer_v2.rmsprop.RMSprop'>, 0.401, 100): 0.28529998660087585, (<class 'keras.optimizers.optimizer_v2.rmsprop.RMSprop'>, 0.401, 400): 0.15780000388622284}\n",
            "313/313 [==============================] - 3s 8ms/step - loss: 39665013913414533120.0000 - accuracy: 0.6199\n",
            "{(<class 'keras.optimizers.optimizer_v2.gradient_descent.SGD'>, 0.001, 100): 0.9315999746322632, (<class 'keras.optimizers.optimizer_v2.gradient_descent.SGD'>, 0.001, 400): 0.7519000172615051, (<class 'keras.optimizers.optimizer_v2.gradient_descent.SGD'>, 0.001, 700): 0.5414999723434448, (<class 'keras.optimizers.optimizer_v2.gradient_descent.SGD'>, 0.401, 100): 0.09799999743700027, (<class 'keras.optimizers.optimizer_v2.gradient_descent.SGD'>, 0.401, 400): 0.09799999743700027, (<class 'keras.optimizers.optimizer_v2.gradient_descent.SGD'>, 0.401, 700): 0.09799999743700027, (<class 'keras.optimizers.optimizer_v2.gradient_descent.SGD'>, 0.801, 100): 0.09799999743700027, (<class 'keras.optimizers.optimizer_v2.gradient_descent.SGD'>, 0.801, 400): 0.09799999743700027, (<class 'keras.optimizers.optimizer_v2.gradient_descent.SGD'>, 0.801, 700): 0.09799999743700027, (<class 'keras.optimizers.optimizer_v2.rmsprop.RMSprop'>, 0.001, 100): 0.9722999930381775, (<class 'keras.optimizers.optimizer_v2.rmsprop.RMSprop'>, 0.001, 400): 0.9779999852180481, (<class 'keras.optimizers.optimizer_v2.rmsprop.RMSprop'>, 0.001, 700): 0.9743000268936157, (<class 'keras.optimizers.optimizer_v2.rmsprop.RMSprop'>, 0.401, 100): 0.28529998660087585, (<class 'keras.optimizers.optimizer_v2.rmsprop.RMSprop'>, 0.401, 400): 0.15780000388622284, (<class 'keras.optimizers.optimizer_v2.rmsprop.RMSprop'>, 0.401, 700): 0.6198999881744385}\n",
            "313/313 [==============================] - 3s 8ms/step - loss: 30453833554222513379082240.0000 - accuracy: 0.0956\n",
            "{(<class 'keras.optimizers.optimizer_v2.gradient_descent.SGD'>, 0.001, 100): 0.9315999746322632, (<class 'keras.optimizers.optimizer_v2.gradient_descent.SGD'>, 0.001, 400): 0.7519000172615051, (<class 'keras.optimizers.optimizer_v2.gradient_descent.SGD'>, 0.001, 700): 0.5414999723434448, (<class 'keras.optimizers.optimizer_v2.gradient_descent.SGD'>, 0.401, 100): 0.09799999743700027, (<class 'keras.optimizers.optimizer_v2.gradient_descent.SGD'>, 0.401, 400): 0.09799999743700027, (<class 'keras.optimizers.optimizer_v2.gradient_descent.SGD'>, 0.401, 700): 0.09799999743700027, (<class 'keras.optimizers.optimizer_v2.gradient_descent.SGD'>, 0.801, 100): 0.09799999743700027, (<class 'keras.optimizers.optimizer_v2.gradient_descent.SGD'>, 0.801, 400): 0.09799999743700027, (<class 'keras.optimizers.optimizer_v2.gradient_descent.SGD'>, 0.801, 700): 0.09799999743700027, (<class 'keras.optimizers.optimizer_v2.rmsprop.RMSprop'>, 0.001, 100): 0.9722999930381775, (<class 'keras.optimizers.optimizer_v2.rmsprop.RMSprop'>, 0.001, 400): 0.9779999852180481, (<class 'keras.optimizers.optimizer_v2.rmsprop.RMSprop'>, 0.001, 700): 0.9743000268936157, (<class 'keras.optimizers.optimizer_v2.rmsprop.RMSprop'>, 0.401, 100): 0.28529998660087585, (<class 'keras.optimizers.optimizer_v2.rmsprop.RMSprop'>, 0.401, 400): 0.15780000388622284, (<class 'keras.optimizers.optimizer_v2.rmsprop.RMSprop'>, 0.401, 700): 0.6198999881744385, (<class 'keras.optimizers.optimizer_v2.rmsprop.RMSprop'>, 0.801, 100): 0.09560000151395798}\n",
            "313/313 [==============================] - 3s 8ms/step - loss: 192771934334778634928128.0000 - accuracy: 0.2223\n",
            "{(<class 'keras.optimizers.optimizer_v2.gradient_descent.SGD'>, 0.001, 100): 0.9315999746322632, (<class 'keras.optimizers.optimizer_v2.gradient_descent.SGD'>, 0.001, 400): 0.7519000172615051, (<class 'keras.optimizers.optimizer_v2.gradient_descent.SGD'>, 0.001, 700): 0.5414999723434448, (<class 'keras.optimizers.optimizer_v2.gradient_descent.SGD'>, 0.401, 100): 0.09799999743700027, (<class 'keras.optimizers.optimizer_v2.gradient_descent.SGD'>, 0.401, 400): 0.09799999743700027, (<class 'keras.optimizers.optimizer_v2.gradient_descent.SGD'>, 0.401, 700): 0.09799999743700027, (<class 'keras.optimizers.optimizer_v2.gradient_descent.SGD'>, 0.801, 100): 0.09799999743700027, (<class 'keras.optimizers.optimizer_v2.gradient_descent.SGD'>, 0.801, 400): 0.09799999743700027, (<class 'keras.optimizers.optimizer_v2.gradient_descent.SGD'>, 0.801, 700): 0.09799999743700027, (<class 'keras.optimizers.optimizer_v2.rmsprop.RMSprop'>, 0.001, 100): 0.9722999930381775, (<class 'keras.optimizers.optimizer_v2.rmsprop.RMSprop'>, 0.001, 400): 0.9779999852180481, (<class 'keras.optimizers.optimizer_v2.rmsprop.RMSprop'>, 0.001, 700): 0.9743000268936157, (<class 'keras.optimizers.optimizer_v2.rmsprop.RMSprop'>, 0.401, 100): 0.28529998660087585, (<class 'keras.optimizers.optimizer_v2.rmsprop.RMSprop'>, 0.401, 400): 0.15780000388622284, (<class 'keras.optimizers.optimizer_v2.rmsprop.RMSprop'>, 0.401, 700): 0.6198999881744385, (<class 'keras.optimizers.optimizer_v2.rmsprop.RMSprop'>, 0.801, 100): 0.09560000151395798, (<class 'keras.optimizers.optimizer_v2.rmsprop.RMSprop'>, 0.801, 400): 0.2222999930381775}\n",
            "313/313 [==============================] - 3s 8ms/step - loss: 444390783704541687709696.0000 - accuracy: 0.0980\n",
            "{(<class 'keras.optimizers.optimizer_v2.gradient_descent.SGD'>, 0.001, 100): 0.9315999746322632, (<class 'keras.optimizers.optimizer_v2.gradient_descent.SGD'>, 0.001, 400): 0.7519000172615051, (<class 'keras.optimizers.optimizer_v2.gradient_descent.SGD'>, 0.001, 700): 0.5414999723434448, (<class 'keras.optimizers.optimizer_v2.gradient_descent.SGD'>, 0.401, 100): 0.09799999743700027, (<class 'keras.optimizers.optimizer_v2.gradient_descent.SGD'>, 0.401, 400): 0.09799999743700027, (<class 'keras.optimizers.optimizer_v2.gradient_descent.SGD'>, 0.401, 700): 0.09799999743700027, (<class 'keras.optimizers.optimizer_v2.gradient_descent.SGD'>, 0.801, 100): 0.09799999743700027, (<class 'keras.optimizers.optimizer_v2.gradient_descent.SGD'>, 0.801, 400): 0.09799999743700027, (<class 'keras.optimizers.optimizer_v2.gradient_descent.SGD'>, 0.801, 700): 0.09799999743700027, (<class 'keras.optimizers.optimizer_v2.rmsprop.RMSprop'>, 0.001, 100): 0.9722999930381775, (<class 'keras.optimizers.optimizer_v2.rmsprop.RMSprop'>, 0.001, 400): 0.9779999852180481, (<class 'keras.optimizers.optimizer_v2.rmsprop.RMSprop'>, 0.001, 700): 0.9743000268936157, (<class 'keras.optimizers.optimizer_v2.rmsprop.RMSprop'>, 0.401, 100): 0.28529998660087585, (<class 'keras.optimizers.optimizer_v2.rmsprop.RMSprop'>, 0.401, 400): 0.15780000388622284, (<class 'keras.optimizers.optimizer_v2.rmsprop.RMSprop'>, 0.401, 700): 0.6198999881744385, (<class 'keras.optimizers.optimizer_v2.rmsprop.RMSprop'>, 0.801, 100): 0.09560000151395798, (<class 'keras.optimizers.optimizer_v2.rmsprop.RMSprop'>, 0.801, 400): 0.2222999930381775, (<class 'keras.optimizers.optimizer_v2.rmsprop.RMSprop'>, 0.801, 700): 0.09799999743700027}\n"
          ]
        },
        {
          "output_type": "stream",
          "name": "stderr",
          "text": [
            "/usr/local/lib/python3.7/dist-packages/keras/optimizers/optimizer_v2/adam.py:110: UserWarning: The `lr` argument is deprecated, use `learning_rate` instead.\n",
            "  super(Adam, self).__init__(name, **kwargs)\n"
          ]
        },
        {
          "output_type": "stream",
          "name": "stdout",
          "text": [
            "313/313 [==============================] - 3s 8ms/step - loss: 0.0833 - accuracy: 0.9742\n",
            "{(<class 'keras.optimizers.optimizer_v2.gradient_descent.SGD'>, 0.001, 100): 0.9315999746322632, (<class 'keras.optimizers.optimizer_v2.gradient_descent.SGD'>, 0.001, 400): 0.7519000172615051, (<class 'keras.optimizers.optimizer_v2.gradient_descent.SGD'>, 0.001, 700): 0.5414999723434448, (<class 'keras.optimizers.optimizer_v2.gradient_descent.SGD'>, 0.401, 100): 0.09799999743700027, (<class 'keras.optimizers.optimizer_v2.gradient_descent.SGD'>, 0.401, 400): 0.09799999743700027, (<class 'keras.optimizers.optimizer_v2.gradient_descent.SGD'>, 0.401, 700): 0.09799999743700027, (<class 'keras.optimizers.optimizer_v2.gradient_descent.SGD'>, 0.801, 100): 0.09799999743700027, (<class 'keras.optimizers.optimizer_v2.gradient_descent.SGD'>, 0.801, 400): 0.09799999743700027, (<class 'keras.optimizers.optimizer_v2.gradient_descent.SGD'>, 0.801, 700): 0.09799999743700027, (<class 'keras.optimizers.optimizer_v2.rmsprop.RMSprop'>, 0.001, 100): 0.9722999930381775, (<class 'keras.optimizers.optimizer_v2.rmsprop.RMSprop'>, 0.001, 400): 0.9779999852180481, (<class 'keras.optimizers.optimizer_v2.rmsprop.RMSprop'>, 0.001, 700): 0.9743000268936157, (<class 'keras.optimizers.optimizer_v2.rmsprop.RMSprop'>, 0.401, 100): 0.28529998660087585, (<class 'keras.optimizers.optimizer_v2.rmsprop.RMSprop'>, 0.401, 400): 0.15780000388622284, (<class 'keras.optimizers.optimizer_v2.rmsprop.RMSprop'>, 0.401, 700): 0.6198999881744385, (<class 'keras.optimizers.optimizer_v2.rmsprop.RMSprop'>, 0.801, 100): 0.09560000151395798, (<class 'keras.optimizers.optimizer_v2.rmsprop.RMSprop'>, 0.801, 400): 0.2222999930381775, (<class 'keras.optimizers.optimizer_v2.rmsprop.RMSprop'>, 0.801, 700): 0.09799999743700027, (<class 'keras.optimizers.optimizer_v2.adam.Adam'>, 0.001, 100): 0.9742000102996826}\n",
            "313/313 [==============================] - 3s 8ms/step - loss: 0.0758 - accuracy: 0.9790\n",
            "{(<class 'keras.optimizers.optimizer_v2.gradient_descent.SGD'>, 0.001, 100): 0.9315999746322632, (<class 'keras.optimizers.optimizer_v2.gradient_descent.SGD'>, 0.001, 400): 0.7519000172615051, (<class 'keras.optimizers.optimizer_v2.gradient_descent.SGD'>, 0.001, 700): 0.5414999723434448, (<class 'keras.optimizers.optimizer_v2.gradient_descent.SGD'>, 0.401, 100): 0.09799999743700027, (<class 'keras.optimizers.optimizer_v2.gradient_descent.SGD'>, 0.401, 400): 0.09799999743700027, (<class 'keras.optimizers.optimizer_v2.gradient_descent.SGD'>, 0.401, 700): 0.09799999743700027, (<class 'keras.optimizers.optimizer_v2.gradient_descent.SGD'>, 0.801, 100): 0.09799999743700027, (<class 'keras.optimizers.optimizer_v2.gradient_descent.SGD'>, 0.801, 400): 0.09799999743700027, (<class 'keras.optimizers.optimizer_v2.gradient_descent.SGD'>, 0.801, 700): 0.09799999743700027, (<class 'keras.optimizers.optimizer_v2.rmsprop.RMSprop'>, 0.001, 100): 0.9722999930381775, (<class 'keras.optimizers.optimizer_v2.rmsprop.RMSprop'>, 0.001, 400): 0.9779999852180481, (<class 'keras.optimizers.optimizer_v2.rmsprop.RMSprop'>, 0.001, 700): 0.9743000268936157, (<class 'keras.optimizers.optimizer_v2.rmsprop.RMSprop'>, 0.401, 100): 0.28529998660087585, (<class 'keras.optimizers.optimizer_v2.rmsprop.RMSprop'>, 0.401, 400): 0.15780000388622284, (<class 'keras.optimizers.optimizer_v2.rmsprop.RMSprop'>, 0.401, 700): 0.6198999881744385, (<class 'keras.optimizers.optimizer_v2.rmsprop.RMSprop'>, 0.801, 100): 0.09560000151395798, (<class 'keras.optimizers.optimizer_v2.rmsprop.RMSprop'>, 0.801, 400): 0.2222999930381775, (<class 'keras.optimizers.optimizer_v2.rmsprop.RMSprop'>, 0.801, 700): 0.09799999743700027, (<class 'keras.optimizers.optimizer_v2.adam.Adam'>, 0.001, 100): 0.9742000102996826, (<class 'keras.optimizers.optimizer_v2.adam.Adam'>, 0.001, 400): 0.9789999723434448}\n",
            "313/313 [==============================] - 3s 8ms/step - loss: 0.0776 - accuracy: 0.9747\n",
            "{(<class 'keras.optimizers.optimizer_v2.gradient_descent.SGD'>, 0.001, 100): 0.9315999746322632, (<class 'keras.optimizers.optimizer_v2.gradient_descent.SGD'>, 0.001, 400): 0.7519000172615051, (<class 'keras.optimizers.optimizer_v2.gradient_descent.SGD'>, 0.001, 700): 0.5414999723434448, (<class 'keras.optimizers.optimizer_v2.gradient_descent.SGD'>, 0.401, 100): 0.09799999743700027, (<class 'keras.optimizers.optimizer_v2.gradient_descent.SGD'>, 0.401, 400): 0.09799999743700027, (<class 'keras.optimizers.optimizer_v2.gradient_descent.SGD'>, 0.401, 700): 0.09799999743700027, (<class 'keras.optimizers.optimizer_v2.gradient_descent.SGD'>, 0.801, 100): 0.09799999743700027, (<class 'keras.optimizers.optimizer_v2.gradient_descent.SGD'>, 0.801, 400): 0.09799999743700027, (<class 'keras.optimizers.optimizer_v2.gradient_descent.SGD'>, 0.801, 700): 0.09799999743700027, (<class 'keras.optimizers.optimizer_v2.rmsprop.RMSprop'>, 0.001, 100): 0.9722999930381775, (<class 'keras.optimizers.optimizer_v2.rmsprop.RMSprop'>, 0.001, 400): 0.9779999852180481, (<class 'keras.optimizers.optimizer_v2.rmsprop.RMSprop'>, 0.001, 700): 0.9743000268936157, (<class 'keras.optimizers.optimizer_v2.rmsprop.RMSprop'>, 0.401, 100): 0.28529998660087585, (<class 'keras.optimizers.optimizer_v2.rmsprop.RMSprop'>, 0.401, 400): 0.15780000388622284, (<class 'keras.optimizers.optimizer_v2.rmsprop.RMSprop'>, 0.401, 700): 0.6198999881744385, (<class 'keras.optimizers.optimizer_v2.rmsprop.RMSprop'>, 0.801, 100): 0.09560000151395798, (<class 'keras.optimizers.optimizer_v2.rmsprop.RMSprop'>, 0.801, 400): 0.2222999930381775, (<class 'keras.optimizers.optimizer_v2.rmsprop.RMSprop'>, 0.801, 700): 0.09799999743700027, (<class 'keras.optimizers.optimizer_v2.adam.Adam'>, 0.001, 100): 0.9742000102996826, (<class 'keras.optimizers.optimizer_v2.adam.Adam'>, 0.001, 400): 0.9789999723434448, (<class 'keras.optimizers.optimizer_v2.adam.Adam'>, 0.001, 700): 0.9746999740600586}\n",
            "313/313 [==============================] - 3s 10ms/step - loss: nan - accuracy: 0.0980\n",
            "{(<class 'keras.optimizers.optimizer_v2.gradient_descent.SGD'>, 0.001, 100): 0.9315999746322632, (<class 'keras.optimizers.optimizer_v2.gradient_descent.SGD'>, 0.001, 400): 0.7519000172615051, (<class 'keras.optimizers.optimizer_v2.gradient_descent.SGD'>, 0.001, 700): 0.5414999723434448, (<class 'keras.optimizers.optimizer_v2.gradient_descent.SGD'>, 0.401, 100): 0.09799999743700027, (<class 'keras.optimizers.optimizer_v2.gradient_descent.SGD'>, 0.401, 400): 0.09799999743700027, (<class 'keras.optimizers.optimizer_v2.gradient_descent.SGD'>, 0.401, 700): 0.09799999743700027, (<class 'keras.optimizers.optimizer_v2.gradient_descent.SGD'>, 0.801, 100): 0.09799999743700027, (<class 'keras.optimizers.optimizer_v2.gradient_descent.SGD'>, 0.801, 400): 0.09799999743700027, (<class 'keras.optimizers.optimizer_v2.gradient_descent.SGD'>, 0.801, 700): 0.09799999743700027, (<class 'keras.optimizers.optimizer_v2.rmsprop.RMSprop'>, 0.001, 100): 0.9722999930381775, (<class 'keras.optimizers.optimizer_v2.rmsprop.RMSprop'>, 0.001, 400): 0.9779999852180481, (<class 'keras.optimizers.optimizer_v2.rmsprop.RMSprop'>, 0.001, 700): 0.9743000268936157, (<class 'keras.optimizers.optimizer_v2.rmsprop.RMSprop'>, 0.401, 100): 0.28529998660087585, (<class 'keras.optimizers.optimizer_v2.rmsprop.RMSprop'>, 0.401, 400): 0.15780000388622284, (<class 'keras.optimizers.optimizer_v2.rmsprop.RMSprop'>, 0.401, 700): 0.6198999881744385, (<class 'keras.optimizers.optimizer_v2.rmsprop.RMSprop'>, 0.801, 100): 0.09560000151395798, (<class 'keras.optimizers.optimizer_v2.rmsprop.RMSprop'>, 0.801, 400): 0.2222999930381775, (<class 'keras.optimizers.optimizer_v2.rmsprop.RMSprop'>, 0.801, 700): 0.09799999743700027, (<class 'keras.optimizers.optimizer_v2.adam.Adam'>, 0.001, 100): 0.9742000102996826, (<class 'keras.optimizers.optimizer_v2.adam.Adam'>, 0.001, 400): 0.9789999723434448, (<class 'keras.optimizers.optimizer_v2.adam.Adam'>, 0.001, 700): 0.9746999740600586, (<class 'keras.optimizers.optimizer_v2.adam.Adam'>, 0.401, 100): 0.09799999743700027}\n",
            "313/313 [==============================] - 3s 8ms/step - loss: nan - accuracy: 0.0980\n",
            "{(<class 'keras.optimizers.optimizer_v2.gradient_descent.SGD'>, 0.001, 100): 0.9315999746322632, (<class 'keras.optimizers.optimizer_v2.gradient_descent.SGD'>, 0.001, 400): 0.7519000172615051, (<class 'keras.optimizers.optimizer_v2.gradient_descent.SGD'>, 0.001, 700): 0.5414999723434448, (<class 'keras.optimizers.optimizer_v2.gradient_descent.SGD'>, 0.401, 100): 0.09799999743700027, (<class 'keras.optimizers.optimizer_v2.gradient_descent.SGD'>, 0.401, 400): 0.09799999743700027, (<class 'keras.optimizers.optimizer_v2.gradient_descent.SGD'>, 0.401, 700): 0.09799999743700027, (<class 'keras.optimizers.optimizer_v2.gradient_descent.SGD'>, 0.801, 100): 0.09799999743700027, (<class 'keras.optimizers.optimizer_v2.gradient_descent.SGD'>, 0.801, 400): 0.09799999743700027, (<class 'keras.optimizers.optimizer_v2.gradient_descent.SGD'>, 0.801, 700): 0.09799999743700027, (<class 'keras.optimizers.optimizer_v2.rmsprop.RMSprop'>, 0.001, 100): 0.9722999930381775, (<class 'keras.optimizers.optimizer_v2.rmsprop.RMSprop'>, 0.001, 400): 0.9779999852180481, (<class 'keras.optimizers.optimizer_v2.rmsprop.RMSprop'>, 0.001, 700): 0.9743000268936157, (<class 'keras.optimizers.optimizer_v2.rmsprop.RMSprop'>, 0.401, 100): 0.28529998660087585, (<class 'keras.optimizers.optimizer_v2.rmsprop.RMSprop'>, 0.401, 400): 0.15780000388622284, (<class 'keras.optimizers.optimizer_v2.rmsprop.RMSprop'>, 0.401, 700): 0.6198999881744385, (<class 'keras.optimizers.optimizer_v2.rmsprop.RMSprop'>, 0.801, 100): 0.09560000151395798, (<class 'keras.optimizers.optimizer_v2.rmsprop.RMSprop'>, 0.801, 400): 0.2222999930381775, (<class 'keras.optimizers.optimizer_v2.rmsprop.RMSprop'>, 0.801, 700): 0.09799999743700027, (<class 'keras.optimizers.optimizer_v2.adam.Adam'>, 0.001, 100): 0.9742000102996826, (<class 'keras.optimizers.optimizer_v2.adam.Adam'>, 0.001, 400): 0.9789999723434448, (<class 'keras.optimizers.optimizer_v2.adam.Adam'>, 0.001, 700): 0.9746999740600586, (<class 'keras.optimizers.optimizer_v2.adam.Adam'>, 0.401, 100): 0.09799999743700027, (<class 'keras.optimizers.optimizer_v2.adam.Adam'>, 0.401, 400): 0.09799999743700027}\n",
            "313/313 [==============================] - 3s 8ms/step - loss: nan - accuracy: 0.0980\n",
            "{(<class 'keras.optimizers.optimizer_v2.gradient_descent.SGD'>, 0.001, 100): 0.9315999746322632, (<class 'keras.optimizers.optimizer_v2.gradient_descent.SGD'>, 0.001, 400): 0.7519000172615051, (<class 'keras.optimizers.optimizer_v2.gradient_descent.SGD'>, 0.001, 700): 0.5414999723434448, (<class 'keras.optimizers.optimizer_v2.gradient_descent.SGD'>, 0.401, 100): 0.09799999743700027, (<class 'keras.optimizers.optimizer_v2.gradient_descent.SGD'>, 0.401, 400): 0.09799999743700027, (<class 'keras.optimizers.optimizer_v2.gradient_descent.SGD'>, 0.401, 700): 0.09799999743700027, (<class 'keras.optimizers.optimizer_v2.gradient_descent.SGD'>, 0.801, 100): 0.09799999743700027, (<class 'keras.optimizers.optimizer_v2.gradient_descent.SGD'>, 0.801, 400): 0.09799999743700027, (<class 'keras.optimizers.optimizer_v2.gradient_descent.SGD'>, 0.801, 700): 0.09799999743700027, (<class 'keras.optimizers.optimizer_v2.rmsprop.RMSprop'>, 0.001, 100): 0.9722999930381775, (<class 'keras.optimizers.optimizer_v2.rmsprop.RMSprop'>, 0.001, 400): 0.9779999852180481, (<class 'keras.optimizers.optimizer_v2.rmsprop.RMSprop'>, 0.001, 700): 0.9743000268936157, (<class 'keras.optimizers.optimizer_v2.rmsprop.RMSprop'>, 0.401, 100): 0.28529998660087585, (<class 'keras.optimizers.optimizer_v2.rmsprop.RMSprop'>, 0.401, 400): 0.15780000388622284, (<class 'keras.optimizers.optimizer_v2.rmsprop.RMSprop'>, 0.401, 700): 0.6198999881744385, (<class 'keras.optimizers.optimizer_v2.rmsprop.RMSprop'>, 0.801, 100): 0.09560000151395798, (<class 'keras.optimizers.optimizer_v2.rmsprop.RMSprop'>, 0.801, 400): 0.2222999930381775, (<class 'keras.optimizers.optimizer_v2.rmsprop.RMSprop'>, 0.801, 700): 0.09799999743700027, (<class 'keras.optimizers.optimizer_v2.adam.Adam'>, 0.001, 100): 0.9742000102996826, (<class 'keras.optimizers.optimizer_v2.adam.Adam'>, 0.001, 400): 0.9789999723434448, (<class 'keras.optimizers.optimizer_v2.adam.Adam'>, 0.001, 700): 0.9746999740600586, (<class 'keras.optimizers.optimizer_v2.adam.Adam'>, 0.401, 100): 0.09799999743700027, (<class 'keras.optimizers.optimizer_v2.adam.Adam'>, 0.401, 400): 0.09799999743700027, (<class 'keras.optimizers.optimizer_v2.adam.Adam'>, 0.401, 700): 0.09799999743700027}\n",
            "313/313 [==============================] - 3s 8ms/step - loss: nan - accuracy: 0.0980\n",
            "{(<class 'keras.optimizers.optimizer_v2.gradient_descent.SGD'>, 0.001, 100): 0.9315999746322632, (<class 'keras.optimizers.optimizer_v2.gradient_descent.SGD'>, 0.001, 400): 0.7519000172615051, (<class 'keras.optimizers.optimizer_v2.gradient_descent.SGD'>, 0.001, 700): 0.5414999723434448, (<class 'keras.optimizers.optimizer_v2.gradient_descent.SGD'>, 0.401, 100): 0.09799999743700027, (<class 'keras.optimizers.optimizer_v2.gradient_descent.SGD'>, 0.401, 400): 0.09799999743700027, (<class 'keras.optimizers.optimizer_v2.gradient_descent.SGD'>, 0.401, 700): 0.09799999743700027, (<class 'keras.optimizers.optimizer_v2.gradient_descent.SGD'>, 0.801, 100): 0.09799999743700027, (<class 'keras.optimizers.optimizer_v2.gradient_descent.SGD'>, 0.801, 400): 0.09799999743700027, (<class 'keras.optimizers.optimizer_v2.gradient_descent.SGD'>, 0.801, 700): 0.09799999743700027, (<class 'keras.optimizers.optimizer_v2.rmsprop.RMSprop'>, 0.001, 100): 0.9722999930381775, (<class 'keras.optimizers.optimizer_v2.rmsprop.RMSprop'>, 0.001, 400): 0.9779999852180481, (<class 'keras.optimizers.optimizer_v2.rmsprop.RMSprop'>, 0.001, 700): 0.9743000268936157, (<class 'keras.optimizers.optimizer_v2.rmsprop.RMSprop'>, 0.401, 100): 0.28529998660087585, (<class 'keras.optimizers.optimizer_v2.rmsprop.RMSprop'>, 0.401, 400): 0.15780000388622284, (<class 'keras.optimizers.optimizer_v2.rmsprop.RMSprop'>, 0.401, 700): 0.6198999881744385, (<class 'keras.optimizers.optimizer_v2.rmsprop.RMSprop'>, 0.801, 100): 0.09560000151395798, (<class 'keras.optimizers.optimizer_v2.rmsprop.RMSprop'>, 0.801, 400): 0.2222999930381775, (<class 'keras.optimizers.optimizer_v2.rmsprop.RMSprop'>, 0.801, 700): 0.09799999743700027, (<class 'keras.optimizers.optimizer_v2.adam.Adam'>, 0.001, 100): 0.9742000102996826, (<class 'keras.optimizers.optimizer_v2.adam.Adam'>, 0.001, 400): 0.9789999723434448, (<class 'keras.optimizers.optimizer_v2.adam.Adam'>, 0.001, 700): 0.9746999740600586, (<class 'keras.optimizers.optimizer_v2.adam.Adam'>, 0.401, 100): 0.09799999743700027, (<class 'keras.optimizers.optimizer_v2.adam.Adam'>, 0.401, 400): 0.09799999743700027, (<class 'keras.optimizers.optimizer_v2.adam.Adam'>, 0.401, 700): 0.09799999743700027, (<class 'keras.optimizers.optimizer_v2.adam.Adam'>, 0.801, 100): 0.09799999743700027}\n",
            "313/313 [==============================] - 3s 8ms/step - loss: nan - accuracy: 0.0980\n",
            "{(<class 'keras.optimizers.optimizer_v2.gradient_descent.SGD'>, 0.001, 100): 0.9315999746322632, (<class 'keras.optimizers.optimizer_v2.gradient_descent.SGD'>, 0.001, 400): 0.7519000172615051, (<class 'keras.optimizers.optimizer_v2.gradient_descent.SGD'>, 0.001, 700): 0.5414999723434448, (<class 'keras.optimizers.optimizer_v2.gradient_descent.SGD'>, 0.401, 100): 0.09799999743700027, (<class 'keras.optimizers.optimizer_v2.gradient_descent.SGD'>, 0.401, 400): 0.09799999743700027, (<class 'keras.optimizers.optimizer_v2.gradient_descent.SGD'>, 0.401, 700): 0.09799999743700027, (<class 'keras.optimizers.optimizer_v2.gradient_descent.SGD'>, 0.801, 100): 0.09799999743700027, (<class 'keras.optimizers.optimizer_v2.gradient_descent.SGD'>, 0.801, 400): 0.09799999743700027, (<class 'keras.optimizers.optimizer_v2.gradient_descent.SGD'>, 0.801, 700): 0.09799999743700027, (<class 'keras.optimizers.optimizer_v2.rmsprop.RMSprop'>, 0.001, 100): 0.9722999930381775, (<class 'keras.optimizers.optimizer_v2.rmsprop.RMSprop'>, 0.001, 400): 0.9779999852180481, (<class 'keras.optimizers.optimizer_v2.rmsprop.RMSprop'>, 0.001, 700): 0.9743000268936157, (<class 'keras.optimizers.optimizer_v2.rmsprop.RMSprop'>, 0.401, 100): 0.28529998660087585, (<class 'keras.optimizers.optimizer_v2.rmsprop.RMSprop'>, 0.401, 400): 0.15780000388622284, (<class 'keras.optimizers.optimizer_v2.rmsprop.RMSprop'>, 0.401, 700): 0.6198999881744385, (<class 'keras.optimizers.optimizer_v2.rmsprop.RMSprop'>, 0.801, 100): 0.09560000151395798, (<class 'keras.optimizers.optimizer_v2.rmsprop.RMSprop'>, 0.801, 400): 0.2222999930381775, (<class 'keras.optimizers.optimizer_v2.rmsprop.RMSprop'>, 0.801, 700): 0.09799999743700027, (<class 'keras.optimizers.optimizer_v2.adam.Adam'>, 0.001, 100): 0.9742000102996826, (<class 'keras.optimizers.optimizer_v2.adam.Adam'>, 0.001, 400): 0.9789999723434448, (<class 'keras.optimizers.optimizer_v2.adam.Adam'>, 0.001, 700): 0.9746999740600586, (<class 'keras.optimizers.optimizer_v2.adam.Adam'>, 0.401, 100): 0.09799999743700027, (<class 'keras.optimizers.optimizer_v2.adam.Adam'>, 0.401, 400): 0.09799999743700027, (<class 'keras.optimizers.optimizer_v2.adam.Adam'>, 0.401, 700): 0.09799999743700027, (<class 'keras.optimizers.optimizer_v2.adam.Adam'>, 0.801, 100): 0.09799999743700027, (<class 'keras.optimizers.optimizer_v2.adam.Adam'>, 0.801, 400): 0.09799999743700027}\n",
            "313/313 [==============================] - 3s 8ms/step - loss: nan - accuracy: 0.0980\n",
            "{(<class 'keras.optimizers.optimizer_v2.gradient_descent.SGD'>, 0.001, 100): 0.9315999746322632, (<class 'keras.optimizers.optimizer_v2.gradient_descent.SGD'>, 0.001, 400): 0.7519000172615051, (<class 'keras.optimizers.optimizer_v2.gradient_descent.SGD'>, 0.001, 700): 0.5414999723434448, (<class 'keras.optimizers.optimizer_v2.gradient_descent.SGD'>, 0.401, 100): 0.09799999743700027, (<class 'keras.optimizers.optimizer_v2.gradient_descent.SGD'>, 0.401, 400): 0.09799999743700027, (<class 'keras.optimizers.optimizer_v2.gradient_descent.SGD'>, 0.401, 700): 0.09799999743700027, (<class 'keras.optimizers.optimizer_v2.gradient_descent.SGD'>, 0.801, 100): 0.09799999743700027, (<class 'keras.optimizers.optimizer_v2.gradient_descent.SGD'>, 0.801, 400): 0.09799999743700027, (<class 'keras.optimizers.optimizer_v2.gradient_descent.SGD'>, 0.801, 700): 0.09799999743700027, (<class 'keras.optimizers.optimizer_v2.rmsprop.RMSprop'>, 0.001, 100): 0.9722999930381775, (<class 'keras.optimizers.optimizer_v2.rmsprop.RMSprop'>, 0.001, 400): 0.9779999852180481, (<class 'keras.optimizers.optimizer_v2.rmsprop.RMSprop'>, 0.001, 700): 0.9743000268936157, (<class 'keras.optimizers.optimizer_v2.rmsprop.RMSprop'>, 0.401, 100): 0.28529998660087585, (<class 'keras.optimizers.optimizer_v2.rmsprop.RMSprop'>, 0.401, 400): 0.15780000388622284, (<class 'keras.optimizers.optimizer_v2.rmsprop.RMSprop'>, 0.401, 700): 0.6198999881744385, (<class 'keras.optimizers.optimizer_v2.rmsprop.RMSprop'>, 0.801, 100): 0.09560000151395798, (<class 'keras.optimizers.optimizer_v2.rmsprop.RMSprop'>, 0.801, 400): 0.2222999930381775, (<class 'keras.optimizers.optimizer_v2.rmsprop.RMSprop'>, 0.801, 700): 0.09799999743700027, (<class 'keras.optimizers.optimizer_v2.adam.Adam'>, 0.001, 100): 0.9742000102996826, (<class 'keras.optimizers.optimizer_v2.adam.Adam'>, 0.001, 400): 0.9789999723434448, (<class 'keras.optimizers.optimizer_v2.adam.Adam'>, 0.001, 700): 0.9746999740600586, (<class 'keras.optimizers.optimizer_v2.adam.Adam'>, 0.401, 100): 0.09799999743700027, (<class 'keras.optimizers.optimizer_v2.adam.Adam'>, 0.401, 400): 0.09799999743700027, (<class 'keras.optimizers.optimizer_v2.adam.Adam'>, 0.401, 700): 0.09799999743700027, (<class 'keras.optimizers.optimizer_v2.adam.Adam'>, 0.801, 100): 0.09799999743700027, (<class 'keras.optimizers.optimizer_v2.adam.Adam'>, 0.801, 400): 0.09799999743700027, (<class 'keras.optimizers.optimizer_v2.adam.Adam'>, 0.801, 700): 0.09799999743700027}\n"
          ]
        }
      ],
      "source": [
        "acc={}\n",
        "for f in a:\n",
        "    for i in np.arange(0.001,1,0.4):\n",
        "        for j in np.arange(100,800,300):\n",
        "            model1 = Sequential()\n",
        "            model1.add(Conv2D(10, kernel_size=3, padding=\"same\", input_shape=(1,28,28)))\n",
        "            model1.add(Conv2D(20, kernel_size=3, padding=\"same\"))\n",
        "            model1.add(MaxPooling2D(pool_size=(3, 3), strides=(2, 2), padding=\"same\"))\n",
        "            model1.add(Conv2D(30, kernel_size=3, padding=\"same\"))\n",
        "            model1.add(Conv2D(40, kernel_size=3, padding=\"same\"))\n",
        "            model1.add(MaxPooling2D(pool_size=(3, 3), strides=(2, 2), padding=\"same\"))\n",
        "            model1.add(Conv2D(50, kernel_size=3, padding=\"same\"))\n",
        "            model1.add(Conv2D(60, kernel_size=3, padding=\"same\"))\n",
        "            model1.add(MaxPooling2D(pool_size=(3, 3), strides=(2, 2), padding=\"same\"))\n",
        "            model1.add(Conv2D(70, kernel_size=3, padding=\"same\"))\n",
        "            model1.add(Conv2D(80, kernel_size=3, padding=\"same\"))\n",
        "            model1.add(MaxPooling2D(pool_size=(3, 3), strides=(2, 2), padding=\"same\"))\n",
        "            model1.add(Conv2D(90, kernel_size=3, padding=\"same\"))\n",
        "            model1.add(Conv2D(100, kernel_size=3, padding=\"same\"))\n",
        "            model1.add(Flatten())\n",
        "            model1.add(Dense(10))\n",
        "            model1.add(Activation('softmax'))\n",
        "            model1.compile(loss='categorical_crossentropy', optimizer=f(lr=i), metrics=['accuracy'])\n",
        "            model1.fit(X_train, Y_train, batch_size=j, epochs=4,verbose=0)\n",
        "            score = model1.evaluate(X_test, Y_test)\n",
        "            acc[(f,i,j)]=score[1]\n",
        "            print(acc)"
      ],
      "id": "6e58ef7c"
    },
    {
      "cell_type": "code",
      "execution_count": 20,
      "metadata": {
        "id": "2031d08d"
      },
      "outputs": [],
      "source": [
        "l=[]\n",
        "for i in \"{(<class 'keras.optimizers.optimizer_v2.gradient_descent.SGD'>, 0.001, 100): 0.9315999746322632, (<class 'keras.optimizers.optimizer_v2.gradient_descent.SGD'>, 0.001, 400): 0.7519000172615051, (<class 'keras.optimizers.optimizer_v2.gradient_descent.SGD'>, 0.001, 700): 0.5414999723434448, (<class 'keras.optimizers.optimizer_v2.gradient_descent.SGD'>, 0.401, 100): 0.09799999743700027, (<class 'keras.optimizers.optimizer_v2.gradient_descent.SGD'>, 0.401, 400): 0.09799999743700027, (<class 'keras.optimizers.optimizer_v2.gradient_descent.SGD'>, 0.401, 700): 0.09799999743700027, (<class 'keras.optimizers.optimizer_v2.gradient_descent.SGD'>, 0.801, 100): 0.09799999743700027, (<class 'keras.optimizers.optimizer_v2.gradient_descent.SGD'>, 0.801, 400): 0.09799999743700027, (<class 'keras.optimizers.optimizer_v2.gradient_descent.SGD'>, 0.801, 700): 0.09799999743700027, (<class 'keras.optimizers.optimizer_v2.rmsprop.RMSprop'>, 0.001, 100): 0.9722999930381775, (<class 'keras.optimizers.optimizer_v2.rmsprop.RMSprop'>, 0.001, 400): 0.9779999852180481, (<class 'keras.optimizers.optimizer_v2.rmsprop.RMSprop'>, 0.001, 700): 0.9743000268936157, (<class 'keras.optimizers.optimizer_v2.rmsprop.RMSprop'>, 0.401, 100): 0.28529998660087585, (<class 'keras.optimizers.optimizer_v2.rmsprop.RMSprop'>, 0.401, 400): 0.15780000388622284, (<class 'keras.optimizers.optimizer_v2.rmsprop.RMSprop'>, 0.401, 700): 0.6198999881744385, (<class 'keras.optimizers.optimizer_v2.rmsprop.RMSprop'>, 0.801, 100): 0.09560000151395798, (<class 'keras.optimizers.optimizer_v2.rmsprop.RMSprop'>, 0.801, 400): 0.2222999930381775, (<class 'keras.optimizers.optimizer_v2.rmsprop.RMSprop'>, 0.801, 700): 0.09799999743700027, (<class 'keras.optimizers.optimizer_v2.adam.Adam'>, 0.001, 100): 0.9742000102996826, (<class 'keras.optimizers.optimizer_v2.adam.Adam'>, 0.001, 400): 0.9789999723434448, (<class 'keras.optimizers.optimizer_v2.adam.Adam'>, 0.001, 700): 0.9746999740600586, (<class 'keras.optimizers.optimizer_v2.adam.Adam'>, 0.401, 100): 0.09799999743700027, (<class 'keras.optimizers.optimizer_v2.adam.Adam'>, 0.401, 400): 0.09799999743700027, (<class 'keras.optimizers.optimizer_v2.adam.Adam'>, 0.401, 700): 0.09799999743700027, (<class 'keras.optimizers.optimizer_v2.adam.Adam'>, 0.801, 100): 0.09799999743700027, (<class 'keras.optimizers.optimizer_v2.adam.Adam'>, 0.801, 400): 0.09799999743700027, (<class 'keras.optimizers.optimizer_v2.adam.Adam'>, 0.801, 700): 0.09799999743700027}\".split(\", (\"):\n",
        "    l.append(i)\n",
        "l[0]=l[0][1:]\n",
        "l[len(l)-1]=l[len(l)-1][:len(l[len(l)-1])]"
      ],
      "id": "2031d08d"
    },
    {
      "cell_type": "code",
      "execution_count": 11,
      "metadata": {
        "id": "867785d5"
      },
      "outputs": [],
      "source": [
        "mod=[]\n",
        "ac=[]\n",
        "for i in l:\n",
        "    a1,b=i.split(\":\")\n",
        "    mod.append(a1[len(a1)-19:len(a1)-1])\n",
        "    ac.append(float(b[:len(b)-2].strip()))\n",
        "mod[0]=mod[0][1:]"
      ],
      "id": "867785d5"
    },
    {
      "cell_type": "code",
      "execution_count": 12,
      "metadata": {
        "colab": {
          "base_uri": "https://localhost:8080/",
          "height": 183
        },
        "id": "299618f5",
        "outputId": "19bb3e9c-677c-4946-acf8-57a40513909d"
      },
      "outputs": [
        {
          "output_type": "execute_result",
          "data": {
            "text/plain": [
              "<BarContainer object of 27 artists>"
            ]
          },
          "metadata": {},
          "execution_count": 12
        },
        {
          "output_type": "display_data",
          "data": {
            "text/plain": [
              "<Figure size 4320x432 with 1 Axes>"
            ],
            "image/png": "[encoded data removed]"
          },
          "metadata": {
            "needs_background": "light"
          }
        }
      ],
      "source": [
        "import matplotlib.pyplot as plt\n",
        "f=plt.figure()\n",
        "f.set_figheight(6)\n",
        "f.set_figwidth(60)\n",
        "plt.bar(mod,ac)"
      ],
      "id": "299618f5"
    },
    {
      "cell_type": "markdown",
      "metadata": {
        "id": "4633ba1d"
      },
      "source": [
        "### FROM the plot for model-1 we can see that \n",
        "### FOR SGD           \n",
        "the optimal batch size is 100 which is yileding good accuracy\n",
        "the optimal learning rate is 0.001 since for other values the accuracy is quite depressing\n",
        "### FOR rmsprop\n",
        "there is no much impact of batch size. Almost all batch sizes are producing simmilar kind of accuracy\n",
        "the optimal learning rate is 0.001 since for other values the accuracy is quite depressing\n",
        "### FOR Adam\n",
        "there is no much impact of batch size. Almost all batch sizes are producing simmilar kind of accuracy\n",
        "the optimal learning rate is 0.001 since for other values the accuracy is quite depressing\n",
        "\n",
        "### OVERALL\n",
        "Finally we can see the with lower value of learning rate, all model-1 are performoing good\n",
        "There is no much impact of batch size for Adam and rmsprop but the SGD is being affected by batch size"
      ],
      "id": "4633ba1d"
    },
    {
      "cell_type": "markdown",
      "metadata": {
        "id": "5c1bbc4f"
      },
      "source": [
        "### max accuracy producing parameters for first model"
      ],
      "id": "5c1bbc4f"
    },
    {
      "cell_type": "code",
      "execution_count": 13,
      "metadata": {
        "colab": {
          "base_uri": "https://localhost:8080/"
        },
        "id": "18f370a4",
        "outputId": "c713f94e-cb40-4e66-fb98-ec13f26c183c"
      },
      "outputs": [
        {
          "output_type": "stream",
          "name": "stdout",
          "text": [
            "Adam'>, 0.001, 400\n",
            "0.98000001907348\n"
          ]
        }
      ],
      "source": [
        "print(mod[ac.index(max(ac))])\n",
        "print(max(ac))"
      ],
      "id": "18f370a4"
    },
    {
      "cell_type": "code",
      "execution_count": 14,
      "metadata": {
        "id": "7a1d28b8"
      },
      "outputs": [],
      "source": [
        "maxval=0\n",
        "for i,j in acc.items():\n",
        "    if(j>maxval):\n",
        "        maxval=j\n",
        "        z=i\n",
        "mx_acc.append(z)    "
      ],
      "id": "7a1d28b8"
    },
    {
      "cell_type": "code",
      "execution_count": 15,
      "metadata": {
        "colab": {
          "base_uri": "https://localhost:8080/"
        },
        "id": "d344d83d",
        "outputId": "1872269e-664c-4143-92f7-85c2a9a30215"
      },
      "outputs": [
        {
          "output_type": "stream",
          "name": "stdout",
          "text": [
            "313/313 [==============================] - 2s 7ms/step - loss: 0.2230 - accuracy: 0.9315\n",
            "{(<class 'keras.optimizers.optimizer_v2.gradient_descent.SGD'>, 0.001, 100): 0.9315000176429749}\n",
            "313/313 [==============================] - 2s 7ms/step - loss: 1.3021 - accuracy: 0.6143\n",
            "{(<class 'keras.optimizers.optimizer_v2.gradient_descent.SGD'>, 0.001, 100): 0.9315000176429749, (<class 'keras.optimizers.optimizer_v2.gradient_descent.SGD'>, 0.001, 400): 0.614300012588501}\n",
            "313/313 [==============================] - 2s 7ms/step - loss: 1.6822 - accuracy: 0.5541\n",
            "{(<class 'keras.optimizers.optimizer_v2.gradient_descent.SGD'>, 0.001, 100): 0.9315000176429749, (<class 'keras.optimizers.optimizer_v2.gradient_descent.SGD'>, 0.001, 400): 0.614300012588501, (<class 'keras.optimizers.optimizer_v2.gradient_descent.SGD'>, 0.001, 700): 0.554099977016449}\n",
            "313/313 [==============================] - 2s 7ms/step - loss: nan - accuracy: 0.0980\n",
            "{(<class 'keras.optimizers.optimizer_v2.gradient_descent.SGD'>, 0.001, 100): 0.9315000176429749, (<class 'keras.optimizers.optimizer_v2.gradient_descent.SGD'>, 0.001, 400): 0.614300012588501, (<class 'keras.optimizers.optimizer_v2.gradient_descent.SGD'>, 0.001, 700): 0.554099977016449, (<class 'keras.optimizers.optimizer_v2.gradient_descent.SGD'>, 0.401, 100): 0.09799999743700027}\n",
            "313/313 [==============================] - 2s 7ms/step - loss: nan - accuracy: 0.0980\n",
            "{(<class 'keras.optimizers.optimizer_v2.gradient_descent.SGD'>, 0.001, 100): 0.9315000176429749, (<class 'keras.optimizers.optimizer_v2.gradient_descent.SGD'>, 0.001, 400): 0.614300012588501, (<class 'keras.optimizers.optimizer_v2.gradient_descent.SGD'>, 0.001, 700): 0.554099977016449, (<class 'keras.optimizers.optimizer_v2.gradient_descent.SGD'>, 0.401, 100): 0.09799999743700027, (<class 'keras.optimizers.optimizer_v2.gradient_descent.SGD'>, 0.401, 400): 0.09799999743700027}\n",
            "313/313 [==============================] - 2s 7ms/step - loss: nan - accuracy: 0.0980\n",
            "{(<class 'keras.optimizers.optimizer_v2.gradient_descent.SGD'>, 0.001, 100): 0.9315000176429749, (<class 'keras.optimizers.optimizer_v2.gradient_descent.SGD'>, 0.001, 400): 0.614300012588501, (<class 'keras.optimizers.optimizer_v2.gradient_descent.SGD'>, 0.001, 700): 0.554099977016449, (<class 'keras.optimizers.optimizer_v2.gradient_descent.SGD'>, 0.401, 100): 0.09799999743700027, (<class 'keras.optimizers.optimizer_v2.gradient_descent.SGD'>, 0.401, 400): 0.09799999743700027, (<class 'keras.optimizers.optimizer_v2.gradient_descent.SGD'>, 0.401, 700): 0.09799999743700027}\n",
            "313/313 [==============================] - 2s 7ms/step - loss: nan - accuracy: 0.0980\n",
            "{(<class 'keras.optimizers.optimizer_v2.gradient_descent.SGD'>, 0.001, 100): 0.9315000176429749, (<class 'keras.optimizers.optimizer_v2.gradient_descent.SGD'>, 0.001, 400): 0.614300012588501, (<class 'keras.optimizers.optimizer_v2.gradient_descent.SGD'>, 0.001, 700): 0.554099977016449, (<class 'keras.optimizers.optimizer_v2.gradient_descent.SGD'>, 0.401, 100): 0.09799999743700027, (<class 'keras.optimizers.optimizer_v2.gradient_descent.SGD'>, 0.401, 400): 0.09799999743700027, (<class 'keras.optimizers.optimizer_v2.gradient_descent.SGD'>, 0.401, 700): 0.09799999743700027, (<class 'keras.optimizers.optimizer_v2.gradient_descent.SGD'>, 0.801, 100): 0.09799999743700027}\n",
            "313/313 [==============================] - 2s 7ms/step - loss: nan - accuracy: 0.0980\n",
            "{(<class 'keras.optimizers.optimizer_v2.gradient_descent.SGD'>, 0.001, 100): 0.9315000176429749, (<class 'keras.optimizers.optimizer_v2.gradient_descent.SGD'>, 0.001, 400): 0.614300012588501, (<class 'keras.optimizers.optimizer_v2.gradient_descent.SGD'>, 0.001, 700): 0.554099977016449, (<class 'keras.optimizers.optimizer_v2.gradient_descent.SGD'>, 0.401, 100): 0.09799999743700027, (<class 'keras.optimizers.optimizer_v2.gradient_descent.SGD'>, 0.401, 400): 0.09799999743700027, (<class 'keras.optimizers.optimizer_v2.gradient_descent.SGD'>, 0.401, 700): 0.09799999743700027, (<class 'keras.optimizers.optimizer_v2.gradient_descent.SGD'>, 0.801, 100): 0.09799999743700027, (<class 'keras.optimizers.optimizer_v2.gradient_descent.SGD'>, 0.801, 400): 0.09799999743700027}\n",
            "313/313 [==============================] - 2s 7ms/step - loss: nan - accuracy: 0.0980\n",
            "{(<class 'keras.optimizers.optimizer_v2.gradient_descent.SGD'>, 0.001, 100): 0.9315000176429749, (<class 'keras.optimizers.optimizer_v2.gradient_descent.SGD'>, 0.001, 400): 0.614300012588501, (<class 'keras.optimizers.optimizer_v2.gradient_descent.SGD'>, 0.001, 700): 0.554099977016449, (<class 'keras.optimizers.optimizer_v2.gradient_descent.SGD'>, 0.401, 100): 0.09799999743700027, (<class 'keras.optimizers.optimizer_v2.gradient_descent.SGD'>, 0.401, 400): 0.09799999743700027, (<class 'keras.optimizers.optimizer_v2.gradient_descent.SGD'>, 0.401, 700): 0.09799999743700027, (<class 'keras.optimizers.optimizer_v2.gradient_descent.SGD'>, 0.801, 100): 0.09799999743700027, (<class 'keras.optimizers.optimizer_v2.gradient_descent.SGD'>, 0.801, 400): 0.09799999743700027, (<class 'keras.optimizers.optimizer_v2.gradient_descent.SGD'>, 0.801, 700): 0.09799999743700027}\n",
            "313/313 [==============================] - 2s 7ms/step - loss: 0.0715 - accuracy: 0.9768\n",
            "{(<class 'keras.optimizers.optimizer_v2.gradient_descent.SGD'>, 0.001, 100): 0.9315000176429749, (<class 'keras.optimizers.optimizer_v2.gradient_descent.SGD'>, 0.001, 400): 0.614300012588501, (<class 'keras.optimizers.optimizer_v2.gradient_descent.SGD'>, 0.001, 700): 0.554099977016449, (<class 'keras.optimizers.optimizer_v2.gradient_descent.SGD'>, 0.401, 100): 0.09799999743700027, (<class 'keras.optimizers.optimizer_v2.gradient_descent.SGD'>, 0.401, 400): 0.09799999743700027, (<class 'keras.optimizers.optimizer_v2.gradient_descent.SGD'>, 0.401, 700): 0.09799999743700027, (<class 'keras.optimizers.optimizer_v2.gradient_descent.SGD'>, 0.801, 100): 0.09799999743700027, (<class 'keras.optimizers.optimizer_v2.gradient_descent.SGD'>, 0.801, 400): 0.09799999743700027, (<class 'keras.optimizers.optimizer_v2.gradient_descent.SGD'>, 0.801, 700): 0.09799999743700027, (<class 'keras.optimizers.optimizer_v2.rmsprop.RMSprop'>, 0.001, 100): 0.9768000245094299}\n",
            "313/313 [==============================] - 2s 7ms/step - loss: 0.0761 - accuracy: 0.9759\n",
            "{(<class 'keras.optimizers.optimizer_v2.gradient_descent.SGD'>, 0.001, 100): 0.9315000176429749, (<class 'keras.optimizers.optimizer_v2.gradient_descent.SGD'>, 0.001, 400): 0.614300012588501, (<class 'keras.optimizers.optimizer_v2.gradient_descent.SGD'>, 0.001, 700): 0.554099977016449, (<class 'keras.optimizers.optimizer_v2.gradient_descent.SGD'>, 0.401, 100): 0.09799999743700027, (<class 'keras.optimizers.optimizer_v2.gradient_descent.SGD'>, 0.401, 400): 0.09799999743700027, (<class 'keras.optimizers.optimizer_v2.gradient_descent.SGD'>, 0.401, 700): 0.09799999743700027, (<class 'keras.optimizers.optimizer_v2.gradient_descent.SGD'>, 0.801, 100): 0.09799999743700027, (<class 'keras.optimizers.optimizer_v2.gradient_descent.SGD'>, 0.801, 400): 0.09799999743700027, (<class 'keras.optimizers.optimizer_v2.gradient_descent.SGD'>, 0.801, 700): 0.09799999743700027, (<class 'keras.optimizers.optimizer_v2.rmsprop.RMSprop'>, 0.001, 100): 0.9768000245094299, (<class 'keras.optimizers.optimizer_v2.rmsprop.RMSprop'>, 0.001, 400): 0.9758999943733215}\n",
            "313/313 [==============================] - 2s 7ms/step - loss: 0.1126 - accuracy: 0.9647\n",
            "{(<class 'keras.optimizers.optimizer_v2.gradient_descent.SGD'>, 0.001, 100): 0.9315000176429749, (<class 'keras.optimizers.optimizer_v2.gradient_descent.SGD'>, 0.001, 400): 0.614300012588501, (<class 'keras.optimizers.optimizer_v2.gradient_descent.SGD'>, 0.001, 700): 0.554099977016449, (<class 'keras.optimizers.optimizer_v2.gradient_descent.SGD'>, 0.401, 100): 0.09799999743700027, (<class 'keras.optimizers.optimizer_v2.gradient_descent.SGD'>, 0.401, 400): 0.09799999743700027, (<class 'keras.optimizers.optimizer_v2.gradient_descent.SGD'>, 0.401, 700): 0.09799999743700027, (<class 'keras.optimizers.optimizer_v2.gradient_descent.SGD'>, 0.801, 100): 0.09799999743700027, (<class 'keras.optimizers.optimizer_v2.gradient_descent.SGD'>, 0.801, 400): 0.09799999743700027, (<class 'keras.optimizers.optimizer_v2.gradient_descent.SGD'>, 0.801, 700): 0.09799999743700027, (<class 'keras.optimizers.optimizer_v2.rmsprop.RMSprop'>, 0.001, 100): 0.9768000245094299, (<class 'keras.optimizers.optimizer_v2.rmsprop.RMSprop'>, 0.001, 400): 0.9758999943733215, (<class 'keras.optimizers.optimizer_v2.rmsprop.RMSprop'>, 0.001, 700): 0.9646999835968018}\n",
            "313/313 [==============================] - 2s 7ms/step - loss: 585683868154068992.0000 - accuracy: 0.5899\n",
            "{(<class 'keras.optimizers.optimizer_v2.gradient_descent.SGD'>, 0.001, 100): 0.9315000176429749, (<class 'keras.optimizers.optimizer_v2.gradient_descent.SGD'>, 0.001, 400): 0.614300012588501, (<class 'keras.optimizers.optimizer_v2.gradient_descent.SGD'>, 0.001, 700): 0.554099977016449, (<class 'keras.optimizers.optimizer_v2.gradient_descent.SGD'>, 0.401, 100): 0.09799999743700027, (<class 'keras.optimizers.optimizer_v2.gradient_descent.SGD'>, 0.401, 400): 0.09799999743700027, (<class 'keras.optimizers.optimizer_v2.gradient_descent.SGD'>, 0.401, 700): 0.09799999743700027, (<class 'keras.optimizers.optimizer_v2.gradient_descent.SGD'>, 0.801, 100): 0.09799999743700027, (<class 'keras.optimizers.optimizer_v2.gradient_descent.SGD'>, 0.801, 400): 0.09799999743700027, (<class 'keras.optimizers.optimizer_v2.gradient_descent.SGD'>, 0.801, 700): 0.09799999743700027, (<class 'keras.optimizers.optimizer_v2.rmsprop.RMSprop'>, 0.001, 100): 0.9768000245094299, (<class 'keras.optimizers.optimizer_v2.rmsprop.RMSprop'>, 0.001, 400): 0.9758999943733215, (<class 'keras.optimizers.optimizer_v2.rmsprop.RMSprop'>, 0.001, 700): 0.9646999835968018, (<class 'keras.optimizers.optimizer_v2.rmsprop.RMSprop'>, 0.401, 100): 0.589900016784668}\n",
            "313/313 [==============================] - 2s 7ms/step - loss: 349189980855205888.0000 - accuracy: 0.2973\n",
            "{(<class 'keras.optimizers.optimizer_v2.gradient_descent.SGD'>, 0.001, 100): 0.9315000176429749, (<class 'keras.optimizers.optimizer_v2.gradient_descent.SGD'>, 0.001, 400): 0.614300012588501, (<class 'keras.optimizers.optimizer_v2.gradient_descent.SGD'>, 0.001, 700): 0.554099977016449, (<class 'keras.optimizers.optimizer_v2.gradient_descent.SGD'>, 0.401, 100): 0.09799999743700027, (<class 'keras.optimizers.optimizer_v2.gradient_descent.SGD'>, 0.401, 400): 0.09799999743700027, (<class 'keras.optimizers.optimizer_v2.gradient_descent.SGD'>, 0.401, 700): 0.09799999743700027, (<class 'keras.optimizers.optimizer_v2.gradient_descent.SGD'>, 0.801, 100): 0.09799999743700027, (<class 'keras.optimizers.optimizer_v2.gradient_descent.SGD'>, 0.801, 400): 0.09799999743700027, (<class 'keras.optimizers.optimizer_v2.gradient_descent.SGD'>, 0.801, 700): 0.09799999743700027, (<class 'keras.optimizers.optimizer_v2.rmsprop.RMSprop'>, 0.001, 100): 0.9768000245094299, (<class 'keras.optimizers.optimizer_v2.rmsprop.RMSprop'>, 0.001, 400): 0.9758999943733215, (<class 'keras.optimizers.optimizer_v2.rmsprop.RMSprop'>, 0.001, 700): 0.9646999835968018, (<class 'keras.optimizers.optimizer_v2.rmsprop.RMSprop'>, 0.401, 100): 0.589900016784668, (<class 'keras.optimizers.optimizer_v2.rmsprop.RMSprop'>, 0.401, 400): 0.2973000109195709}\n",
            "313/313 [==============================] - 2s 7ms/step - loss: 16678720588742656.0000 - accuracy: 0.3849\n",
            "{(<class 'keras.optimizers.optimizer_v2.gradient_descent.SGD'>, 0.001, 100): 0.9315000176429749, (<class 'keras.optimizers.optimizer_v2.gradient_descent.SGD'>, 0.001, 400): 0.614300012588501, (<class 'keras.optimizers.optimizer_v2.gradient_descent.SGD'>, 0.001, 700): 0.554099977016449, (<class 'keras.optimizers.optimizer_v2.gradient_descent.SGD'>, 0.401, 100): 0.09799999743700027, (<class 'keras.optimizers.optimizer_v2.gradient_descent.SGD'>, 0.401, 400): 0.09799999743700027, (<class 'keras.optimizers.optimizer_v2.gradient_descent.SGD'>, 0.401, 700): 0.09799999743700027, (<class 'keras.optimizers.optimizer_v2.gradient_descent.SGD'>, 0.801, 100): 0.09799999743700027, (<class 'keras.optimizers.optimizer_v2.gradient_descent.SGD'>, 0.801, 400): 0.09799999743700027, (<class 'keras.optimizers.optimizer_v2.gradient_descent.SGD'>, 0.801, 700): 0.09799999743700027, (<class 'keras.optimizers.optimizer_v2.rmsprop.RMSprop'>, 0.001, 100): 0.9768000245094299, (<class 'keras.optimizers.optimizer_v2.rmsprop.RMSprop'>, 0.001, 400): 0.9758999943733215, (<class 'keras.optimizers.optimizer_v2.rmsprop.RMSprop'>, 0.001, 700): 0.9646999835968018, (<class 'keras.optimizers.optimizer_v2.rmsprop.RMSprop'>, 0.401, 100): 0.589900016784668, (<class 'keras.optimizers.optimizer_v2.rmsprop.RMSprop'>, 0.401, 400): 0.2973000109195709, (<class 'keras.optimizers.optimizer_v2.rmsprop.RMSprop'>, 0.401, 700): 0.3849000036716461}\n",
            "313/313 [==============================] - 2s 7ms/step - loss: 82389986279115718656.0000 - accuracy: 0.9057\n",
            "{(<class 'keras.optimizers.optimizer_v2.gradient_descent.SGD'>, 0.001, 100): 0.9315000176429749, (<class 'keras.optimizers.optimizer_v2.gradient_descent.SGD'>, 0.001, 400): 0.614300012588501, (<class 'keras.optimizers.optimizer_v2.gradient_descent.SGD'>, 0.001, 700): 0.554099977016449, (<class 'keras.optimizers.optimizer_v2.gradient_descent.SGD'>, 0.401, 100): 0.09799999743700027, (<class 'keras.optimizers.optimizer_v2.gradient_descent.SGD'>, 0.401, 400): 0.09799999743700027, (<class 'keras.optimizers.optimizer_v2.gradient_descent.SGD'>, 0.401, 700): 0.09799999743700027, (<class 'keras.optimizers.optimizer_v2.gradient_descent.SGD'>, 0.801, 100): 0.09799999743700027, (<class 'keras.optimizers.optimizer_v2.gradient_descent.SGD'>, 0.801, 400): 0.09799999743700027, (<class 'keras.optimizers.optimizer_v2.gradient_descent.SGD'>, 0.801, 700): 0.09799999743700027, (<class 'keras.optimizers.optimizer_v2.rmsprop.RMSprop'>, 0.001, 100): 0.9768000245094299, (<class 'keras.optimizers.optimizer_v2.rmsprop.RMSprop'>, 0.001, 400): 0.9758999943733215, (<class 'keras.optimizers.optimizer_v2.rmsprop.RMSprop'>, 0.001, 700): 0.9646999835968018, (<class 'keras.optimizers.optimizer_v2.rmsprop.RMSprop'>, 0.401, 100): 0.589900016784668, (<class 'keras.optimizers.optimizer_v2.rmsprop.RMSprop'>, 0.401, 400): 0.2973000109195709, (<class 'keras.optimizers.optimizer_v2.rmsprop.RMSprop'>, 0.401, 700): 0.3849000036716461, (<class 'keras.optimizers.optimizer_v2.rmsprop.RMSprop'>, 0.801, 100): 0.9057000279426575}\n",
            "313/313 [==============================] - 3s 7ms/step - loss: 2884375417345707868160.0000 - accuracy: 0.4791\n",
            "{(<class 'keras.optimizers.optimizer_v2.gradient_descent.SGD'>, 0.001, 100): 0.9315000176429749, (<class 'keras.optimizers.optimizer_v2.gradient_descent.SGD'>, 0.001, 400): 0.614300012588501, (<class 'keras.optimizers.optimizer_v2.gradient_descent.SGD'>, 0.001, 700): 0.554099977016449, (<class 'keras.optimizers.optimizer_v2.gradient_descent.SGD'>, 0.401, 100): 0.09799999743700027, (<class 'keras.optimizers.optimizer_v2.gradient_descent.SGD'>, 0.401, 400): 0.09799999743700027, (<class 'keras.optimizers.optimizer_v2.gradient_descent.SGD'>, 0.401, 700): 0.09799999743700027, (<class 'keras.optimizers.optimizer_v2.gradient_descent.SGD'>, 0.801, 100): 0.09799999743700027, (<class 'keras.optimizers.optimizer_v2.gradient_descent.SGD'>, 0.801, 400): 0.09799999743700027, (<class 'keras.optimizers.optimizer_v2.gradient_descent.SGD'>, 0.801, 700): 0.09799999743700027, (<class 'keras.optimizers.optimizer_v2.rmsprop.RMSprop'>, 0.001, 100): 0.9768000245094299, (<class 'keras.optimizers.optimizer_v2.rmsprop.RMSprop'>, 0.001, 400): 0.9758999943733215, (<class 'keras.optimizers.optimizer_v2.rmsprop.RMSprop'>, 0.001, 700): 0.9646999835968018, (<class 'keras.optimizers.optimizer_v2.rmsprop.RMSprop'>, 0.401, 100): 0.589900016784668, (<class 'keras.optimizers.optimizer_v2.rmsprop.RMSprop'>, 0.401, 400): 0.2973000109195709, (<class 'keras.optimizers.optimizer_v2.rmsprop.RMSprop'>, 0.401, 700): 0.3849000036716461, (<class 'keras.optimizers.optimizer_v2.rmsprop.RMSprop'>, 0.801, 100): 0.9057000279426575, (<class 'keras.optimizers.optimizer_v2.rmsprop.RMSprop'>, 0.801, 400): 0.47909998893737793}\n",
            "313/313 [==============================] - 2s 7ms/step - loss: 1447725983293015037313024.0000 - accuracy: 0.1585\n",
            "{(<class 'keras.optimizers.optimizer_v2.gradient_descent.SGD'>, 0.001, 100): 0.9315000176429749, (<class 'keras.optimizers.optimizer_v2.gradient_descent.SGD'>, 0.001, 400): 0.614300012588501, (<class 'keras.optimizers.optimizer_v2.gradient_descent.SGD'>, 0.001, 700): 0.554099977016449, (<class 'keras.optimizers.optimizer_v2.gradient_descent.SGD'>, 0.401, 100): 0.09799999743700027, (<class 'keras.optimizers.optimizer_v2.gradient_descent.SGD'>, 0.401, 400): 0.09799999743700027, (<class 'keras.optimizers.optimizer_v2.gradient_descent.SGD'>, 0.401, 700): 0.09799999743700027, (<class 'keras.optimizers.optimizer_v2.gradient_descent.SGD'>, 0.801, 100): 0.09799999743700027, (<class 'keras.optimizers.optimizer_v2.gradient_descent.SGD'>, 0.801, 400): 0.09799999743700027, (<class 'keras.optimizers.optimizer_v2.gradient_descent.SGD'>, 0.801, 700): 0.09799999743700027, (<class 'keras.optimizers.optimizer_v2.rmsprop.RMSprop'>, 0.001, 100): 0.9768000245094299, (<class 'keras.optimizers.optimizer_v2.rmsprop.RMSprop'>, 0.001, 400): 0.9758999943733215, (<class 'keras.optimizers.optimizer_v2.rmsprop.RMSprop'>, 0.001, 700): 0.9646999835968018, (<class 'keras.optimizers.optimizer_v2.rmsprop.RMSprop'>, 0.401, 100): 0.589900016784668, (<class 'keras.optimizers.optimizer_v2.rmsprop.RMSprop'>, 0.401, 400): 0.2973000109195709, (<class 'keras.optimizers.optimizer_v2.rmsprop.RMSprop'>, 0.401, 700): 0.3849000036716461, (<class 'keras.optimizers.optimizer_v2.rmsprop.RMSprop'>, 0.801, 100): 0.9057000279426575, (<class 'keras.optimizers.optimizer_v2.rmsprop.RMSprop'>, 0.801, 400): 0.47909998893737793, (<class 'keras.optimizers.optimizer_v2.rmsprop.RMSprop'>, 0.801, 700): 0.15850000083446503}\n",
            "313/313 [==============================] - 3s 7ms/step - loss: 0.0958 - accuracy: 0.9725\n",
            "{(<class 'keras.optimizers.optimizer_v2.gradient_descent.SGD'>, 0.001, 100): 0.9315000176429749, (<class 'keras.optimizers.optimizer_v2.gradient_descent.SGD'>, 0.001, 400): 0.614300012588501, (<class 'keras.optimizers.optimizer_v2.gradient_descent.SGD'>, 0.001, 700): 0.554099977016449, (<class 'keras.optimizers.optimizer_v2.gradient_descent.SGD'>, 0.401, 100): 0.09799999743700027, (<class 'keras.optimizers.optimizer_v2.gradient_descent.SGD'>, 0.401, 400): 0.09799999743700027, (<class 'keras.optimizers.optimizer_v2.gradient_descent.SGD'>, 0.401, 700): 0.09799999743700027, (<class 'keras.optimizers.optimizer_v2.gradient_descent.SGD'>, 0.801, 100): 0.09799999743700027, (<class 'keras.optimizers.optimizer_v2.gradient_descent.SGD'>, 0.801, 400): 0.09799999743700027, (<class 'keras.optimizers.optimizer_v2.gradient_descent.SGD'>, 0.801, 700): 0.09799999743700027, (<class 'keras.optimizers.optimizer_v2.rmsprop.RMSprop'>, 0.001, 100): 0.9768000245094299, (<class 'keras.optimizers.optimizer_v2.rmsprop.RMSprop'>, 0.001, 400): 0.9758999943733215, (<class 'keras.optimizers.optimizer_v2.rmsprop.RMSprop'>, 0.001, 700): 0.9646999835968018, (<class 'keras.optimizers.optimizer_v2.rmsprop.RMSprop'>, 0.401, 100): 0.589900016784668, (<class 'keras.optimizers.optimizer_v2.rmsprop.RMSprop'>, 0.401, 400): 0.2973000109195709, (<class 'keras.optimizers.optimizer_v2.rmsprop.RMSprop'>, 0.401, 700): 0.3849000036716461, (<class 'keras.optimizers.optimizer_v2.rmsprop.RMSprop'>, 0.801, 100): 0.9057000279426575, (<class 'keras.optimizers.optimizer_v2.rmsprop.RMSprop'>, 0.801, 400): 0.47909998893737793, (<class 'keras.optimizers.optimizer_v2.rmsprop.RMSprop'>, 0.801, 700): 0.15850000083446503, (<class 'keras.optimizers.optimizer_v2.adam.Adam'>, 0.001, 100): 0.9725000262260437}\n",
            "313/313 [==============================] - 2s 7ms/step - loss: 0.0670 - accuracy: 0.9783\n",
            "{(<class 'keras.optimizers.optimizer_v2.gradient_descent.SGD'>, 0.001, 100): 0.9315000176429749, (<class 'keras.optimizers.optimizer_v2.gradient_descent.SGD'>, 0.001, 400): 0.614300012588501, (<class 'keras.optimizers.optimizer_v2.gradient_descent.SGD'>, 0.001, 700): 0.554099977016449, (<class 'keras.optimizers.optimizer_v2.gradient_descent.SGD'>, 0.401, 100): 0.09799999743700027, (<class 'keras.optimizers.optimizer_v2.gradient_descent.SGD'>, 0.401, 400): 0.09799999743700027, (<class 'keras.optimizers.optimizer_v2.gradient_descent.SGD'>, 0.401, 700): 0.09799999743700027, (<class 'keras.optimizers.optimizer_v2.gradient_descent.SGD'>, 0.801, 100): 0.09799999743700027, (<class 'keras.optimizers.optimizer_v2.gradient_descent.SGD'>, 0.801, 400): 0.09799999743700027, (<class 'keras.optimizers.optimizer_v2.gradient_descent.SGD'>, 0.801, 700): 0.09799999743700027, (<class 'keras.optimizers.optimizer_v2.rmsprop.RMSprop'>, 0.001, 100): 0.9768000245094299, (<class 'keras.optimizers.optimizer_v2.rmsprop.RMSprop'>, 0.001, 400): 0.9758999943733215, (<class 'keras.optimizers.optimizer_v2.rmsprop.RMSprop'>, 0.001, 700): 0.9646999835968018, (<class 'keras.optimizers.optimizer_v2.rmsprop.RMSprop'>, 0.401, 100): 0.589900016784668, (<class 'keras.optimizers.optimizer_v2.rmsprop.RMSprop'>, 0.401, 400): 0.2973000109195709, (<class 'keras.optimizers.optimizer_v2.rmsprop.RMSprop'>, 0.401, 700): 0.3849000036716461, (<class 'keras.optimizers.optimizer_v2.rmsprop.RMSprop'>, 0.801, 100): 0.9057000279426575, (<class 'keras.optimizers.optimizer_v2.rmsprop.RMSprop'>, 0.801, 400): 0.47909998893737793, (<class 'keras.optimizers.optimizer_v2.rmsprop.RMSprop'>, 0.801, 700): 0.15850000083446503, (<class 'keras.optimizers.optimizer_v2.adam.Adam'>, 0.001, 100): 0.9725000262260437, (<class 'keras.optimizers.optimizer_v2.adam.Adam'>, 0.001, 400): 0.9782999753952026}\n",
            "313/313 [==============================] - 2s 7ms/step - loss: 0.0842 - accuracy: 0.9707\n",
            "{(<class 'keras.optimizers.optimizer_v2.gradient_descent.SGD'>, 0.001, 100): 0.9315000176429749, (<class 'keras.optimizers.optimizer_v2.gradient_descent.SGD'>, 0.001, 400): 0.614300012588501, (<class 'keras.optimizers.optimizer_v2.gradient_descent.SGD'>, 0.001, 700): 0.554099977016449, (<class 'keras.optimizers.optimizer_v2.gradient_descent.SGD'>, 0.401, 100): 0.09799999743700027, (<class 'keras.optimizers.optimizer_v2.gradient_descent.SGD'>, 0.401, 400): 0.09799999743700027, (<class 'keras.optimizers.optimizer_v2.gradient_descent.SGD'>, 0.401, 700): 0.09799999743700027, (<class 'keras.optimizers.optimizer_v2.gradient_descent.SGD'>, 0.801, 100): 0.09799999743700027, (<class 'keras.optimizers.optimizer_v2.gradient_descent.SGD'>, 0.801, 400): 0.09799999743700027, (<class 'keras.optimizers.optimizer_v2.gradient_descent.SGD'>, 0.801, 700): 0.09799999743700027, (<class 'keras.optimizers.optimizer_v2.rmsprop.RMSprop'>, 0.001, 100): 0.9768000245094299, (<class 'keras.optimizers.optimizer_v2.rmsprop.RMSprop'>, 0.001, 400): 0.9758999943733215, (<class 'keras.optimizers.optimizer_v2.rmsprop.RMSprop'>, 0.001, 700): 0.9646999835968018, (<class 'keras.optimizers.optimizer_v2.rmsprop.RMSprop'>, 0.401, 100): 0.589900016784668, (<class 'keras.optimizers.optimizer_v2.rmsprop.RMSprop'>, 0.401, 400): 0.2973000109195709, (<class 'keras.optimizers.optimizer_v2.rmsprop.RMSprop'>, 0.401, 700): 0.3849000036716461, (<class 'keras.optimizers.optimizer_v2.rmsprop.RMSprop'>, 0.801, 100): 0.9057000279426575, (<class 'keras.optimizers.optimizer_v2.rmsprop.RMSprop'>, 0.801, 400): 0.47909998893737793, (<class 'keras.optimizers.optimizer_v2.rmsprop.RMSprop'>, 0.801, 700): 0.15850000083446503, (<class 'keras.optimizers.optimizer_v2.adam.Adam'>, 0.001, 100): 0.9725000262260437, (<class 'keras.optimizers.optimizer_v2.adam.Adam'>, 0.001, 400): 0.9782999753952026, (<class 'keras.optimizers.optimizer_v2.adam.Adam'>, 0.001, 700): 0.9707000255584717}\n",
            "313/313 [==============================] - 3s 7ms/step - loss: nan - accuracy: 0.0980\n",
            "{(<class 'keras.optimizers.optimizer_v2.gradient_descent.SGD'>, 0.001, 100): 0.9315000176429749, (<class 'keras.optimizers.optimizer_v2.gradient_descent.SGD'>, 0.001, 400): 0.614300012588501, (<class 'keras.optimizers.optimizer_v2.gradient_descent.SGD'>, 0.001, 700): 0.554099977016449, (<class 'keras.optimizers.optimizer_v2.gradient_descent.SGD'>, 0.401, 100): 0.09799999743700027, (<class 'keras.optimizers.optimizer_v2.gradient_descent.SGD'>, 0.401, 400): 0.09799999743700027, (<class 'keras.optimizers.optimizer_v2.gradient_descent.SGD'>, 0.401, 700): 0.09799999743700027, (<class 'keras.optimizers.optimizer_v2.gradient_descent.SGD'>, 0.801, 100): 0.09799999743700027, (<class 'keras.optimizers.optimizer_v2.gradient_descent.SGD'>, 0.801, 400): 0.09799999743700027, (<class 'keras.optimizers.optimizer_v2.gradient_descent.SGD'>, 0.801, 700): 0.09799999743700027, (<class 'keras.optimizers.optimizer_v2.rmsprop.RMSprop'>, 0.001, 100): 0.9768000245094299, (<class 'keras.optimizers.optimizer_v2.rmsprop.RMSprop'>, 0.001, 400): 0.9758999943733215, (<class 'keras.optimizers.optimizer_v2.rmsprop.RMSprop'>, 0.001, 700): 0.9646999835968018, (<class 'keras.optimizers.optimizer_v2.rmsprop.RMSprop'>, 0.401, 100): 0.589900016784668, (<class 'keras.optimizers.optimizer_v2.rmsprop.RMSprop'>, 0.401, 400): 0.2973000109195709, (<class 'keras.optimizers.optimizer_v2.rmsprop.RMSprop'>, 0.401, 700): 0.3849000036716461, (<class 'keras.optimizers.optimizer_v2.rmsprop.RMSprop'>, 0.801, 100): 0.9057000279426575, (<class 'keras.optimizers.optimizer_v2.rmsprop.RMSprop'>, 0.801, 400): 0.47909998893737793, (<class 'keras.optimizers.optimizer_v2.rmsprop.RMSprop'>, 0.801, 700): 0.15850000083446503, (<class 'keras.optimizers.optimizer_v2.adam.Adam'>, 0.001, 100): 0.9725000262260437, (<class 'keras.optimizers.optimizer_v2.adam.Adam'>, 0.001, 400): 0.9782999753952026, (<class 'keras.optimizers.optimizer_v2.adam.Adam'>, 0.001, 700): 0.9707000255584717, (<class 'keras.optimizers.optimizer_v2.adam.Adam'>, 0.401, 100): 0.09799999743700027}\n",
            "313/313 [==============================] - 3s 7ms/step - loss: nan - accuracy: 0.0980\n",
            "{(<class 'keras.optimizers.optimizer_v2.gradient_descent.SGD'>, 0.001, 100): 0.9315000176429749, (<class 'keras.optimizers.optimizer_v2.gradient_descent.SGD'>, 0.001, 400): 0.614300012588501, (<class 'keras.optimizers.optimizer_v2.gradient_descent.SGD'>, 0.001, 700): 0.554099977016449, (<class 'keras.optimizers.optimizer_v2.gradient_descent.SGD'>, 0.401, 100): 0.09799999743700027, (<class 'keras.optimizers.optimizer_v2.gradient_descent.SGD'>, 0.401, 400): 0.09799999743700027, (<class 'keras.optimizers.optimizer_v2.gradient_descent.SGD'>, 0.401, 700): 0.09799999743700027, (<class 'keras.optimizers.optimizer_v2.gradient_descent.SGD'>, 0.801, 100): 0.09799999743700027, (<class 'keras.optimizers.optimizer_v2.gradient_descent.SGD'>, 0.801, 400): 0.09799999743700027, (<class 'keras.optimizers.optimizer_v2.gradient_descent.SGD'>, 0.801, 700): 0.09799999743700027, (<class 'keras.optimizers.optimizer_v2.rmsprop.RMSprop'>, 0.001, 100): 0.9768000245094299, (<class 'keras.optimizers.optimizer_v2.rmsprop.RMSprop'>, 0.001, 400): 0.9758999943733215, (<class 'keras.optimizers.optimizer_v2.rmsprop.RMSprop'>, 0.001, 700): 0.9646999835968018, (<class 'keras.optimizers.optimizer_v2.rmsprop.RMSprop'>, 0.401, 100): 0.589900016784668, (<class 'keras.optimizers.optimizer_v2.rmsprop.RMSprop'>, 0.401, 400): 0.2973000109195709, (<class 'keras.optimizers.optimizer_v2.rmsprop.RMSprop'>, 0.401, 700): 0.3849000036716461, (<class 'keras.optimizers.optimizer_v2.rmsprop.RMSprop'>, 0.801, 100): 0.9057000279426575, (<class 'keras.optimizers.optimizer_v2.rmsprop.RMSprop'>, 0.801, 400): 0.47909998893737793, (<class 'keras.optimizers.optimizer_v2.rmsprop.RMSprop'>, 0.801, 700): 0.15850000083446503, (<class 'keras.optimizers.optimizer_v2.adam.Adam'>, 0.001, 100): 0.9725000262260437, (<class 'keras.optimizers.optimizer_v2.adam.Adam'>, 0.001, 400): 0.9782999753952026, (<class 'keras.optimizers.optimizer_v2.adam.Adam'>, 0.001, 700): 0.9707000255584717, (<class 'keras.optimizers.optimizer_v2.adam.Adam'>, 0.401, 100): 0.09799999743700027, (<class 'keras.optimizers.optimizer_v2.adam.Adam'>, 0.401, 400): 0.09799999743700027}\n",
            "313/313 [==============================] - 3s 7ms/step - loss: 82676610498560.0000 - accuracy: 0.4445\n",
            "{(<class 'keras.optimizers.optimizer_v2.gradient_descent.SGD'>, 0.001, 100): 0.9315000176429749, (<class 'keras.optimizers.optimizer_v2.gradient_descent.SGD'>, 0.001, 400): 0.614300012588501, (<class 'keras.optimizers.optimizer_v2.gradient_descent.SGD'>, 0.001, 700): 0.554099977016449, (<class 'keras.optimizers.optimizer_v2.gradient_descent.SGD'>, 0.401, 100): 0.09799999743700027, (<class 'keras.optimizers.optimizer_v2.gradient_descent.SGD'>, 0.401, 400): 0.09799999743700027, (<class 'keras.optimizers.optimizer_v2.gradient_descent.SGD'>, 0.401, 700): 0.09799999743700027, (<class 'keras.optimizers.optimizer_v2.gradient_descent.SGD'>, 0.801, 100): 0.09799999743700027, (<class 'keras.optimizers.optimizer_v2.gradient_descent.SGD'>, 0.801, 400): 0.09799999743700027, (<class 'keras.optimizers.optimizer_v2.gradient_descent.SGD'>, 0.801, 700): 0.09799999743700027, (<class 'keras.optimizers.optimizer_v2.rmsprop.RMSprop'>, 0.001, 100): 0.9768000245094299, (<class 'keras.optimizers.optimizer_v2.rmsprop.RMSprop'>, 0.001, 400): 0.9758999943733215, (<class 'keras.optimizers.optimizer_v2.rmsprop.RMSprop'>, 0.001, 700): 0.9646999835968018, (<class 'keras.optimizers.optimizer_v2.rmsprop.RMSprop'>, 0.401, 100): 0.589900016784668, (<class 'keras.optimizers.optimizer_v2.rmsprop.RMSprop'>, 0.401, 400): 0.2973000109195709, (<class 'keras.optimizers.optimizer_v2.rmsprop.RMSprop'>, 0.401, 700): 0.3849000036716461, (<class 'keras.optimizers.optimizer_v2.rmsprop.RMSprop'>, 0.801, 100): 0.9057000279426575, (<class 'keras.optimizers.optimizer_v2.rmsprop.RMSprop'>, 0.801, 400): 0.47909998893737793, (<class 'keras.optimizers.optimizer_v2.rmsprop.RMSprop'>, 0.801, 700): 0.15850000083446503, (<class 'keras.optimizers.optimizer_v2.adam.Adam'>, 0.001, 100): 0.9725000262260437, (<class 'keras.optimizers.optimizer_v2.adam.Adam'>, 0.001, 400): 0.9782999753952026, (<class 'keras.optimizers.optimizer_v2.adam.Adam'>, 0.001, 700): 0.9707000255584717, (<class 'keras.optimizers.optimizer_v2.adam.Adam'>, 0.401, 100): 0.09799999743700027, (<class 'keras.optimizers.optimizer_v2.adam.Adam'>, 0.401, 400): 0.09799999743700027, (<class 'keras.optimizers.optimizer_v2.adam.Adam'>, 0.401, 700): 0.44449999928474426}\n",
            "313/313 [==============================] - 3s 7ms/step - loss: nan - accuracy: 0.0980\n",
            "{(<class 'keras.optimizers.optimizer_v2.gradient_descent.SGD'>, 0.001, 100): 0.9315000176429749, (<class 'keras.optimizers.optimizer_v2.gradient_descent.SGD'>, 0.001, 400): 0.614300012588501, (<class 'keras.optimizers.optimizer_v2.gradient_descent.SGD'>, 0.001, 700): 0.554099977016449, (<class 'keras.optimizers.optimizer_v2.gradient_descent.SGD'>, 0.401, 100): 0.09799999743700027, (<class 'keras.optimizers.optimizer_v2.gradient_descent.SGD'>, 0.401, 400): 0.09799999743700027, (<class 'keras.optimizers.optimizer_v2.gradient_descent.SGD'>, 0.401, 700): 0.09799999743700027, (<class 'keras.optimizers.optimizer_v2.gradient_descent.SGD'>, 0.801, 100): 0.09799999743700027, (<class 'keras.optimizers.optimizer_v2.gradient_descent.SGD'>, 0.801, 400): 0.09799999743700027, (<class 'keras.optimizers.optimizer_v2.gradient_descent.SGD'>, 0.801, 700): 0.09799999743700027, (<class 'keras.optimizers.optimizer_v2.rmsprop.RMSprop'>, 0.001, 100): 0.9768000245094299, (<class 'keras.optimizers.optimizer_v2.rmsprop.RMSprop'>, 0.001, 400): 0.9758999943733215, (<class 'keras.optimizers.optimizer_v2.rmsprop.RMSprop'>, 0.001, 700): 0.9646999835968018, (<class 'keras.optimizers.optimizer_v2.rmsprop.RMSprop'>, 0.401, 100): 0.589900016784668, (<class 'keras.optimizers.optimizer_v2.rmsprop.RMSprop'>, 0.401, 400): 0.2973000109195709, (<class 'keras.optimizers.optimizer_v2.rmsprop.RMSprop'>, 0.401, 700): 0.3849000036716461, (<class 'keras.optimizers.optimizer_v2.rmsprop.RMSprop'>, 0.801, 100): 0.9057000279426575, (<class 'keras.optimizers.optimizer_v2.rmsprop.RMSprop'>, 0.801, 400): 0.47909998893737793, (<class 'keras.optimizers.optimizer_v2.rmsprop.RMSprop'>, 0.801, 700): 0.15850000083446503, (<class 'keras.optimizers.optimizer_v2.adam.Adam'>, 0.001, 100): 0.9725000262260437, (<class 'keras.optimizers.optimizer_v2.adam.Adam'>, 0.001, 400): 0.9782999753952026, (<class 'keras.optimizers.optimizer_v2.adam.Adam'>, 0.001, 700): 0.9707000255584717, (<class 'keras.optimizers.optimizer_v2.adam.Adam'>, 0.401, 100): 0.09799999743700027, (<class 'keras.optimizers.optimizer_v2.adam.Adam'>, 0.401, 400): 0.09799999743700027, (<class 'keras.optimizers.optimizer_v2.adam.Adam'>, 0.401, 700): 0.44449999928474426, (<class 'keras.optimizers.optimizer_v2.adam.Adam'>, 0.801, 100): 0.09799999743700027}\n",
            "313/313 [==============================] - 3s 8ms/step - loss: nan - accuracy: 0.0980\n",
            "{(<class 'keras.optimizers.optimizer_v2.gradient_descent.SGD'>, 0.001, 100): 0.9315000176429749, (<class 'keras.optimizers.optimizer_v2.gradient_descent.SGD'>, 0.001, 400): 0.614300012588501, (<class 'keras.optimizers.optimizer_v2.gradient_descent.SGD'>, 0.001, 700): 0.554099977016449, (<class 'keras.optimizers.optimizer_v2.gradient_descent.SGD'>, 0.401, 100): 0.09799999743700027, (<class 'keras.optimizers.optimizer_v2.gradient_descent.SGD'>, 0.401, 400): 0.09799999743700027, (<class 'keras.optimizers.optimizer_v2.gradient_descent.SGD'>, 0.401, 700): 0.09799999743700027, (<class 'keras.optimizers.optimizer_v2.gradient_descent.SGD'>, 0.801, 100): 0.09799999743700027, (<class 'keras.optimizers.optimizer_v2.gradient_descent.SGD'>, 0.801, 400): 0.09799999743700027, (<class 'keras.optimizers.optimizer_v2.gradient_descent.SGD'>, 0.801, 700): 0.09799999743700027, (<class 'keras.optimizers.optimizer_v2.rmsprop.RMSprop'>, 0.001, 100): 0.9768000245094299, (<class 'keras.optimizers.optimizer_v2.rmsprop.RMSprop'>, 0.001, 400): 0.9758999943733215, (<class 'keras.optimizers.optimizer_v2.rmsprop.RMSprop'>, 0.001, 700): 0.9646999835968018, (<class 'keras.optimizers.optimizer_v2.rmsprop.RMSprop'>, 0.401, 100): 0.589900016784668, (<class 'keras.optimizers.optimizer_v2.rmsprop.RMSprop'>, 0.401, 400): 0.2973000109195709, (<class 'keras.optimizers.optimizer_v2.rmsprop.RMSprop'>, 0.401, 700): 0.3849000036716461, (<class 'keras.optimizers.optimizer_v2.rmsprop.RMSprop'>, 0.801, 100): 0.9057000279426575, (<class 'keras.optimizers.optimizer_v2.rmsprop.RMSprop'>, 0.801, 400): 0.47909998893737793, (<class 'keras.optimizers.optimizer_v2.rmsprop.RMSprop'>, 0.801, 700): 0.15850000083446503, (<class 'keras.optimizers.optimizer_v2.adam.Adam'>, 0.001, 100): 0.9725000262260437, (<class 'keras.optimizers.optimizer_v2.adam.Adam'>, 0.001, 400): 0.9782999753952026, (<class 'keras.optimizers.optimizer_v2.adam.Adam'>, 0.001, 700): 0.9707000255584717, (<class 'keras.optimizers.optimizer_v2.adam.Adam'>, 0.401, 100): 0.09799999743700027, (<class 'keras.optimizers.optimizer_v2.adam.Adam'>, 0.401, 400): 0.09799999743700027, (<class 'keras.optimizers.optimizer_v2.adam.Adam'>, 0.401, 700): 0.44449999928474426, (<class 'keras.optimizers.optimizer_v2.adam.Adam'>, 0.801, 100): 0.09799999743700027, (<class 'keras.optimizers.optimizer_v2.adam.Adam'>, 0.801, 400): 0.09799999743700027}\n",
            "313/313 [==============================] - 3s 8ms/step - loss: nan - accuracy: 0.0980\n",
            "{(<class 'keras.optimizers.optimizer_v2.gradient_descent.SGD'>, 0.001, 100): 0.9315000176429749, (<class 'keras.optimizers.optimizer_v2.gradient_descent.SGD'>, 0.001, 400): 0.614300012588501, (<class 'keras.optimizers.optimizer_v2.gradient_descent.SGD'>, 0.001, 700): 0.554099977016449, (<class 'keras.optimizers.optimizer_v2.gradient_descent.SGD'>, 0.401, 100): 0.09799999743700027, (<class 'keras.optimizers.optimizer_v2.gradient_descent.SGD'>, 0.401, 400): 0.09799999743700027, (<class 'keras.optimizers.optimizer_v2.gradient_descent.SGD'>, 0.401, 700): 0.09799999743700027, (<class 'keras.optimizers.optimizer_v2.gradient_descent.SGD'>, 0.801, 100): 0.09799999743700027, (<class 'keras.optimizers.optimizer_v2.gradient_descent.SGD'>, 0.801, 400): 0.09799999743700027, (<class 'keras.optimizers.optimizer_v2.gradient_descent.SGD'>, 0.801, 700): 0.09799999743700027, (<class 'keras.optimizers.optimizer_v2.rmsprop.RMSprop'>, 0.001, 100): 0.9768000245094299, (<class 'keras.optimizers.optimizer_v2.rmsprop.RMSprop'>, 0.001, 400): 0.9758999943733215, (<class 'keras.optimizers.optimizer_v2.rmsprop.RMSprop'>, 0.001, 700): 0.9646999835968018, (<class 'keras.optimizers.optimizer_v2.rmsprop.RMSprop'>, 0.401, 100): 0.589900016784668, (<class 'keras.optimizers.optimizer_v2.rmsprop.RMSprop'>, 0.401, 400): 0.2973000109195709, (<class 'keras.optimizers.optimizer_v2.rmsprop.RMSprop'>, 0.401, 700): 0.3849000036716461, (<class 'keras.optimizers.optimizer_v2.rmsprop.RMSprop'>, 0.801, 100): 0.9057000279426575, (<class 'keras.optimizers.optimizer_v2.rmsprop.RMSprop'>, 0.801, 400): 0.47909998893737793, (<class 'keras.optimizers.optimizer_v2.rmsprop.RMSprop'>, 0.801, 700): 0.15850000083446503, (<class 'keras.optimizers.optimizer_v2.adam.Adam'>, 0.001, 100): 0.9725000262260437, (<class 'keras.optimizers.optimizer_v2.adam.Adam'>, 0.001, 400): 0.9782999753952026, (<class 'keras.optimizers.optimizer_v2.adam.Adam'>, 0.001, 700): 0.9707000255584717, (<class 'keras.optimizers.optimizer_v2.adam.Adam'>, 0.401, 100): 0.09799999743700027, (<class 'keras.optimizers.optimizer_v2.adam.Adam'>, 0.401, 400): 0.09799999743700027, (<class 'keras.optimizers.optimizer_v2.adam.Adam'>, 0.401, 700): 0.44449999928474426, (<class 'keras.optimizers.optimizer_v2.adam.Adam'>, 0.801, 100): 0.09799999743700027, (<class 'keras.optimizers.optimizer_v2.adam.Adam'>, 0.801, 400): 0.09799999743700027, (<class 'keras.optimizers.optimizer_v2.adam.Adam'>, 0.801, 700): 0.09799999743700027}\n"
          ]
        }
      ],
      "source": [
        "acc={}\n",
        "for f in a:\n",
        "    for i in np.arange(0.001,1,0.4):\n",
        "        for j in np.arange(100,800,300):\n",
        "            model3 = Sequential()\n",
        "            model3.add(Conv2D(10, kernel_size=3, padding=\"same\", input_shape=(1,28,28)))\n",
        "            model3.add(Conv2D(20, kernel_size=3, padding=\"same\"))\n",
        "            model3.add(MaxPooling2D(pool_size=(3, 3), strides=(2, 2), padding=\"same\"))\n",
        "            model3.add(Conv2D(30, kernel_size=3, padding=\"same\"))\n",
        "            model3.add(Conv2D(40, kernel_size=3, padding=\"same\"))\n",
        "            model3.add(MaxPooling2D(pool_size=(3, 3), strides=(2, 2), padding=\"same\"))\n",
        "            model3.add(Conv2D(50, kernel_size=3, padding=\"same\"))\n",
        "            model3.add(Conv2D(60, kernel_size=3, padding=\"same\"))\n",
        "            model3.add(MaxPooling2D(pool_size=(3, 3), strides=(2, 2), padding=\"same\"))\n",
        "            model3.add(Conv2D(50, kernel_size=3, padding=\"same\"))\n",
        "            model3.add(Conv2D(40, kernel_size=3, padding=\"same\"))\n",
        "            model3.add(MaxPooling2D(pool_size=(3, 3), strides=(2, 2), padding=\"same\"))\n",
        "            model3.add(Conv2D(30, kernel_size=3, padding=\"same\"))\n",
        "            model3.add(Conv2D(20, kernel_size=3, padding=\"same\"))\n",
        "            model3.add(Flatten())\n",
        "            model3.add(Dense(10))\n",
        "            model3.add(Activation('softmax'))\n",
        "            model3.compile(loss='categorical_crossentropy', optimizer=f(lr=i), metrics=['accuracy'])\n",
        "            model3.fit(X_train, Y_train, batch_size=j, epochs=4,verbose=0)\n",
        "            score = model3.evaluate(X_test, Y_test)\n",
        "            acc[(f,i,j)]=score[1]\n",
        "            print(acc)"
      ],
      "id": "d344d83d"
    },
    {
      "cell_type": "code",
      "execution_count": 16,
      "metadata": {
        "id": "dd8c70ca"
      },
      "outputs": [],
      "source": [
        "l=[]\n",
        "for i in \"{(<class 'keras.optimizers.optimizer_v2.gradient_descent.SGD'>, 0.001, 100): 0.9315000176429749, (<class 'keras.optimizers.optimizer_v2.gradient_descent.SGD'>, 0.001, 400): 0.614300012588501, (<class 'keras.optimizers.optimizer_v2.gradient_descent.SGD'>, 0.001, 700): 0.554099977016449, (<class 'keras.optimizers.optimizer_v2.gradient_descent.SGD'>, 0.401, 100): 0.09799999743700027, (<class 'keras.optimizers.optimizer_v2.gradient_descent.SGD'>, 0.401, 400): 0.09799999743700027, (<class 'keras.optimizers.optimizer_v2.gradient_descent.SGD'>, 0.401, 700): 0.09799999743700027, (<class 'keras.optimizers.optimizer_v2.gradient_descent.SGD'>, 0.801, 100): 0.09799999743700027, (<class 'keras.optimizers.optimizer_v2.gradient_descent.SGD'>, 0.801, 400): 0.09799999743700027, (<class 'keras.optimizers.optimizer_v2.gradient_descent.SGD'>, 0.801, 700): 0.09799999743700027, (<class 'keras.optimizers.optimizer_v2.rmsprop.RMSprop'>, 0.001, 100): 0.9768000245094299, (<class 'keras.optimizers.optimizer_v2.rmsprop.RMSprop'>, 0.001, 400): 0.9758999943733215, (<class 'keras.optimizers.optimizer_v2.rmsprop.RMSprop'>, 0.001, 700): 0.9646999835968018, (<class 'keras.optimizers.optimizer_v2.rmsprop.RMSprop'>, 0.401, 100): 0.589900016784668, (<class 'keras.optimizers.optimizer_v2.rmsprop.RMSprop'>, 0.401, 400): 0.2973000109195709, (<class 'keras.optimizers.optimizer_v2.rmsprop.RMSprop'>, 0.401, 700): 0.3849000036716461, (<class 'keras.optimizers.optimizer_v2.rmsprop.RMSprop'>, 0.801, 100): 0.9057000279426575, (<class 'keras.optimizers.optimizer_v2.rmsprop.RMSprop'>, 0.801, 400): 0.47909998893737793, (<class 'keras.optimizers.optimizer_v2.rmsprop.RMSprop'>, 0.801, 700): 0.15850000083446503, (<class 'keras.optimizers.optimizer_v2.adam.Adam'>, 0.001, 100): 0.9725000262260437, (<class 'keras.optimizers.optimizer_v2.adam.Adam'>, 0.001, 400): 0.9782999753952026, (<class 'keras.optimizers.optimizer_v2.adam.Adam'>, 0.001, 700): 0.9707000255584717, (<class 'keras.optimizers.optimizer_v2.adam.Adam'>, 0.401, 100): 0.09799999743700027, (<class 'keras.optimizers.optimizer_v2.adam.Adam'>, 0.401, 400): 0.09799999743700027, (<class 'keras.optimizers.optimizer_v2.adam.Adam'>, 0.401, 700): 0.44449999928474426, (<class 'keras.optimizers.optimizer_v2.adam.Adam'>, 0.801, 100): 0.09799999743700027, (<class 'keras.optimizers.optimizer_v2.adam.Adam'>, 0.801, 400): 0.09799999743700027, (<class 'keras.optimizers.optimizer_v2.adam.Adam'>, 0.801, 700): 0.09799999743700027}\".split(\", (\"):\n",
        "    l.append(i)\n",
        "l[0]=l[0][1:]\n",
        "l[len(l)-1]=l[len(l)-1][:len(l[len(l)-1])]"
      ],
      "id": "dd8c70ca"
    },
    {
      "cell_type": "code",
      "execution_count": 17,
      "metadata": {
        "id": "798faed4"
      },
      "outputs": [],
      "source": [
        "mod=[]\n",
        "ac=[]\n",
        "for i in l:\n",
        "    a1,b=i.split(\":\")\n",
        "    mod.append(a1[len(a1)-19:len(a1)-1])\n",
        "    ac.append(float(b[:len(b)-2].strip()))\n",
        "mod[0]=mod[0][1:]"
      ],
      "id": "798faed4"
    },
    {
      "cell_type": "code",
      "execution_count": 18,
      "metadata": {
        "colab": {
          "base_uri": "https://localhost:8080/",
          "height": 183
        },
        "id": "53f9e307",
        "outputId": "faf3eb52-e47f-4baa-aa14-c33502cb082e"
      },
      "outputs": [
        {
          "output_type": "execute_result",
          "data": {
            "text/plain": [
              "<BarContainer object of 27 artists>"
            ]
          },
          "metadata": {},
          "execution_count": 18
        },
        {
          "output_type": "display_data",
          "data": {
            "text/plain": [
              "<Figure size 4320x432 with 1 Axes>"
            ],
            "image/png": "[encoded data removed]"
          },
          "metadata": {
            "needs_background": "light"
          }
        }
      ],
      "source": [
        "import matplotlib.pyplot as plt\n",
        "f=plt.figure()\n",
        "f.set_figheight(6)\n",
        "f.set_figwidth(60)\n",
        "plt.bar(mod,ac)"
      ],
      "id": "53f9e307"
    },
    {
      "cell_type": "markdown",
      "metadata": {
        "id": "334b7df9"
      },
      "source": [
        "### FROM the plot for model-2 we can see that \n",
        "### FOR SGD           \n",
        "the optimal batch size is 100 which is yileding good accuracy\n",
        "the optimal learning rate is 0.001 since for other values the accuracy is quite depressing\n",
        "### FOR rmsprop\n",
        "there is no much impact of batch size. Almost all batch sizes are producing simmilar kind of accuracy\n",
        "the optimal learning rate is 0.001--0.4 since for other values the accuracy is quite depressing\n",
        "### FOR Adam\n",
        "there is no much impact of batch size. Almost all batch sizes are producing simmilar kind of accuracy\n",
        "the optimal learning rate is 0.001-0.4 since for other values the accuracy is quite depressing\n",
        "\n",
        "### OVERALL\n",
        "Finally we can see the with lower value of learning rate, all model2 are performoing good\n",
        "There is no much impact of batch size for Adam and rmsprop but the SGD is being affected by batch size"
      ],
      "id": "334b7df9"
    },
    {
      "cell_type": "markdown",
      "metadata": {
        "id": "a5f62d36"
      },
      "source": [
        "### max accuracy producing parameters for second model"
      ],
      "id": "a5f62d36"
    },
    {
      "cell_type": "code",
      "execution_count": 19,
      "metadata": {
        "colab": {
          "base_uri": "https://localhost:8080/"
        },
        "id": "68bb64ad",
        "outputId": "ab5470da-4bfe-4cc0-ac95-c657534fd6d1"
      },
      "outputs": [
        {
          "output_type": "stream",
          "name": "stdout",
          "text": [
            "rmsprop'>, 0.001, 100\n",
            "0.97960001230239\n"
          ]
        }
      ],
      "source": [
        "print(\"rms\"+mod[ac.index(max(ac))])\n",
        "print(max(ac))"
      ],
      "id": "68bb64ad"
    },
    {
      "cell_type": "code",
      "execution_count": 20,
      "metadata": {
        "colab": {
          "base_uri": "https://localhost:8080/"
        },
        "id": "0167221a",
        "outputId": "33d45a97-3189-4a02-8524-defe6bd5c22b"
      },
      "outputs": [
        {
          "output_type": "stream",
          "name": "stdout",
          "text": [
            "0.9782999753952026\n"
          ]
        }
      ],
      "source": [
        "maxval=0\n",
        "for i,j in acc.items():\n",
        "    if(j>maxval):\n",
        "        maxval=j\n",
        "        z=i\n",
        "print(maxval)\n",
        "mx_acc.append(z)    "
      ],
      "id": "0167221a"
    },
    {
      "cell_type": "code",
      "execution_count": 21,
      "metadata": {
        "colab": {
          "base_uri": "https://localhost:8080/"
        },
        "id": "d6485f88",
        "outputId": "2321a4d3-6310-4a2d-a18f-11ffc98b4713"
      },
      "outputs": [
        {
          "output_type": "stream",
          "name": "stdout",
          "text": [
            "313/313 [==============================] - 4s 14ms/step - loss: 0.1921 - accuracy: 0.9425\n",
            "{(<class 'keras.optimizers.optimizer_v2.gradient_descent.SGD'>, 0.001, 100): 0.9424999952316284}\n",
            "313/313 [==============================] - 4s 14ms/step - loss: 0.4844 - accuracy: 0.8640\n",
            "{(<class 'keras.optimizers.optimizer_v2.gradient_descent.SGD'>, 0.001, 100): 0.9424999952316284, (<class 'keras.optimizers.optimizer_v2.gradient_descent.SGD'>, 0.001, 400): 0.8640000224113464}\n",
            "313/313 [==============================] - 4s 14ms/step - loss: 1.5330 - accuracy: 0.5420\n",
            "{(<class 'keras.optimizers.optimizer_v2.gradient_descent.SGD'>, 0.001, 100): 0.9424999952316284, (<class 'keras.optimizers.optimizer_v2.gradient_descent.SGD'>, 0.001, 400): 0.8640000224113464, (<class 'keras.optimizers.optimizer_v2.gradient_descent.SGD'>, 0.001, 700): 0.5419999957084656}\n",
            "313/313 [==============================] - 4s 14ms/step - loss: nan - accuracy: 0.0980\n",
            "{(<class 'keras.optimizers.optimizer_v2.gradient_descent.SGD'>, 0.001, 100): 0.9424999952316284, (<class 'keras.optimizers.optimizer_v2.gradient_descent.SGD'>, 0.001, 400): 0.8640000224113464, (<class 'keras.optimizers.optimizer_v2.gradient_descent.SGD'>, 0.001, 700): 0.5419999957084656, (<class 'keras.optimizers.optimizer_v2.gradient_descent.SGD'>, 0.401, 100): 0.09799999743700027}\n",
            "313/313 [==============================] - 4s 14ms/step - loss: nan - accuracy: 0.0980\n",
            "{(<class 'keras.optimizers.optimizer_v2.gradient_descent.SGD'>, 0.001, 100): 0.9424999952316284, (<class 'keras.optimizers.optimizer_v2.gradient_descent.SGD'>, 0.001, 400): 0.8640000224113464, (<class 'keras.optimizers.optimizer_v2.gradient_descent.SGD'>, 0.001, 700): 0.5419999957084656, (<class 'keras.optimizers.optimizer_v2.gradient_descent.SGD'>, 0.401, 100): 0.09799999743700027, (<class 'keras.optimizers.optimizer_v2.gradient_descent.SGD'>, 0.401, 400): 0.09799999743700027}\n",
            "313/313 [==============================] - 5s 14ms/step - loss: nan - accuracy: 0.0980\n",
            "{(<class 'keras.optimizers.optimizer_v2.gradient_descent.SGD'>, 0.001, 100): 0.9424999952316284, (<class 'keras.optimizers.optimizer_v2.gradient_descent.SGD'>, 0.001, 400): 0.8640000224113464, (<class 'keras.optimizers.optimizer_v2.gradient_descent.SGD'>, 0.001, 700): 0.5419999957084656, (<class 'keras.optimizers.optimizer_v2.gradient_descent.SGD'>, 0.401, 100): 0.09799999743700027, (<class 'keras.optimizers.optimizer_v2.gradient_descent.SGD'>, 0.401, 400): 0.09799999743700027, (<class 'keras.optimizers.optimizer_v2.gradient_descent.SGD'>, 0.401, 700): 0.09799999743700027}\n",
            "313/313 [==============================] - 4s 14ms/step - loss: nan - accuracy: 0.0980\n",
            "{(<class 'keras.optimizers.optimizer_v2.gradient_descent.SGD'>, 0.001, 100): 0.9424999952316284, (<class 'keras.optimizers.optimizer_v2.gradient_descent.SGD'>, 0.001, 400): 0.8640000224113464, (<class 'keras.optimizers.optimizer_v2.gradient_descent.SGD'>, 0.001, 700): 0.5419999957084656, (<class 'keras.optimizers.optimizer_v2.gradient_descent.SGD'>, 0.401, 100): 0.09799999743700027, (<class 'keras.optimizers.optimizer_v2.gradient_descent.SGD'>, 0.401, 400): 0.09799999743700027, (<class 'keras.optimizers.optimizer_v2.gradient_descent.SGD'>, 0.401, 700): 0.09799999743700027, (<class 'keras.optimizers.optimizer_v2.gradient_descent.SGD'>, 0.801, 100): 0.09799999743700027}\n",
            "313/313 [==============================] - 4s 14ms/step - loss: nan - accuracy: 0.0980\n",
            "{(<class 'keras.optimizers.optimizer_v2.gradient_descent.SGD'>, 0.001, 100): 0.9424999952316284, (<class 'keras.optimizers.optimizer_v2.gradient_descent.SGD'>, 0.001, 400): 0.8640000224113464, (<class 'keras.optimizers.optimizer_v2.gradient_descent.SGD'>, 0.001, 700): 0.5419999957084656, (<class 'keras.optimizers.optimizer_v2.gradient_descent.SGD'>, 0.401, 100): 0.09799999743700027, (<class 'keras.optimizers.optimizer_v2.gradient_descent.SGD'>, 0.401, 400): 0.09799999743700027, (<class 'keras.optimizers.optimizer_v2.gradient_descent.SGD'>, 0.401, 700): 0.09799999743700027, (<class 'keras.optimizers.optimizer_v2.gradient_descent.SGD'>, 0.801, 100): 0.09799999743700027, (<class 'keras.optimizers.optimizer_v2.gradient_descent.SGD'>, 0.801, 400): 0.09799999743700027}\n",
            "313/313 [==============================] - 4s 14ms/step - loss: nan - accuracy: 0.0980\n",
            "{(<class 'keras.optimizers.optimizer_v2.gradient_descent.SGD'>, 0.001, 100): 0.9424999952316284, (<class 'keras.optimizers.optimizer_v2.gradient_descent.SGD'>, 0.001, 400): 0.8640000224113464, (<class 'keras.optimizers.optimizer_v2.gradient_descent.SGD'>, 0.001, 700): 0.5419999957084656, (<class 'keras.optimizers.optimizer_v2.gradient_descent.SGD'>, 0.401, 100): 0.09799999743700027, (<class 'keras.optimizers.optimizer_v2.gradient_descent.SGD'>, 0.401, 400): 0.09799999743700027, (<class 'keras.optimizers.optimizer_v2.gradient_descent.SGD'>, 0.401, 700): 0.09799999743700027, (<class 'keras.optimizers.optimizer_v2.gradient_descent.SGD'>, 0.801, 100): 0.09799999743700027, (<class 'keras.optimizers.optimizer_v2.gradient_descent.SGD'>, 0.801, 400): 0.09799999743700027, (<class 'keras.optimizers.optimizer_v2.gradient_descent.SGD'>, 0.801, 700): 0.09799999743700027}\n",
            "313/313 [==============================] - 5s 14ms/step - loss: 0.0920 - accuracy: 0.9716\n",
            "{(<class 'keras.optimizers.optimizer_v2.gradient_descent.SGD'>, 0.001, 100): 0.9424999952316284, (<class 'keras.optimizers.optimizer_v2.gradient_descent.SGD'>, 0.001, 400): 0.8640000224113464, (<class 'keras.optimizers.optimizer_v2.gradient_descent.SGD'>, 0.001, 700): 0.5419999957084656, (<class 'keras.optimizers.optimizer_v2.gradient_descent.SGD'>, 0.401, 100): 0.09799999743700027, (<class 'keras.optimizers.optimizer_v2.gradient_descent.SGD'>, 0.401, 400): 0.09799999743700027, (<class 'keras.optimizers.optimizer_v2.gradient_descent.SGD'>, 0.401, 700): 0.09799999743700027, (<class 'keras.optimizers.optimizer_v2.gradient_descent.SGD'>, 0.801, 100): 0.09799999743700027, (<class 'keras.optimizers.optimizer_v2.gradient_descent.SGD'>, 0.801, 400): 0.09799999743700027, (<class 'keras.optimizers.optimizer_v2.gradient_descent.SGD'>, 0.801, 700): 0.09799999743700027, (<class 'keras.optimizers.optimizer_v2.rmsprop.RMSprop'>, 0.001, 100): 0.9715999960899353}\n",
            "313/313 [==============================] - 5s 14ms/step - loss: 0.0544 - accuracy: 0.9823\n",
            "{(<class 'keras.optimizers.optimizer_v2.gradient_descent.SGD'>, 0.001, 100): 0.9424999952316284, (<class 'keras.optimizers.optimizer_v2.gradient_descent.SGD'>, 0.001, 400): 0.8640000224113464, (<class 'keras.optimizers.optimizer_v2.gradient_descent.SGD'>, 0.001, 700): 0.5419999957084656, (<class 'keras.optimizers.optimizer_v2.gradient_descent.SGD'>, 0.401, 100): 0.09799999743700027, (<class 'keras.optimizers.optimizer_v2.gradient_descent.SGD'>, 0.401, 400): 0.09799999743700027, (<class 'keras.optimizers.optimizer_v2.gradient_descent.SGD'>, 0.401, 700): 0.09799999743700027, (<class 'keras.optimizers.optimizer_v2.gradient_descent.SGD'>, 0.801, 100): 0.09799999743700027, (<class 'keras.optimizers.optimizer_v2.gradient_descent.SGD'>, 0.801, 400): 0.09799999743700027, (<class 'keras.optimizers.optimizer_v2.gradient_descent.SGD'>, 0.801, 700): 0.09799999743700027, (<class 'keras.optimizers.optimizer_v2.rmsprop.RMSprop'>, 0.001, 100): 0.9715999960899353, (<class 'keras.optimizers.optimizer_v2.rmsprop.RMSprop'>, 0.001, 400): 0.9822999835014343}\n",
            "313/313 [==============================] - 4s 14ms/step - loss: 0.0744 - accuracy: 0.9760\n",
            "{(<class 'keras.optimizers.optimizer_v2.gradient_descent.SGD'>, 0.001, 100): 0.9424999952316284, (<class 'keras.optimizers.optimizer_v2.gradient_descent.SGD'>, 0.001, 400): 0.8640000224113464, (<class 'keras.optimizers.optimizer_v2.gradient_descent.SGD'>, 0.001, 700): 0.5419999957084656, (<class 'keras.optimizers.optimizer_v2.gradient_descent.SGD'>, 0.401, 100): 0.09799999743700027, (<class 'keras.optimizers.optimizer_v2.gradient_descent.SGD'>, 0.401, 400): 0.09799999743700027, (<class 'keras.optimizers.optimizer_v2.gradient_descent.SGD'>, 0.401, 700): 0.09799999743700027, (<class 'keras.optimizers.optimizer_v2.gradient_descent.SGD'>, 0.801, 100): 0.09799999743700027, (<class 'keras.optimizers.optimizer_v2.gradient_descent.SGD'>, 0.801, 400): 0.09799999743700027, (<class 'keras.optimizers.optimizer_v2.gradient_descent.SGD'>, 0.801, 700): 0.09799999743700027, (<class 'keras.optimizers.optimizer_v2.rmsprop.RMSprop'>, 0.001, 100): 0.9715999960899353, (<class 'keras.optimizers.optimizer_v2.rmsprop.RMSprop'>, 0.001, 400): 0.9822999835014343, (<class 'keras.optimizers.optimizer_v2.rmsprop.RMSprop'>, 0.001, 700): 0.9760000109672546}\n",
            "313/313 [==============================] - 5s 14ms/step - loss: 7924841107869925376.0000 - accuracy: 0.8933\n",
            "{(<class 'keras.optimizers.optimizer_v2.gradient_descent.SGD'>, 0.001, 100): 0.9424999952316284, (<class 'keras.optimizers.optimizer_v2.gradient_descent.SGD'>, 0.001, 400): 0.8640000224113464, (<class 'keras.optimizers.optimizer_v2.gradient_descent.SGD'>, 0.001, 700): 0.5419999957084656, (<class 'keras.optimizers.optimizer_v2.gradient_descent.SGD'>, 0.401, 100): 0.09799999743700027, (<class 'keras.optimizers.optimizer_v2.gradient_descent.SGD'>, 0.401, 400): 0.09799999743700027, (<class 'keras.optimizers.optimizer_v2.gradient_descent.SGD'>, 0.401, 700): 0.09799999743700027, (<class 'keras.optimizers.optimizer_v2.gradient_descent.SGD'>, 0.801, 100): 0.09799999743700027, (<class 'keras.optimizers.optimizer_v2.gradient_descent.SGD'>, 0.801, 400): 0.09799999743700027, (<class 'keras.optimizers.optimizer_v2.gradient_descent.SGD'>, 0.801, 700): 0.09799999743700027, (<class 'keras.optimizers.optimizer_v2.rmsprop.RMSprop'>, 0.001, 100): 0.9715999960899353, (<class 'keras.optimizers.optimizer_v2.rmsprop.RMSprop'>, 0.001, 400): 0.9822999835014343, (<class 'keras.optimizers.optimizer_v2.rmsprop.RMSprop'>, 0.001, 700): 0.9760000109672546, (<class 'keras.optimizers.optimizer_v2.rmsprop.RMSprop'>, 0.401, 100): 0.8932999968528748}\n",
            "313/313 [==============================] - 4s 14ms/step - loss: 56409516075233837056.0000 - accuracy: 0.2906\n",
            "{(<class 'keras.optimizers.optimizer_v2.gradient_descent.SGD'>, 0.001, 100): 0.9424999952316284, (<class 'keras.optimizers.optimizer_v2.gradient_descent.SGD'>, 0.001, 400): 0.8640000224113464, (<class 'keras.optimizers.optimizer_v2.gradient_descent.SGD'>, 0.001, 700): 0.5419999957084656, (<class 'keras.optimizers.optimizer_v2.gradient_descent.SGD'>, 0.401, 100): 0.09799999743700027, (<class 'keras.optimizers.optimizer_v2.gradient_descent.SGD'>, 0.401, 400): 0.09799999743700027, (<class 'keras.optimizers.optimizer_v2.gradient_descent.SGD'>, 0.401, 700): 0.09799999743700027, (<class 'keras.optimizers.optimizer_v2.gradient_descent.SGD'>, 0.801, 100): 0.09799999743700027, (<class 'keras.optimizers.optimizer_v2.gradient_descent.SGD'>, 0.801, 400): 0.09799999743700027, (<class 'keras.optimizers.optimizer_v2.gradient_descent.SGD'>, 0.801, 700): 0.09799999743700027, (<class 'keras.optimizers.optimizer_v2.rmsprop.RMSprop'>, 0.001, 100): 0.9715999960899353, (<class 'keras.optimizers.optimizer_v2.rmsprop.RMSprop'>, 0.001, 400): 0.9822999835014343, (<class 'keras.optimizers.optimizer_v2.rmsprop.RMSprop'>, 0.001, 700): 0.9760000109672546, (<class 'keras.optimizers.optimizer_v2.rmsprop.RMSprop'>, 0.401, 100): 0.8932999968528748, (<class 'keras.optimizers.optimizer_v2.rmsprop.RMSprop'>, 0.401, 400): 0.2906000018119812}\n",
            "313/313 [==============================] - 5s 14ms/step - loss: 111052741487236218880.0000 - accuracy: 0.1054\n",
            "{(<class 'keras.optimizers.optimizer_v2.gradient_descent.SGD'>, 0.001, 100): 0.9424999952316284, (<class 'keras.optimizers.optimizer_v2.gradient_descent.SGD'>, 0.001, 400): 0.8640000224113464, (<class 'keras.optimizers.optimizer_v2.gradient_descent.SGD'>, 0.001, 700): 0.5419999957084656, (<class 'keras.optimizers.optimizer_v2.gradient_descent.SGD'>, 0.401, 100): 0.09799999743700027, (<class 'keras.optimizers.optimizer_v2.gradient_descent.SGD'>, 0.401, 400): 0.09799999743700027, (<class 'keras.optimizers.optimizer_v2.gradient_descent.SGD'>, 0.401, 700): 0.09799999743700027, (<class 'keras.optimizers.optimizer_v2.gradient_descent.SGD'>, 0.801, 100): 0.09799999743700027, (<class 'keras.optimizers.optimizer_v2.gradient_descent.SGD'>, 0.801, 400): 0.09799999743700027, (<class 'keras.optimizers.optimizer_v2.gradient_descent.SGD'>, 0.801, 700): 0.09799999743700027, (<class 'keras.optimizers.optimizer_v2.rmsprop.RMSprop'>, 0.001, 100): 0.9715999960899353, (<class 'keras.optimizers.optimizer_v2.rmsprop.RMSprop'>, 0.001, 400): 0.9822999835014343, (<class 'keras.optimizers.optimizer_v2.rmsprop.RMSprop'>, 0.001, 700): 0.9760000109672546, (<class 'keras.optimizers.optimizer_v2.rmsprop.RMSprop'>, 0.401, 100): 0.8932999968528748, (<class 'keras.optimizers.optimizer_v2.rmsprop.RMSprop'>, 0.401, 400): 0.2906000018119812, (<class 'keras.optimizers.optimizer_v2.rmsprop.RMSprop'>, 0.401, 700): 0.10540000349283218}\n",
            "313/313 [==============================] - 5s 14ms/step - loss: 15004142366462094075756544.0000 - accuracy: 0.0944\n",
            "{(<class 'keras.optimizers.optimizer_v2.gradient_descent.SGD'>, 0.001, 100): 0.9424999952316284, (<class 'keras.optimizers.optimizer_v2.gradient_descent.SGD'>, 0.001, 400): 0.8640000224113464, (<class 'keras.optimizers.optimizer_v2.gradient_descent.SGD'>, 0.001, 700): 0.5419999957084656, (<class 'keras.optimizers.optimizer_v2.gradient_descent.SGD'>, 0.401, 100): 0.09799999743700027, (<class 'keras.optimizers.optimizer_v2.gradient_descent.SGD'>, 0.401, 400): 0.09799999743700027, (<class 'keras.optimizers.optimizer_v2.gradient_descent.SGD'>, 0.401, 700): 0.09799999743700027, (<class 'keras.optimizers.optimizer_v2.gradient_descent.SGD'>, 0.801, 100): 0.09799999743700027, (<class 'keras.optimizers.optimizer_v2.gradient_descent.SGD'>, 0.801, 400): 0.09799999743700027, (<class 'keras.optimizers.optimizer_v2.gradient_descent.SGD'>, 0.801, 700): 0.09799999743700027, (<class 'keras.optimizers.optimizer_v2.rmsprop.RMSprop'>, 0.001, 100): 0.9715999960899353, (<class 'keras.optimizers.optimizer_v2.rmsprop.RMSprop'>, 0.001, 400): 0.9822999835014343, (<class 'keras.optimizers.optimizer_v2.rmsprop.RMSprop'>, 0.001, 700): 0.9760000109672546, (<class 'keras.optimizers.optimizer_v2.rmsprop.RMSprop'>, 0.401, 100): 0.8932999968528748, (<class 'keras.optimizers.optimizer_v2.rmsprop.RMSprop'>, 0.401, 400): 0.2906000018119812, (<class 'keras.optimizers.optimizer_v2.rmsprop.RMSprop'>, 0.401, 700): 0.10540000349283218, (<class 'keras.optimizers.optimizer_v2.rmsprop.RMSprop'>, 0.801, 100): 0.09440000355243683}\n",
            "313/313 [==============================] - 5s 15ms/step - loss: 4511774993759663151906816.0000 - accuracy: 0.1225\n",
            "{(<class 'keras.optimizers.optimizer_v2.gradient_descent.SGD'>, 0.001, 100): 0.9424999952316284, (<class 'keras.optimizers.optimizer_v2.gradient_descent.SGD'>, 0.001, 400): 0.8640000224113464, (<class 'keras.optimizers.optimizer_v2.gradient_descent.SGD'>, 0.001, 700): 0.5419999957084656, (<class 'keras.optimizers.optimizer_v2.gradient_descent.SGD'>, 0.401, 100): 0.09799999743700027, (<class 'keras.optimizers.optimizer_v2.gradient_descent.SGD'>, 0.401, 400): 0.09799999743700027, (<class 'keras.optimizers.optimizer_v2.gradient_descent.SGD'>, 0.401, 700): 0.09799999743700027, (<class 'keras.optimizers.optimizer_v2.gradient_descent.SGD'>, 0.801, 100): 0.09799999743700027, (<class 'keras.optimizers.optimizer_v2.gradient_descent.SGD'>, 0.801, 400): 0.09799999743700027, (<class 'keras.optimizers.optimizer_v2.gradient_descent.SGD'>, 0.801, 700): 0.09799999743700027, (<class 'keras.optimizers.optimizer_v2.rmsprop.RMSprop'>, 0.001, 100): 0.9715999960899353, (<class 'keras.optimizers.optimizer_v2.rmsprop.RMSprop'>, 0.001, 400): 0.9822999835014343, (<class 'keras.optimizers.optimizer_v2.rmsprop.RMSprop'>, 0.001, 700): 0.9760000109672546, (<class 'keras.optimizers.optimizer_v2.rmsprop.RMSprop'>, 0.401, 100): 0.8932999968528748, (<class 'keras.optimizers.optimizer_v2.rmsprop.RMSprop'>, 0.401, 400): 0.2906000018119812, (<class 'keras.optimizers.optimizer_v2.rmsprop.RMSprop'>, 0.401, 700): 0.10540000349283218, (<class 'keras.optimizers.optimizer_v2.rmsprop.RMSprop'>, 0.801, 100): 0.09440000355243683, (<class 'keras.optimizers.optimizer_v2.rmsprop.RMSprop'>, 0.801, 400): 0.12250000238418579}\n",
            "313/313 [==============================] - 5s 14ms/step - loss: 495673790034934717984276480.0000 - accuracy: 0.1010\n",
            "{(<class 'keras.optimizers.optimizer_v2.gradient_descent.SGD'>, 0.001, 100): 0.9424999952316284, (<class 'keras.optimizers.optimizer_v2.gradient_descent.SGD'>, 0.001, 400): 0.8640000224113464, (<class 'keras.optimizers.optimizer_v2.gradient_descent.SGD'>, 0.001, 700): 0.5419999957084656, (<class 'keras.optimizers.optimizer_v2.gradient_descent.SGD'>, 0.401, 100): 0.09799999743700027, (<class 'keras.optimizers.optimizer_v2.gradient_descent.SGD'>, 0.401, 400): 0.09799999743700027, (<class 'keras.optimizers.optimizer_v2.gradient_descent.SGD'>, 0.401, 700): 0.09799999743700027, (<class 'keras.optimizers.optimizer_v2.gradient_descent.SGD'>, 0.801, 100): 0.09799999743700027, (<class 'keras.optimizers.optimizer_v2.gradient_descent.SGD'>, 0.801, 400): 0.09799999743700027, (<class 'keras.optimizers.optimizer_v2.gradient_descent.SGD'>, 0.801, 700): 0.09799999743700027, (<class 'keras.optimizers.optimizer_v2.rmsprop.RMSprop'>, 0.001, 100): 0.9715999960899353, (<class 'keras.optimizers.optimizer_v2.rmsprop.RMSprop'>, 0.001, 400): 0.9822999835014343, (<class 'keras.optimizers.optimizer_v2.rmsprop.RMSprop'>, 0.001, 700): 0.9760000109672546, (<class 'keras.optimizers.optimizer_v2.rmsprop.RMSprop'>, 0.401, 100): 0.8932999968528748, (<class 'keras.optimizers.optimizer_v2.rmsprop.RMSprop'>, 0.401, 400): 0.2906000018119812, (<class 'keras.optimizers.optimizer_v2.rmsprop.RMSprop'>, 0.401, 700): 0.10540000349283218, (<class 'keras.optimizers.optimizer_v2.rmsprop.RMSprop'>, 0.801, 100): 0.09440000355243683, (<class 'keras.optimizers.optimizer_v2.rmsprop.RMSprop'>, 0.801, 400): 0.12250000238418579, (<class 'keras.optimizers.optimizer_v2.rmsprop.RMSprop'>, 0.801, 700): 0.10100000351667404}\n",
            "313/313 [==============================] - 5s 14ms/step - loss: 0.0935 - accuracy: 0.9743\n",
            "{(<class 'keras.optimizers.optimizer_v2.gradient_descent.SGD'>, 0.001, 100): 0.9424999952316284, (<class 'keras.optimizers.optimizer_v2.gradient_descent.SGD'>, 0.001, 400): 0.8640000224113464, (<class 'keras.optimizers.optimizer_v2.gradient_descent.SGD'>, 0.001, 700): 0.5419999957084656, (<class 'keras.optimizers.optimizer_v2.gradient_descent.SGD'>, 0.401, 100): 0.09799999743700027, (<class 'keras.optimizers.optimizer_v2.gradient_descent.SGD'>, 0.401, 400): 0.09799999743700027, (<class 'keras.optimizers.optimizer_v2.gradient_descent.SGD'>, 0.401, 700): 0.09799999743700027, (<class 'keras.optimizers.optimizer_v2.gradient_descent.SGD'>, 0.801, 100): 0.09799999743700027, (<class 'keras.optimizers.optimizer_v2.gradient_descent.SGD'>, 0.801, 400): 0.09799999743700027, (<class 'keras.optimizers.optimizer_v2.gradient_descent.SGD'>, 0.801, 700): 0.09799999743700027, (<class 'keras.optimizers.optimizer_v2.rmsprop.RMSprop'>, 0.001, 100): 0.9715999960899353, (<class 'keras.optimizers.optimizer_v2.rmsprop.RMSprop'>, 0.001, 400): 0.9822999835014343, (<class 'keras.optimizers.optimizer_v2.rmsprop.RMSprop'>, 0.001, 700): 0.9760000109672546, (<class 'keras.optimizers.optimizer_v2.rmsprop.RMSprop'>, 0.401, 100): 0.8932999968528748, (<class 'keras.optimizers.optimizer_v2.rmsprop.RMSprop'>, 0.401, 400): 0.2906000018119812, (<class 'keras.optimizers.optimizer_v2.rmsprop.RMSprop'>, 0.401, 700): 0.10540000349283218, (<class 'keras.optimizers.optimizer_v2.rmsprop.RMSprop'>, 0.801, 100): 0.09440000355243683, (<class 'keras.optimizers.optimizer_v2.rmsprop.RMSprop'>, 0.801, 400): 0.12250000238418579, (<class 'keras.optimizers.optimizer_v2.rmsprop.RMSprop'>, 0.801, 700): 0.10100000351667404, (<class 'keras.optimizers.optimizer_v2.adam.Adam'>, 0.001, 100): 0.9743000268936157}\n",
            "313/313 [==============================] - 5s 14ms/step - loss: 0.0750 - accuracy: 0.9792\n",
            "{(<class 'keras.optimizers.optimizer_v2.gradient_descent.SGD'>, 0.001, 100): 0.9424999952316284, (<class 'keras.optimizers.optimizer_v2.gradient_descent.SGD'>, 0.001, 400): 0.8640000224113464, (<class 'keras.optimizers.optimizer_v2.gradient_descent.SGD'>, 0.001, 700): 0.5419999957084656, (<class 'keras.optimizers.optimizer_v2.gradient_descent.SGD'>, 0.401, 100): 0.09799999743700027, (<class 'keras.optimizers.optimizer_v2.gradient_descent.SGD'>, 0.401, 400): 0.09799999743700027, (<class 'keras.optimizers.optimizer_v2.gradient_descent.SGD'>, 0.401, 700): 0.09799999743700027, (<class 'keras.optimizers.optimizer_v2.gradient_descent.SGD'>, 0.801, 100): 0.09799999743700027, (<class 'keras.optimizers.optimizer_v2.gradient_descent.SGD'>, 0.801, 400): 0.09799999743700027, (<class 'keras.optimizers.optimizer_v2.gradient_descent.SGD'>, 0.801, 700): 0.09799999743700027, (<class 'keras.optimizers.optimizer_v2.rmsprop.RMSprop'>, 0.001, 100): 0.9715999960899353, (<class 'keras.optimizers.optimizer_v2.rmsprop.RMSprop'>, 0.001, 400): 0.9822999835014343, (<class 'keras.optimizers.optimizer_v2.rmsprop.RMSprop'>, 0.001, 700): 0.9760000109672546, (<class 'keras.optimizers.optimizer_v2.rmsprop.RMSprop'>, 0.401, 100): 0.8932999968528748, (<class 'keras.optimizers.optimizer_v2.rmsprop.RMSprop'>, 0.401, 400): 0.2906000018119812, (<class 'keras.optimizers.optimizer_v2.rmsprop.RMSprop'>, 0.401, 700): 0.10540000349283218, (<class 'keras.optimizers.optimizer_v2.rmsprop.RMSprop'>, 0.801, 100): 0.09440000355243683, (<class 'keras.optimizers.optimizer_v2.rmsprop.RMSprop'>, 0.801, 400): 0.12250000238418579, (<class 'keras.optimizers.optimizer_v2.rmsprop.RMSprop'>, 0.801, 700): 0.10100000351667404, (<class 'keras.optimizers.optimizer_v2.adam.Adam'>, 0.001, 100): 0.9743000268936157, (<class 'keras.optimizers.optimizer_v2.adam.Adam'>, 0.001, 400): 0.979200005531311}\n",
            "313/313 [==============================] - 5s 16ms/step - loss: 0.0649 - accuracy: 0.9800\n",
            "{(<class 'keras.optimizers.optimizer_v2.gradient_descent.SGD'>, 0.001, 100): 0.9424999952316284, (<class 'keras.optimizers.optimizer_v2.gradient_descent.SGD'>, 0.001, 400): 0.8640000224113464, (<class 'keras.optimizers.optimizer_v2.gradient_descent.SGD'>, 0.001, 700): 0.5419999957084656, (<class 'keras.optimizers.optimizer_v2.gradient_descent.SGD'>, 0.401, 100): 0.09799999743700027, (<class 'keras.optimizers.optimizer_v2.gradient_descent.SGD'>, 0.401, 400): 0.09799999743700027, (<class 'keras.optimizers.optimizer_v2.gradient_descent.SGD'>, 0.401, 700): 0.09799999743700027, (<class 'keras.optimizers.optimizer_v2.gradient_descent.SGD'>, 0.801, 100): 0.09799999743700027, (<class 'keras.optimizers.optimizer_v2.gradient_descent.SGD'>, 0.801, 400): 0.09799999743700027, (<class 'keras.optimizers.optimizer_v2.gradient_descent.SGD'>, 0.801, 700): 0.09799999743700027, (<class 'keras.optimizers.optimizer_v2.rmsprop.RMSprop'>, 0.001, 100): 0.9715999960899353, (<class 'keras.optimizers.optimizer_v2.rmsprop.RMSprop'>, 0.001, 400): 0.9822999835014343, (<class 'keras.optimizers.optimizer_v2.rmsprop.RMSprop'>, 0.001, 700): 0.9760000109672546, (<class 'keras.optimizers.optimizer_v2.rmsprop.RMSprop'>, 0.401, 100): 0.8932999968528748, (<class 'keras.optimizers.optimizer_v2.rmsprop.RMSprop'>, 0.401, 400): 0.2906000018119812, (<class 'keras.optimizers.optimizer_v2.rmsprop.RMSprop'>, 0.401, 700): 0.10540000349283218, (<class 'keras.optimizers.optimizer_v2.rmsprop.RMSprop'>, 0.801, 100): 0.09440000355243683, (<class 'keras.optimizers.optimizer_v2.rmsprop.RMSprop'>, 0.801, 400): 0.12250000238418579, (<class 'keras.optimizers.optimizer_v2.rmsprop.RMSprop'>, 0.801, 700): 0.10100000351667404, (<class 'keras.optimizers.optimizer_v2.adam.Adam'>, 0.001, 100): 0.9743000268936157, (<class 'keras.optimizers.optimizer_v2.adam.Adam'>, 0.001, 400): 0.979200005531311, (<class 'keras.optimizers.optimizer_v2.adam.Adam'>, 0.001, 700): 0.9800000190734863}\n",
            "313/313 [==============================] - 5s 15ms/step - loss: nan - accuracy: 0.0980\n",
            "{(<class 'keras.optimizers.optimizer_v2.gradient_descent.SGD'>, 0.001, 100): 0.9424999952316284, (<class 'keras.optimizers.optimizer_v2.gradient_descent.SGD'>, 0.001, 400): 0.8640000224113464, (<class 'keras.optimizers.optimizer_v2.gradient_descent.SGD'>, 0.001, 700): 0.5419999957084656, (<class 'keras.optimizers.optimizer_v2.gradient_descent.SGD'>, 0.401, 100): 0.09799999743700027, (<class 'keras.optimizers.optimizer_v2.gradient_descent.SGD'>, 0.401, 400): 0.09799999743700027, (<class 'keras.optimizers.optimizer_v2.gradient_descent.SGD'>, 0.401, 700): 0.09799999743700027, (<class 'keras.optimizers.optimizer_v2.gradient_descent.SGD'>, 0.801, 100): 0.09799999743700027, (<class 'keras.optimizers.optimizer_v2.gradient_descent.SGD'>, 0.801, 400): 0.09799999743700027, (<class 'keras.optimizers.optimizer_v2.gradient_descent.SGD'>, 0.801, 700): 0.09799999743700027, (<class 'keras.optimizers.optimizer_v2.rmsprop.RMSprop'>, 0.001, 100): 0.9715999960899353, (<class 'keras.optimizers.optimizer_v2.rmsprop.RMSprop'>, 0.001, 400): 0.9822999835014343, (<class 'keras.optimizers.optimizer_v2.rmsprop.RMSprop'>, 0.001, 700): 0.9760000109672546, (<class 'keras.optimizers.optimizer_v2.rmsprop.RMSprop'>, 0.401, 100): 0.8932999968528748, (<class 'keras.optimizers.optimizer_v2.rmsprop.RMSprop'>, 0.401, 400): 0.2906000018119812, (<class 'keras.optimizers.optimizer_v2.rmsprop.RMSprop'>, 0.401, 700): 0.10540000349283218, (<class 'keras.optimizers.optimizer_v2.rmsprop.RMSprop'>, 0.801, 100): 0.09440000355243683, (<class 'keras.optimizers.optimizer_v2.rmsprop.RMSprop'>, 0.801, 400): 0.12250000238418579, (<class 'keras.optimizers.optimizer_v2.rmsprop.RMSprop'>, 0.801, 700): 0.10100000351667404, (<class 'keras.optimizers.optimizer_v2.adam.Adam'>, 0.001, 100): 0.9743000268936157, (<class 'keras.optimizers.optimizer_v2.adam.Adam'>, 0.001, 400): 0.979200005531311, (<class 'keras.optimizers.optimizer_v2.adam.Adam'>, 0.001, 700): 0.9800000190734863, (<class 'keras.optimizers.optimizer_v2.adam.Adam'>, 0.401, 100): 0.09799999743700027}\n",
            "313/313 [==============================] - 5s 14ms/step - loss: nan - accuracy: 0.0980\n",
            "{(<class 'keras.optimizers.optimizer_v2.gradient_descent.SGD'>, 0.001, 100): 0.9424999952316284, (<class 'keras.optimizers.optimizer_v2.gradient_descent.SGD'>, 0.001, 400): 0.8640000224113464, (<class 'keras.optimizers.optimizer_v2.gradient_descent.SGD'>, 0.001, 700): 0.5419999957084656, (<class 'keras.optimizers.optimizer_v2.gradient_descent.SGD'>, 0.401, 100): 0.09799999743700027, (<class 'keras.optimizers.optimizer_v2.gradient_descent.SGD'>, 0.401, 400): 0.09799999743700027, (<class 'keras.optimizers.optimizer_v2.gradient_descent.SGD'>, 0.401, 700): 0.09799999743700027, (<class 'keras.optimizers.optimizer_v2.gradient_descent.SGD'>, 0.801, 100): 0.09799999743700027, (<class 'keras.optimizers.optimizer_v2.gradient_descent.SGD'>, 0.801, 400): 0.09799999743700027, (<class 'keras.optimizers.optimizer_v2.gradient_descent.SGD'>, 0.801, 700): 0.09799999743700027, (<class 'keras.optimizers.optimizer_v2.rmsprop.RMSprop'>, 0.001, 100): 0.9715999960899353, (<class 'keras.optimizers.optimizer_v2.rmsprop.RMSprop'>, 0.001, 400): 0.9822999835014343, (<class 'keras.optimizers.optimizer_v2.rmsprop.RMSprop'>, 0.001, 700): 0.9760000109672546, (<class 'keras.optimizers.optimizer_v2.rmsprop.RMSprop'>, 0.401, 100): 0.8932999968528748, (<class 'keras.optimizers.optimizer_v2.rmsprop.RMSprop'>, 0.401, 400): 0.2906000018119812, (<class 'keras.optimizers.optimizer_v2.rmsprop.RMSprop'>, 0.401, 700): 0.10540000349283218, (<class 'keras.optimizers.optimizer_v2.rmsprop.RMSprop'>, 0.801, 100): 0.09440000355243683, (<class 'keras.optimizers.optimizer_v2.rmsprop.RMSprop'>, 0.801, 400): 0.12250000238418579, (<class 'keras.optimizers.optimizer_v2.rmsprop.RMSprop'>, 0.801, 700): 0.10100000351667404, (<class 'keras.optimizers.optimizer_v2.adam.Adam'>, 0.001, 100): 0.9743000268936157, (<class 'keras.optimizers.optimizer_v2.adam.Adam'>, 0.001, 400): 0.979200005531311, (<class 'keras.optimizers.optimizer_v2.adam.Adam'>, 0.001, 700): 0.9800000190734863, (<class 'keras.optimizers.optimizer_v2.adam.Adam'>, 0.401, 100): 0.09799999743700027, (<class 'keras.optimizers.optimizer_v2.adam.Adam'>, 0.401, 400): 0.09799999743700027}\n",
            "313/313 [==============================] - 5s 14ms/step - loss: nan - accuracy: 0.0980\n",
            "{(<class 'keras.optimizers.optimizer_v2.gradient_descent.SGD'>, 0.001, 100): 0.9424999952316284, (<class 'keras.optimizers.optimizer_v2.gradient_descent.SGD'>, 0.001, 400): 0.8640000224113464, (<class 'keras.optimizers.optimizer_v2.gradient_descent.SGD'>, 0.001, 700): 0.5419999957084656, (<class 'keras.optimizers.optimizer_v2.gradient_descent.SGD'>, 0.401, 100): 0.09799999743700027, (<class 'keras.optimizers.optimizer_v2.gradient_descent.SGD'>, 0.401, 400): 0.09799999743700027, (<class 'keras.optimizers.optimizer_v2.gradient_descent.SGD'>, 0.401, 700): 0.09799999743700027, (<class 'keras.optimizers.optimizer_v2.gradient_descent.SGD'>, 0.801, 100): 0.09799999743700027, (<class 'keras.optimizers.optimizer_v2.gradient_descent.SGD'>, 0.801, 400): 0.09799999743700027, (<class 'keras.optimizers.optimizer_v2.gradient_descent.SGD'>, 0.801, 700): 0.09799999743700027, (<class 'keras.optimizers.optimizer_v2.rmsprop.RMSprop'>, 0.001, 100): 0.9715999960899353, (<class 'keras.optimizers.optimizer_v2.rmsprop.RMSprop'>, 0.001, 400): 0.9822999835014343, (<class 'keras.optimizers.optimizer_v2.rmsprop.RMSprop'>, 0.001, 700): 0.9760000109672546, (<class 'keras.optimizers.optimizer_v2.rmsprop.RMSprop'>, 0.401, 100): 0.8932999968528748, (<class 'keras.optimizers.optimizer_v2.rmsprop.RMSprop'>, 0.401, 400): 0.2906000018119812, (<class 'keras.optimizers.optimizer_v2.rmsprop.RMSprop'>, 0.401, 700): 0.10540000349283218, (<class 'keras.optimizers.optimizer_v2.rmsprop.RMSprop'>, 0.801, 100): 0.09440000355243683, (<class 'keras.optimizers.optimizer_v2.rmsprop.RMSprop'>, 0.801, 400): 0.12250000238418579, (<class 'keras.optimizers.optimizer_v2.rmsprop.RMSprop'>, 0.801, 700): 0.10100000351667404, (<class 'keras.optimizers.optimizer_v2.adam.Adam'>, 0.001, 100): 0.9743000268936157, (<class 'keras.optimizers.optimizer_v2.adam.Adam'>, 0.001, 400): 0.979200005531311, (<class 'keras.optimizers.optimizer_v2.adam.Adam'>, 0.001, 700): 0.9800000190734863, (<class 'keras.optimizers.optimizer_v2.adam.Adam'>, 0.401, 100): 0.09799999743700027, (<class 'keras.optimizers.optimizer_v2.adam.Adam'>, 0.401, 400): 0.09799999743700027, (<class 'keras.optimizers.optimizer_v2.adam.Adam'>, 0.401, 700): 0.09799999743700027}\n",
            "313/313 [==============================] - 5s 14ms/step - loss: nan - accuracy: 0.0980\n",
            "{(<class 'keras.optimizers.optimizer_v2.gradient_descent.SGD'>, 0.001, 100): 0.9424999952316284, (<class 'keras.optimizers.optimizer_v2.gradient_descent.SGD'>, 0.001, 400): 0.8640000224113464, (<class 'keras.optimizers.optimizer_v2.gradient_descent.SGD'>, 0.001, 700): 0.5419999957084656, (<class 'keras.optimizers.optimizer_v2.gradient_descent.SGD'>, 0.401, 100): 0.09799999743700027, (<class 'keras.optimizers.optimizer_v2.gradient_descent.SGD'>, 0.401, 400): 0.09799999743700027, (<class 'keras.optimizers.optimizer_v2.gradient_descent.SGD'>, 0.401, 700): 0.09799999743700027, (<class 'keras.optimizers.optimizer_v2.gradient_descent.SGD'>, 0.801, 100): 0.09799999743700027, (<class 'keras.optimizers.optimizer_v2.gradient_descent.SGD'>, 0.801, 400): 0.09799999743700027, (<class 'keras.optimizers.optimizer_v2.gradient_descent.SGD'>, 0.801, 700): 0.09799999743700027, (<class 'keras.optimizers.optimizer_v2.rmsprop.RMSprop'>, 0.001, 100): 0.9715999960899353, (<class 'keras.optimizers.optimizer_v2.rmsprop.RMSprop'>, 0.001, 400): 0.9822999835014343, (<class 'keras.optimizers.optimizer_v2.rmsprop.RMSprop'>, 0.001, 700): 0.9760000109672546, (<class 'keras.optimizers.optimizer_v2.rmsprop.RMSprop'>, 0.401, 100): 0.8932999968528748, (<class 'keras.optimizers.optimizer_v2.rmsprop.RMSprop'>, 0.401, 400): 0.2906000018119812, (<class 'keras.optimizers.optimizer_v2.rmsprop.RMSprop'>, 0.401, 700): 0.10540000349283218, (<class 'keras.optimizers.optimizer_v2.rmsprop.RMSprop'>, 0.801, 100): 0.09440000355243683, (<class 'keras.optimizers.optimizer_v2.rmsprop.RMSprop'>, 0.801, 400): 0.12250000238418579, (<class 'keras.optimizers.optimizer_v2.rmsprop.RMSprop'>, 0.801, 700): 0.10100000351667404, (<class 'keras.optimizers.optimizer_v2.adam.Adam'>, 0.001, 100): 0.9743000268936157, (<class 'keras.optimizers.optimizer_v2.adam.Adam'>, 0.001, 400): 0.979200005531311, (<class 'keras.optimizers.optimizer_v2.adam.Adam'>, 0.001, 700): 0.9800000190734863, (<class 'keras.optimizers.optimizer_v2.adam.Adam'>, 0.401, 100): 0.09799999743700027, (<class 'keras.optimizers.optimizer_v2.adam.Adam'>, 0.401, 400): 0.09799999743700027, (<class 'keras.optimizers.optimizer_v2.adam.Adam'>, 0.401, 700): 0.09799999743700027, (<class 'keras.optimizers.optimizer_v2.adam.Adam'>, 0.801, 100): 0.09799999743700027}\n",
            "313/313 [==============================] - 5s 14ms/step - loss: nan - accuracy: 0.0980\n",
            "{(<class 'keras.optimizers.optimizer_v2.gradient_descent.SGD'>, 0.001, 100): 0.9424999952316284, (<class 'keras.optimizers.optimizer_v2.gradient_descent.SGD'>, 0.001, 400): 0.8640000224113464, (<class 'keras.optimizers.optimizer_v2.gradient_descent.SGD'>, 0.001, 700): 0.5419999957084656, (<class 'keras.optimizers.optimizer_v2.gradient_descent.SGD'>, 0.401, 100): 0.09799999743700027, (<class 'keras.optimizers.optimizer_v2.gradient_descent.SGD'>, 0.401, 400): 0.09799999743700027, (<class 'keras.optimizers.optimizer_v2.gradient_descent.SGD'>, 0.401, 700): 0.09799999743700027, (<class 'keras.optimizers.optimizer_v2.gradient_descent.SGD'>, 0.801, 100): 0.09799999743700027, (<class 'keras.optimizers.optimizer_v2.gradient_descent.SGD'>, 0.801, 400): 0.09799999743700027, (<class 'keras.optimizers.optimizer_v2.gradient_descent.SGD'>, 0.801, 700): 0.09799999743700027, (<class 'keras.optimizers.optimizer_v2.rmsprop.RMSprop'>, 0.001, 100): 0.9715999960899353, (<class 'keras.optimizers.optimizer_v2.rmsprop.RMSprop'>, 0.001, 400): 0.9822999835014343, (<class 'keras.optimizers.optimizer_v2.rmsprop.RMSprop'>, 0.001, 700): 0.9760000109672546, (<class 'keras.optimizers.optimizer_v2.rmsprop.RMSprop'>, 0.401, 100): 0.8932999968528748, (<class 'keras.optimizers.optimizer_v2.rmsprop.RMSprop'>, 0.401, 400): 0.2906000018119812, (<class 'keras.optimizers.optimizer_v2.rmsprop.RMSprop'>, 0.401, 700): 0.10540000349283218, (<class 'keras.optimizers.optimizer_v2.rmsprop.RMSprop'>, 0.801, 100): 0.09440000355243683, (<class 'keras.optimizers.optimizer_v2.rmsprop.RMSprop'>, 0.801, 400): 0.12250000238418579, (<class 'keras.optimizers.optimizer_v2.rmsprop.RMSprop'>, 0.801, 700): 0.10100000351667404, (<class 'keras.optimizers.optimizer_v2.adam.Adam'>, 0.001, 100): 0.9743000268936157, (<class 'keras.optimizers.optimizer_v2.adam.Adam'>, 0.001, 400): 0.979200005531311, (<class 'keras.optimizers.optimizer_v2.adam.Adam'>, 0.001, 700): 0.9800000190734863, (<class 'keras.optimizers.optimizer_v2.adam.Adam'>, 0.401, 100): 0.09799999743700027, (<class 'keras.optimizers.optimizer_v2.adam.Adam'>, 0.401, 400): 0.09799999743700027, (<class 'keras.optimizers.optimizer_v2.adam.Adam'>, 0.401, 700): 0.09799999743700027, (<class 'keras.optimizers.optimizer_v2.adam.Adam'>, 0.801, 100): 0.09799999743700027, (<class 'keras.optimizers.optimizer_v2.adam.Adam'>, 0.801, 400): 0.09799999743700027}\n",
            "313/313 [==============================] - 5s 14ms/step - loss: nan - accuracy: 0.0980\n",
            "{(<class 'keras.optimizers.optimizer_v2.gradient_descent.SGD'>, 0.001, 100): 0.9424999952316284, (<class 'keras.optimizers.optimizer_v2.gradient_descent.SGD'>, 0.001, 400): 0.8640000224113464, (<class 'keras.optimizers.optimizer_v2.gradient_descent.SGD'>, 0.001, 700): 0.5419999957084656, (<class 'keras.optimizers.optimizer_v2.gradient_descent.SGD'>, 0.401, 100): 0.09799999743700027, (<class 'keras.optimizers.optimizer_v2.gradient_descent.SGD'>, 0.401, 400): 0.09799999743700027, (<class 'keras.optimizers.optimizer_v2.gradient_descent.SGD'>, 0.401, 700): 0.09799999743700027, (<class 'keras.optimizers.optimizer_v2.gradient_descent.SGD'>, 0.801, 100): 0.09799999743700027, (<class 'keras.optimizers.optimizer_v2.gradient_descent.SGD'>, 0.801, 400): 0.09799999743700027, (<class 'keras.optimizers.optimizer_v2.gradient_descent.SGD'>, 0.801, 700): 0.09799999743700027, (<class 'keras.optimizers.optimizer_v2.rmsprop.RMSprop'>, 0.001, 100): 0.9715999960899353, (<class 'keras.optimizers.optimizer_v2.rmsprop.RMSprop'>, 0.001, 400): 0.9822999835014343, (<class 'keras.optimizers.optimizer_v2.rmsprop.RMSprop'>, 0.001, 700): 0.9760000109672546, (<class 'keras.optimizers.optimizer_v2.rmsprop.RMSprop'>, 0.401, 100): 0.8932999968528748, (<class 'keras.optimizers.optimizer_v2.rmsprop.RMSprop'>, 0.401, 400): 0.2906000018119812, (<class 'keras.optimizers.optimizer_v2.rmsprop.RMSprop'>, 0.401, 700): 0.10540000349283218, (<class 'keras.optimizers.optimizer_v2.rmsprop.RMSprop'>, 0.801, 100): 0.09440000355243683, (<class 'keras.optimizers.optimizer_v2.rmsprop.RMSprop'>, 0.801, 400): 0.12250000238418579, (<class 'keras.optimizers.optimizer_v2.rmsprop.RMSprop'>, 0.801, 700): 0.10100000351667404, (<class 'keras.optimizers.optimizer_v2.adam.Adam'>, 0.001, 100): 0.9743000268936157, (<class 'keras.optimizers.optimizer_v2.adam.Adam'>, 0.001, 400): 0.979200005531311, (<class 'keras.optimizers.optimizer_v2.adam.Adam'>, 0.001, 700): 0.9800000190734863, (<class 'keras.optimizers.optimizer_v2.adam.Adam'>, 0.401, 100): 0.09799999743700027, (<class 'keras.optimizers.optimizer_v2.adam.Adam'>, 0.401, 400): 0.09799999743700027, (<class 'keras.optimizers.optimizer_v2.adam.Adam'>, 0.401, 700): 0.09799999743700027, (<class 'keras.optimizers.optimizer_v2.adam.Adam'>, 0.801, 100): 0.09799999743700027, (<class 'keras.optimizers.optimizer_v2.adam.Adam'>, 0.801, 400): 0.09799999743700027, (<class 'keras.optimizers.optimizer_v2.adam.Adam'>, 0.801, 700): 0.09799999743700027}\n"
          ]
        }
      ],
      "source": [
        "acc={}\n",
        "for f in a:\n",
        "    for i in np.arange(0.001,1,0.4):\n",
        "        for j in np.arange(100,800,300):    \n",
        "            model2 = Sequential()\n",
        "            model2.add(Conv2D(100, kernel_size=3, padding=\"same\", input_shape=(1,28,28)))\n",
        "            model2.add(Conv2D(90, kernel_size=3, padding=\"same\"))\n",
        "            model2.add(MaxPooling2D(pool_size=(3, 3), strides=(2, 2), padding=\"same\"))\n",
        "            model2.add(Conv2D(80, kernel_size=3, padding=\"same\"))\n",
        "            model2.add(Conv2D(70, kernel_size=3, padding=\"same\"))\n",
        "            model2.add(MaxPooling2D(pool_size=(3, 3), strides=(2, 2), padding=\"same\"))\n",
        "            model2.add(Conv2D(60, kernel_size=3, padding=\"same\"))\n",
        "            model2.add(Conv2D(50, kernel_size=3, padding=\"same\"))\n",
        "            model2.add(MaxPooling2D(pool_size=(3, 3), strides=(2, 2), padding=\"same\"))\n",
        "            model2.add(Conv2D(40, kernel_size=3, padding=\"same\"))\n",
        "            model2.add(Conv2D(30, kernel_size=3, padding=\"same\"))\n",
        "            model2.add(MaxPooling2D(pool_size=(3, 3), strides=(2, 2), padding=\"same\"))\n",
        "            model2.add(Conv2D(20, kernel_size=3, padding=\"same\"))\n",
        "            model2.add(Conv2D(10, kernel_size=3, padding=\"same\"))\n",
        "            model2.add(Flatten())\n",
        "            model2.add(Dense(10))\n",
        "            model2.add(Activation('softmax'))\n",
        "            model2.compile(loss='categorical_crossentropy', optimizer=f(lr=i), metrics=['accuracy'])\n",
        "            model2.fit(X_train, Y_train, batch_size=j, epochs=4,verbose=0)\n",
        "            score = model2.evaluate(X_test, Y_test)\n",
        "            acc[(f,i,j)]=score[1]\n",
        "            print(acc)"
      ],
      "id": "d6485f88"
    },
    {
      "cell_type": "code",
      "execution_count": 22,
      "metadata": {
        "id": "23394522"
      },
      "outputs": [],
      "source": [
        "l=[]\n",
        "for i in \"{(<class 'keras.optimizers.optimizer_v2.gradient_descent.SGD'>, 0.001, 100): 0.9424999952316284, (<class 'keras.optimizers.optimizer_v2.gradient_descent.SGD'>, 0.001, 400): 0.8640000224113464, (<class 'keras.optimizers.optimizer_v2.gradient_descent.SGD'>, 0.001, 700): 0.5419999957084656, (<class 'keras.optimizers.optimizer_v2.gradient_descent.SGD'>, 0.401, 100): 0.09799999743700027, (<class 'keras.optimizers.optimizer_v2.gradient_descent.SGD'>, 0.401, 400): 0.09799999743700027, (<class 'keras.optimizers.optimizer_v2.gradient_descent.SGD'>, 0.401, 700): 0.09799999743700027, (<class 'keras.optimizers.optimizer_v2.gradient_descent.SGD'>, 0.801, 100): 0.09799999743700027, (<class 'keras.optimizers.optimizer_v2.gradient_descent.SGD'>, 0.801, 400): 0.09799999743700027, (<class 'keras.optimizers.optimizer_v2.gradient_descent.SGD'>, 0.801, 700): 0.09799999743700027, (<class 'keras.optimizers.optimizer_v2.rmsprop.RMSprop'>, 0.001, 100): 0.9715999960899353, (<class 'keras.optimizers.optimizer_v2.rmsprop.RMSprop'>, 0.001, 400): 0.9822999835014343, (<class 'keras.optimizers.optimizer_v2.rmsprop.RMSprop'>, 0.001, 700): 0.9760000109672546, (<class 'keras.optimizers.optimizer_v2.rmsprop.RMSprop'>, 0.401, 100): 0.8932999968528748, (<class 'keras.optimizers.optimizer_v2.rmsprop.RMSprop'>, 0.401, 400): 0.2906000018119812, (<class 'keras.optimizers.optimizer_v2.rmsprop.RMSprop'>, 0.401, 700): 0.10540000349283218, (<class 'keras.optimizers.optimizer_v2.rmsprop.RMSprop'>, 0.801, 100): 0.09440000355243683, (<class 'keras.optimizers.optimizer_v2.rmsprop.RMSprop'>, 0.801, 400): 0.12250000238418579, (<class 'keras.optimizers.optimizer_v2.rmsprop.RMSprop'>, 0.801, 700): 0.10100000351667404, (<class 'keras.optimizers.optimizer_v2.adam.Adam'>, 0.001, 100): 0.9743000268936157, (<class 'keras.optimizers.optimizer_v2.adam.Adam'>, 0.001, 400): 0.979200005531311, (<class 'keras.optimizers.optimizer_v2.adam.Adam'>, 0.001, 700): 0.9800000190734863, (<class 'keras.optimizers.optimizer_v2.adam.Adam'>, 0.401, 100): 0.09799999743700027, (<class 'keras.optimizers.optimizer_v2.adam.Adam'>, 0.401, 400): 0.09799999743700027, (<class 'keras.optimizers.optimizer_v2.adam.Adam'>, 0.401, 700): 0.09799999743700027, (<class 'keras.optimizers.optimizer_v2.adam.Adam'>, 0.801, 100): 0.09799999743700027, (<class 'keras.optimizers.optimizer_v2.adam.Adam'>, 0.801, 400): 0.09799999743700027, (<class 'keras.optimizers.optimizer_v2.adam.Adam'>, 0.801, 700): 0.09799999743700027}\".split(\", (\"):\n",
        "    l.append(i)\n",
        "l[0]=l[0][1:]\n",
        "l[len(l)-1]=l[len(l)-1][:len(l[len(l)-1])]"
      ],
      "id": "23394522"
    },
    {
      "cell_type": "code",
      "execution_count": 23,
      "metadata": {
        "id": "5fa6208b"
      },
      "outputs": [],
      "source": [
        "mod=[]\n",
        "ac=[]\n",
        "for i in l:\n",
        "    a1,b=i.split(\":\")\n",
        "    mod.append(a1[len(a1)-19:len(a1)-1])\n",
        "    ac.append(float(b[:len(b)-2].strip()))\n",
        "mod[0]=mod[0][1:]"
      ],
      "id": "5fa6208b"
    },
    {
      "cell_type": "code",
      "execution_count": 24,
      "metadata": {
        "colab": {
          "base_uri": "https://localhost:8080/",
          "height": 183
        },
        "id": "8a6b802f",
        "outputId": "7746c5ed-0a8c-4db0-9958-3c4bc720df35"
      },
      "outputs": [
        {
          "output_type": "execute_result",
          "data": {
            "text/plain": [
              "<BarContainer object of 27 artists>"
            ]
          },
          "metadata": {},
          "execution_count": 24
        },
        {
          "output_type": "display_data",
          "data": {
            "text/plain": [
              "<Figure size 4320x432 with 1 Axes>"
            ],
            "image/png": "[encoded data removed]"
          },
          "metadata": {
            "needs_background": "light"
          }
        }
      ],
      "source": [
        "import matplotlib.pyplot as plt\n",
        "f=plt.figure()\n",
        "f.set_figheight(6)\n",
        "f.set_figwidth(60)\n",
        "plt.bar(mod,ac)"
      ],
      "id": "8a6b802f"
    },
    {
      "cell_type": "markdown",
      "metadata": {
        "id": "1ab45f07"
      },
      "source": [
        "### FROM the plot for model-3 we can see that \n",
        "### FOR SGD           \n",
        "the optimal batch size is 100-400 which is yileding good accuracy\n",
        "the optimal learning rate is 0.001 since for other values the accuracy is quite depressing\n",
        "### FOR rmsprop\n",
        "there is no much impact of batch size. Almost all batch sizes are producing simmilar kind of accuracy\n",
        "the optimal learning rate is 0.001-0.4 since for other values the accuracy is quite depressing\n",
        "### FOR Adam\n",
        "there is no much impact of batch size. Almost all batch sizes are producing simmilar kind of accuracy\n",
        "the optimal learning rate is 0.001 since for other values the accuracy is quite depressing\n",
        "\n",
        "### OVERALL\n",
        "Finally we can see the with lower value of learning rate, all model-3 are performoing good\n",
        "There is no much impact of batch size for Adam and rmsprop but the SGD is being affected by batch size"
      ],
      "id": "1ab45f07"
    },
    {
      "cell_type": "markdown",
      "metadata": {
        "id": "867f2daf"
      },
      "source": [
        "### max accuracy producing parameters for second model"
      ],
      "id": "867f2daf"
    },
    {
      "cell_type": "code",
      "execution_count": 25,
      "metadata": {
        "colab": {
          "base_uri": "https://localhost:8080/"
        },
        "id": "313c9281",
        "outputId": "212f2bbb-4c47-467a-eed1-a3c78c3685ae"
      },
      "outputs": [
        {
          "output_type": "stream",
          "name": "stdout",
          "text": [
            "Adam'>, 0.001, 700\n",
            "0.9830999970436\n"
          ]
        }
      ],
      "source": [
        "print(mod[ac.index(max(ac))])\n",
        "print(max(ac))"
      ],
      "id": "313c9281"
    },
    {
      "cell_type": "markdown",
      "metadata": {
        "id": "aede68b2"
      },
      "source": [
        "### OVRALL REPORT"
      ],
      "id": "aede68b2"
    },
    {
      "cell_type": "markdown",
      "metadata": {
        "id": "2372f979"
      },
      "source": [
        "The highest accurate model( hour glass shapped model,<class 'keras.optimizers.optimizer_v2.adam.Adam'>, 0.001, 700) of all 3 models yeild the accuracy of 98.3799%              \n",
        "The hour glass shapped model yeilds good accuracy with parameters Adam and learning rate 0.001 and batch size 700            \n",
        "Regular CNN model yeilds good accuracy with parameters Adam and learning rate 0.001 and batch size 400             \n",
        "Inverted CNN model yeilds good accuracy with parameters rmsprop and learning rate 0.001 and batch size 100"
      ],
      "id": "2372f979"
    },
    {
      "cell_type": "code",
      "execution_count": 26,
      "metadata": {
        "colab": {
          "base_uri": "https://localhost:8080/"
        },
        "id": "c6e12df3",
        "outputId": "b7b6c033-715a-45a0-ba6d-09d1d0996ae6"
      },
      "outputs": [
        {
          "output_type": "stream",
          "name": "stdout",
          "text": [
            "0.9822999835014343\n"
          ]
        }
      ],
      "source": [
        "maxval=0\n",
        "for i,j in acc.items():\n",
        "    if(j>maxval):\n",
        "        maxval=j\n",
        "        z=i\n",
        "print(maxval)\n",
        "mx_acc.append(z)    "
      ],
      "id": "c6e12df3"
    },
    {
      "cell_type": "code",
      "execution_count": 27,
      "metadata": {
        "colab": {
          "base_uri": "https://localhost:8080/"
        },
        "id": "c5a8f45b",
        "outputId": "7f9ff303-fab4-4cac-bc01-600d819bf80b"
      },
      "outputs": [
        {
          "output_type": "stream",
          "name": "stdout",
          "text": [
            "[(<class 'keras.optimizers.optimizer_v2.adam.Adam'>, 0.001, 400), (<class 'keras.optimizers.optimizer_v2.adam.Adam'>, 0.001, 400), (<class 'keras.optimizers.optimizer_v2.rmsprop.RMSprop'>, 0.001, 400)]\n"
          ]
        }
      ],
      "source": [
        "print(mx_acc)"
      ],
      "id": "c5a8f45b"
    },
    {
      "cell_type": "markdown",
      "metadata": {
        "id": "e4dbc449"
      },
      "source": [
        "### 2."
      ],
      "id": "e4dbc449"
    },
    {
      "cell_type": "markdown",
      "metadata": {
        "id": "12748a8b"
      },
      "source": [
        "##### 3. Different parameters"
      ],
      "id": "12748a8b"
    },
    {
      "cell_type": "code",
      "execution_count": 12,
      "metadata": {
        "id": "2278bdb9"
      },
      "outputs": [],
      "source": [
        "from keras.datasets import cifar10\n",
        "(X_train, y_train), (X_test, y_test) = cifar10.load_data()\n"
      ],
      "id": "2278bdb9"
    },
    {
      "cell_type": "code",
      "execution_count": 13,
      "metadata": {
        "colab": {
          "base_uri": "https://localhost:8080/"
        },
        "id": "1df4d46e",
        "outputId": "d1fc2f8d-89b9-46bb-ddff-7bbb42433d9d"
      },
      "outputs": [
        {
          "output_type": "execute_result",
          "data": {
            "text/plain": [
              "(50000, 32, 32, 3)"
            ]
          },
          "metadata": {},
          "execution_count": 13
        }
      ],
      "source": [
        "X_train.shape"
      ],
      "id": "1df4d46e"
    },
    {
      "cell_type": "code",
      "execution_count": 14,
      "metadata": {
        "id": "d2af5a4b"
      },
      "outputs": [],
      "source": [
        "Y_train = np_utils.to_categorical(y_train, 10)\n",
        "Y_test = np_utils.to_categorical(y_test, 10)"
      ],
      "id": "d2af5a4b"
    },
    {
      "cell_type": "code",
      "execution_count": 15,
      "metadata": {
        "id": "0ab70c5b"
      },
      "outputs": [],
      "source": [
        "X_train= X_train.astype('float32')\n",
        "X_test = X_test.astype('float32')\n",
        "X_train = X_train / 255\n",
        "X_test = X_test / 255 "
      ],
      "id": "0ab70c5b"
    },
    {
      "cell_type": "code",
      "execution_count": 32,
      "metadata": {
        "colab": {
          "base_uri": "https://localhost:8080/"
        },
        "id": "20f86f3b",
        "outputId": "cb6df642-f95e-4966-a1c3-1b68fe74b6f0"
      },
      "outputs": [
        {
          "output_type": "stream",
          "name": "stdout",
          "text": [
            "Epoch 1/25\n",
            "500/500 [==============================] - 44s 86ms/step - loss: 1.6446 - accuracy: 0.4129\n",
            "Epoch 2/25\n",
            "500/500 [==============================] - 42s 83ms/step - loss: 1.4070 - accuracy: 0.5029\n",
            "Epoch 3/25\n",
            "500/500 [==============================] - 43s 86ms/step - loss: 1.3285 - accuracy: 0.5364\n",
            "Epoch 4/25\n",
            "500/500 [==============================] - 42s 83ms/step - loss: 1.2817 - accuracy: 0.5524\n",
            "Epoch 5/25\n",
            "500/500 [==============================] - 41s 83ms/step - loss: 1.2580 - accuracy: 0.5621\n",
            "Epoch 6/25\n",
            "500/500 [==============================] - 41s 83ms/step - loss: 1.2386 - accuracy: 0.5691\n",
            "Epoch 7/25\n",
            "500/500 [==============================] - 41s 83ms/step - loss: 1.2235 - accuracy: 0.5741\n",
            "Epoch 8/25\n",
            "500/500 [==============================] - 43s 86ms/step - loss: 1.2077 - accuracy: 0.5783\n",
            "Epoch 9/25\n",
            "500/500 [==============================] - 41s 83ms/step - loss: 1.1982 - accuracy: 0.5827\n",
            "Epoch 10/25\n",
            "500/500 [==============================] - 41s 83ms/step - loss: 1.1865 - accuracy: 0.5878\n",
            "Epoch 11/25\n",
            "500/500 [==============================] - 42s 83ms/step - loss: 1.1786 - accuracy: 0.5877\n",
            "Epoch 12/25\n",
            "500/500 [==============================] - 42s 83ms/step - loss: 1.1693 - accuracy: 0.5952\n",
            "Epoch 13/25\n",
            "500/500 [==============================] - 43s 85ms/step - loss: 1.1584 - accuracy: 0.5973\n",
            "Epoch 14/25\n",
            "500/500 [==============================] - 41s 83ms/step - loss: 1.1569 - accuracy: 0.5993\n",
            "Epoch 15/25\n",
            "500/500 [==============================] - 41s 83ms/step - loss: 1.1505 - accuracy: 0.6005\n",
            "Epoch 16/25\n",
            "500/500 [==============================] - 41s 83ms/step - loss: 1.1440 - accuracy: 0.6024\n",
            "Epoch 17/25\n",
            "500/500 [==============================] - 43s 85ms/step - loss: 1.1373 - accuracy: 0.6054\n",
            "Epoch 18/25\n",
            "500/500 [==============================] - 41s 83ms/step - loss: 1.1336 - accuracy: 0.6072\n",
            "Epoch 19/25\n",
            "500/500 [==============================] - 41s 83ms/step - loss: 1.1271 - accuracy: 0.6096\n",
            "Epoch 20/25\n",
            "500/500 [==============================] - 41s 83ms/step - loss: 1.1218 - accuracy: 0.6119\n",
            "Epoch 21/25\n",
            "500/500 [==============================] - 42s 83ms/step - loss: 1.1151 - accuracy: 0.6118\n",
            "Epoch 22/25\n",
            "500/500 [==============================] - 43s 85ms/step - loss: 1.1168 - accuracy: 0.6137\n",
            "Epoch 23/25\n",
            "500/500 [==============================] - 42s 83ms/step - loss: 1.1088 - accuracy: 0.6161\n",
            "Epoch 24/25\n",
            "500/500 [==============================] - 42s 83ms/step - loss: 1.1038 - accuracy: 0.6184\n",
            "Epoch 25/25\n",
            "500/500 [==============================] - 42s 83ms/step - loss: 1.1000 - accuracy: 0.6202\n",
            "313/313 [==============================] - 5s 15ms/step - loss: 1.1841 - accuracy: 0.5909\n",
            "Epoch 1/25\n",
            "125/125 [==============================] - 37s 295ms/step - loss: 1.8233 - accuracy: 0.3557\n",
            "Epoch 2/25\n",
            "125/125 [==============================] - 37s 294ms/step - loss: 1.5726 - accuracy: 0.4446\n",
            "Epoch 3/25\n",
            "125/125 [==============================] - 37s 294ms/step - loss: 1.4752 - accuracy: 0.4781\n",
            "Epoch 4/25\n",
            "125/125 [==============================] - 37s 293ms/step - loss: 1.4175 - accuracy: 0.5004\n",
            "Epoch 5/25\n",
            "125/125 [==============================] - 37s 294ms/step - loss: 1.3723 - accuracy: 0.5198\n",
            "Epoch 6/25\n",
            "125/125 [==============================] - 38s 305ms/step - loss: 1.3361 - accuracy: 0.5321\n",
            "Epoch 7/25\n",
            "125/125 [==============================] - 36s 289ms/step - loss: 1.3160 - accuracy: 0.5394\n",
            "Epoch 8/25\n",
            "125/125 [==============================] - 36s 288ms/step - loss: 1.2954 - accuracy: 0.5470\n",
            "Epoch 9/25\n",
            "125/125 [==============================] - 36s 287ms/step - loss: 1.2790 - accuracy: 0.5530\n",
            "Epoch 10/25\n",
            "125/125 [==============================] - 36s 289ms/step - loss: 1.2621 - accuracy: 0.5589\n",
            "Epoch 11/25\n",
            "125/125 [==============================] - 37s 298ms/step - loss: 1.2626 - accuracy: 0.5591\n",
            "Epoch 12/25\n",
            "125/125 [==============================] - 36s 287ms/step - loss: 1.2448 - accuracy: 0.5653\n",
            "Epoch 13/25\n",
            "125/125 [==============================] - 36s 288ms/step - loss: 1.2357 - accuracy: 0.5687\n",
            "Epoch 14/25\n",
            "125/125 [==============================] - 36s 289ms/step - loss: 1.2247 - accuracy: 0.5736\n",
            "Epoch 15/25\n",
            "125/125 [==============================] - 36s 287ms/step - loss: 1.2120 - accuracy: 0.5792\n",
            "Epoch 16/25\n",
            "125/125 [==============================] - 36s 287ms/step - loss: 1.2116 - accuracy: 0.5778\n",
            "Epoch 17/25\n",
            "125/125 [==============================] - 37s 298ms/step - loss: 1.2057 - accuracy: 0.5792\n",
            "Epoch 18/25\n",
            "125/125 [==============================] - 36s 287ms/step - loss: 1.1976 - accuracy: 0.5821\n",
            "Epoch 19/25\n",
            "125/125 [==============================] - 36s 289ms/step - loss: 1.1881 - accuracy: 0.5863\n",
            "Epoch 20/25\n",
            "125/125 [==============================] - 36s 286ms/step - loss: 1.1807 - accuracy: 0.5911\n",
            "Epoch 21/25\n",
            "125/125 [==============================] - 36s 288ms/step - loss: 1.1782 - accuracy: 0.5904\n",
            "Epoch 22/25\n",
            "125/125 [==============================] - 37s 297ms/step - loss: 1.1724 - accuracy: 0.5932\n",
            "Epoch 23/25\n",
            "125/125 [==============================] - 36s 288ms/step - loss: 1.1643 - accuracy: 0.5964\n",
            "Epoch 24/25\n",
            "125/125 [==============================] - 36s 286ms/step - loss: 1.1591 - accuracy: 0.5988\n",
            "Epoch 25/25\n",
            "125/125 [==============================] - 36s 286ms/step - loss: 1.1523 - accuracy: 0.6011\n",
            "313/313 [==============================] - 5s 15ms/step - loss: 1.2202 - accuracy: 0.5769\n",
            "Epoch 1/25\n",
            "72/72 [==============================] - 38s 515ms/step - loss: 1.8242 - accuracy: 0.3536\n",
            "Epoch 2/25\n",
            "72/72 [==============================] - 37s 516ms/step - loss: 1.5316 - accuracy: 0.4583\n",
            "Epoch 3/25\n",
            "72/72 [==============================] - 36s 494ms/step - loss: 1.4329 - accuracy: 0.4956\n",
            "Epoch 4/25\n",
            "72/72 [==============================] - 36s 499ms/step - loss: 1.3748 - accuracy: 0.5167\n",
            "Epoch 5/25\n",
            "72/72 [==============================] - 36s 498ms/step - loss: 1.3416 - accuracy: 0.5313\n",
            "Epoch 6/25\n",
            "72/72 [==============================] - 36s 498ms/step - loss: 1.3030 - accuracy: 0.5460\n",
            "Epoch 7/25\n",
            "72/72 [==============================] - 36s 498ms/step - loss: 1.2780 - accuracy: 0.5530\n",
            "Epoch 8/25\n",
            "72/72 [==============================] - 37s 509ms/step - loss: 1.2613 - accuracy: 0.5597\n",
            "Epoch 9/25\n",
            "72/72 [==============================] - 36s 494ms/step - loss: 1.2470 - accuracy: 0.5627\n",
            "Epoch 10/25\n",
            "72/72 [==============================] - 36s 494ms/step - loss: 1.2351 - accuracy: 0.5697\n",
            "Epoch 11/25\n",
            "72/72 [==============================] - 36s 495ms/step - loss: 1.2105 - accuracy: 0.5809\n",
            "Epoch 12/25\n",
            "72/72 [==============================] - 35s 490ms/step - loss: 1.2003 - accuracy: 0.5832\n",
            "Epoch 13/25\n",
            "72/72 [==============================] - 35s 493ms/step - loss: 1.1970 - accuracy: 0.5842\n",
            "Epoch 14/25\n",
            "72/72 [==============================] - 37s 517ms/step - loss: 1.1918 - accuracy: 0.5855\n",
            "Epoch 15/25\n",
            "72/72 [==============================] - 36s 494ms/step - loss: 1.1855 - accuracy: 0.5907\n",
            "Epoch 16/25\n",
            "72/72 [==============================] - 36s 496ms/step - loss: 1.1735 - accuracy: 0.5920\n",
            "Epoch 17/25\n",
            "72/72 [==============================] - 35s 491ms/step - loss: 1.1661 - accuracy: 0.5962\n",
            "Epoch 18/25\n",
            "72/72 [==============================] - 36s 494ms/step - loss: 1.1605 - accuracy: 0.5972\n",
            "Epoch 19/25\n",
            "72/72 [==============================] - 37s 507ms/step - loss: 1.1604 - accuracy: 0.5967\n",
            "Epoch 20/25\n",
            "72/72 [==============================] - 35s 490ms/step - loss: 1.1527 - accuracy: 0.6017\n",
            "Epoch 21/25\n",
            "72/72 [==============================] - 35s 490ms/step - loss: 1.1421 - accuracy: 0.6051\n",
            "Epoch 22/25\n",
            "72/72 [==============================] - 35s 491ms/step - loss: 1.1425 - accuracy: 0.6040\n",
            "Epoch 23/25\n",
            "72/72 [==============================] - 35s 491ms/step - loss: 1.1342 - accuracy: 0.6092\n",
            "Epoch 24/25\n",
            "72/72 [==============================] - 36s 495ms/step - loss: 1.1370 - accuracy: 0.6066\n",
            "Epoch 25/25\n",
            "72/72 [==============================] - 37s 509ms/step - loss: 1.1307 - accuracy: 0.6108\n",
            "313/313 [==============================] - 5s 15ms/step - loss: 1.2127 - accuracy: 0.5767\n",
            "Epoch 1/25\n",
            "500/500 [==============================] - 42s 83ms/step - loss: 4730554.5000 - accuracy: 0.2369\n",
            "Epoch 2/25\n",
            "500/500 [==============================] - 41s 83ms/step - loss: 3758.7598 - accuracy: 0.3068\n",
            "Epoch 3/25\n",
            "500/500 [==============================] - 42s 83ms/step - loss: 1777.4934 - accuracy: 0.3251\n",
            "Epoch 4/25\n",
            "500/500 [==============================] - 43s 86ms/step - loss: 976.0670 - accuracy: 0.3401\n",
            "Epoch 5/25\n",
            "500/500 [==============================] - 42s 83ms/step - loss: 542.8415 - accuracy: 0.3520\n",
            "Epoch 6/25\n",
            "500/500 [==============================] - 42s 83ms/step - loss: 324.2291 - accuracy: 0.3587\n",
            "Epoch 7/25\n",
            "500/500 [==============================] - 42s 83ms/step - loss: 24322807808.0000 - accuracy: 0.3357\n",
            "Epoch 8/25\n",
            "500/500 [==============================] - 41s 83ms/step - loss: 9780748288.0000 - accuracy: 0.1874\n",
            "Epoch 9/25\n",
            "500/500 [==============================] - 43s 85ms/step - loss: 21583646.0000 - accuracy: 0.2220\n",
            "Epoch 10/25\n",
            "500/500 [==============================] - 41s 83ms/step - loss: 8044601.5000 - accuracy: 0.2364\n",
            "Epoch 11/25\n",
            "500/500 [==============================] - 41s 83ms/step - loss: 4747518.5000 - accuracy: 0.2436\n",
            "Epoch 12/25\n",
            "500/500 [==============================] - 41s 82ms/step - loss: 3770949.7500 - accuracy: 0.2439\n",
            "Epoch 13/25\n",
            "500/500 [==============================] - 41s 83ms/step - loss: 3384017.2500 - accuracy: 0.2430\n",
            "Epoch 14/25\n",
            "500/500 [==============================] - 42s 85ms/step - loss: 7588177.5000 - accuracy: 0.2470\n",
            "Epoch 15/25\n",
            "500/500 [==============================] - 41s 82ms/step - loss: 54317132.0000 - accuracy: 0.2412\n",
            "Epoch 16/25\n",
            "500/500 [==============================] - 41s 82ms/step - loss: 1280870.0000 - accuracy: 0.2786\n",
            "Epoch 17/25\n",
            "500/500 [==============================] - 40s 80ms/step - loss: 3260284.0000 - accuracy: 0.2739\n",
            "Epoch 18/25\n",
            "500/500 [==============================] - 40s 81ms/step - loss: 297858688.0000 - accuracy: 0.1986\n",
            "Epoch 19/25\n",
            "500/500 [==============================] - 41s 82ms/step - loss: 1093787.1250 - accuracy: 0.2362\n",
            "Epoch 20/25\n",
            "500/500 [==============================] - 40s 80ms/step - loss: 526375.0625 - accuracy: 0.2557\n",
            "Epoch 21/25\n",
            "500/500 [==============================] - 40s 80ms/step - loss: 378814.5312 - accuracy: 0.2633\n",
            "Epoch 22/25\n",
            "500/500 [==============================] - 40s 80ms/step - loss: 336594.4688 - accuracy: 0.2609\n",
            "Epoch 23/25\n",
            "500/500 [==============================] - 40s 80ms/step - loss: 540236.1250 - accuracy: 0.2497\n",
            "Epoch 24/25\n",
            "500/500 [==============================] - 41s 82ms/step - loss: 1920770.3750 - accuracy: 0.2535\n",
            "Epoch 25/25\n",
            "500/500 [==============================] - 40s 80ms/step - loss: 76944.8516 - accuracy: 0.3030\n",
            "313/313 [==============================] - 5s 15ms/step - loss: 77064.0703 - accuracy: 0.2889\n",
            "Epoch 1/25\n",
            "125/125 [==============================] - 35s 276ms/step - loss: 24257536.0000 - accuracy: 0.1211\n",
            "Epoch 2/25\n",
            "125/125 [==============================] - 35s 281ms/step - loss: 37117.9844 - accuracy: 0.2308\n",
            "Epoch 3/25\n",
            "125/125 [==============================] - 35s 284ms/step - loss: 8256.8447 - accuracy: 0.2514\n",
            "Epoch 4/25\n",
            "125/125 [==============================] - 35s 283ms/step - loss: 4732.3643 - accuracy: 0.2524\n",
            "Epoch 5/25\n",
            "125/125 [==============================] - 36s 287ms/step - loss: 3235.2156 - accuracy: 0.2540\n",
            "Epoch 6/25\n",
            "125/125 [==============================] - 35s 282ms/step - loss: 2463.1660 - accuracy: 0.2585\n",
            "Epoch 7/25\n",
            "125/125 [==============================] - 35s 278ms/step - loss: 1906.3713 - accuracy: 0.2696\n",
            "Epoch 8/25\n",
            "125/125 [==============================] - 35s 282ms/step - loss: 1677.0575 - accuracy: 0.2665\n",
            "Epoch 9/25\n",
            "125/125 [==============================] - 35s 281ms/step - loss: 1326.3108 - accuracy: 0.2776\n",
            "Epoch 10/25\n",
            "125/125 [==============================] - 36s 289ms/step - loss: 1106.5865 - accuracy: 0.2864\n",
            "Epoch 11/25\n",
            "125/125 [==============================] - 35s 283ms/step - loss: 973.8697 - accuracy: 0.2849\n",
            "Epoch 12/25\n",
            "125/125 [==============================] - 36s 284ms/step - loss: 828.0680 - accuracy: 0.2899\n",
            "Epoch 13/25\n",
            "125/125 [==============================] - 35s 283ms/step - loss: 763.0044 - accuracy: 0.2917\n",
            "Epoch 14/25\n",
            "125/125 [==============================] - 35s 282ms/step - loss: 620.9910 - accuracy: 0.2983\n",
            "Epoch 15/25\n",
            "125/125 [==============================] - 35s 284ms/step - loss: 513.1913 - accuracy: 0.3062\n",
            "Epoch 16/25\n",
            "125/125 [==============================] - 36s 290ms/step - loss: 431.9349 - accuracy: 0.3070\n",
            "Epoch 17/25\n",
            "125/125 [==============================] - 35s 283ms/step - loss: 393.5095 - accuracy: 0.3068\n",
            "Epoch 18/25\n",
            "125/125 [==============================] - 35s 281ms/step - loss: 343.2387 - accuracy: 0.3133\n",
            "Epoch 19/25\n",
            "125/125 [==============================] - 35s 284ms/step - loss: 306.4110 - accuracy: 0.3141\n",
            "Epoch 20/25\n",
            "125/125 [==============================] - 35s 282ms/step - loss: 237.4788 - accuracy: 0.3275\n",
            "Epoch 21/25\n",
            "125/125 [==============================] - 35s 283ms/step - loss: 257.4240 - accuracy: 0.3132\n",
            "Epoch 22/25\n",
            "125/125 [==============================] - 36s 291ms/step - loss: 391.7218 - accuracy: 0.3081\n",
            "Epoch 23/25\n",
            "125/125 [==============================] - 36s 288ms/step - loss: 178.3033 - accuracy: 0.3310\n",
            "Epoch 24/25\n",
            "125/125 [==============================] - 36s 290ms/step - loss: 168.3242 - accuracy: 0.3204\n",
            "Epoch 25/25\n",
            "125/125 [==============================] - 37s 292ms/step - loss: 134.8163 - accuracy: 0.3382\n",
            "313/313 [==============================] - 5s 15ms/step - loss: 113.5229 - accuracy: 0.3469\n",
            "Epoch 1/25\n",
            "72/72 [==============================] - 35s 474ms/step - loss: 49211532.0000 - accuracy: 0.1010\n",
            "Epoch 2/25\n",
            "72/72 [==============================] - 35s 493ms/step - loss: 872642.3750 - accuracy: 0.1267\n",
            "Epoch 3/25\n",
            "72/72 [==============================] - 35s 479ms/step - loss: 27483.7988 - accuracy: 0.1715\n",
            "Epoch 4/25\n",
            "72/72 [==============================] - 35s 482ms/step - loss: 9776.6104 - accuracy: 0.2036\n",
            "Epoch 5/25\n",
            "72/72 [==============================] - 35s 481ms/step - loss: 5592.7534 - accuracy: 0.2232\n",
            "Epoch 6/25\n",
            "72/72 [==============================] - 35s 481ms/step - loss: 4771.4731 - accuracy: 0.2206\n",
            "Epoch 7/25\n",
            "72/72 [==============================] - 35s 480ms/step - loss: 2600.1084 - accuracy: 0.2461\n",
            "Epoch 8/25\n",
            "72/72 [==============================] - 36s 500ms/step - loss: 2118.7952 - accuracy: 0.2501\n",
            "Epoch 9/25\n",
            "72/72 [==============================] - 36s 496ms/step - loss: 1731.9502 - accuracy: 0.2559\n",
            "Epoch 10/25\n",
            "72/72 [==============================] - 36s 497ms/step - loss: 1666.5837 - accuracy: 0.2525\n",
            "Epoch 11/25\n",
            "72/72 [==============================] - 36s 498ms/step - loss: 1691.3060 - accuracy: 0.2518\n",
            "Epoch 12/25\n",
            "72/72 [==============================] - 36s 495ms/step - loss: 1172.8091 - accuracy: 0.2709\n",
            "Epoch 13/25\n",
            "72/72 [==============================] - 36s 496ms/step - loss: 1407.4219 - accuracy: 0.2506\n",
            "Epoch 14/25\n",
            "72/72 [==============================] - 37s 510ms/step - loss: 914.3800 - accuracy: 0.2748\n",
            "Epoch 15/25\n",
            "72/72 [==============================] - 36s 493ms/step - loss: 907.2295 - accuracy: 0.2714\n",
            "Epoch 16/25\n",
            "72/72 [==============================] - 36s 499ms/step - loss: 866.0790 - accuracy: 0.2672\n",
            "Epoch 17/25\n",
            "72/72 [==============================] - 36s 497ms/step - loss: 764.4039 - accuracy: 0.2690\n",
            "Epoch 18/25\n",
            "72/72 [==============================] - 36s 494ms/step - loss: 626.0316 - accuracy: 0.2815\n",
            "Epoch 19/25\n",
            "72/72 [==============================] - 36s 498ms/step - loss: 588.0056 - accuracy: 0.2802\n",
            "Epoch 20/25\n",
            "72/72 [==============================] - 37s 503ms/step - loss: 588.7319 - accuracy: 0.2816\n",
            "Epoch 21/25\n",
            "72/72 [==============================] - 35s 488ms/step - loss: 484.5150 - accuracy: 0.2874\n",
            "Epoch 22/25\n",
            "72/72 [==============================] - 36s 496ms/step - loss: 608.1368 - accuracy: 0.2643\n",
            "Epoch 23/25\n",
            "72/72 [==============================] - 36s 497ms/step - loss: 513.3930 - accuracy: 0.2746\n",
            "Epoch 24/25\n",
            "72/72 [==============================] - 36s 496ms/step - loss: 492.2216 - accuracy: 0.2762\n",
            "Epoch 25/25\n",
            "72/72 [==============================] - 36s 507ms/step - loss: 508.5912 - accuracy: 0.2655\n",
            "313/313 [==============================] - 5s 15ms/step - loss: 414.1111 - accuracy: 0.2482\n",
            "Epoch 1/25\n",
            "500/500 [==============================] - 43s 84ms/step - loss: 184507376.0000 - accuracy: 0.2017\n",
            "Epoch 2/25\n",
            "500/500 [==============================] - 42s 84ms/step - loss: 57373.5508 - accuracy: 0.2531\n",
            "Epoch 3/25\n",
            "500/500 [==============================] - 42s 84ms/step - loss: 3284680.5000 - accuracy: 0.2061\n",
            "Epoch 4/25\n",
            "500/500 [==============================] - 43s 86ms/step - loss: 12215.8525 - accuracy: 0.2457\n",
            "Epoch 5/25\n",
            "500/500 [==============================] - 42s 84ms/step - loss: 6379.7212 - accuracy: 0.2508\n",
            "Epoch 6/25\n",
            "500/500 [==============================] - 42s 84ms/step - loss: 4259.3066 - accuracy: 0.2541\n",
            "Epoch 7/25\n",
            "500/500 [==============================] - 42s 84ms/step - loss: 3498.2388 - accuracy: 0.2513\n",
            "Epoch 8/25\n",
            "500/500 [==============================] - 42s 84ms/step - loss: 2847.2175 - accuracy: 0.2525\n",
            "Epoch 9/25\n",
            "500/500 [==============================] - 42s 84ms/step - loss: 24281.0137 - accuracy: 0.2124\n",
            "Epoch 10/25\n",
            "500/500 [==============================] - 43s 86ms/step - loss: 3080.3787 - accuracy: 0.2808\n",
            "Epoch 11/25\n",
            "500/500 [==============================] - 42s 84ms/step - loss: 585.8990 - accuracy: 0.2864\n",
            "Epoch 12/25\n",
            "500/500 [==============================] - 42s 84ms/step - loss: 449.2827 - accuracy: 0.2820\n",
            "Epoch 13/25\n",
            "500/500 [==============================] - 42s 84ms/step - loss: 473.8966 - accuracy: 0.2723\n",
            "Epoch 14/25\n",
            "500/500 [==============================] - 42s 84ms/step - loss: 889548832768.0000 - accuracy: 0.2191\n",
            "Epoch 15/25\n",
            "500/500 [==============================] - 43s 86ms/step - loss: 2984760576.0000 - accuracy: 0.1597\n",
            "Epoch 16/25\n",
            "500/500 [==============================] - 42s 84ms/step - loss: 800192000.0000 - accuracy: 0.1701\n",
            "Epoch 17/25\n",
            "500/500 [==============================] - 42s 84ms/step - loss: 350380224.0000 - accuracy: 0.1794\n",
            "Epoch 18/25\n",
            "500/500 [==============================] - 42s 84ms/step - loss: 152502928.0000 - accuracy: 0.1996\n",
            "Epoch 19/25\n",
            "500/500 [==============================] - 42s 84ms/step - loss: 83724456.0000 - accuracy: 0.2034\n",
            "Epoch 20/25\n",
            "500/500 [==============================] - 43s 86ms/step - loss: 47308992.0000 - accuracy: 0.2100\n",
            "Epoch 21/25\n",
            "500/500 [==============================] - 42s 84ms/step - loss: 27618470.0000 - accuracy: 0.2080\n",
            "Epoch 22/25\n",
            "500/500 [==============================] - 42s 84ms/step - loss: 19551732.0000 - accuracy: 0.1984\n",
            "Epoch 23/25\n",
            "500/500 [==============================] - 42s 84ms/step - loss: 16827412.0000 - accuracy: 0.1909\n",
            "Epoch 24/25\n",
            "500/500 [==============================] - 42s 84ms/step - loss: 17637960.0000 - accuracy: 0.1829\n",
            "Epoch 25/25\n",
            "500/500 [==============================] - 43s 86ms/step - loss: 3597844992.0000 - accuracy: 0.1646\n",
            "313/313 [==============================] - 5s 15ms/step - loss: 30616712.0000 - accuracy: 0.2141\n",
            "Epoch 1/25\n",
            "125/125 [==============================] - 37s 287ms/step - loss: 293710016.0000 - accuracy: 0.1178\n",
            "Epoch 2/25\n",
            "125/125 [==============================] - 36s 288ms/step - loss: 226117.7969 - accuracy: 0.1814\n",
            "Epoch 3/25\n",
            "125/125 [==============================] - 36s 288ms/step - loss: 91141.4688 - accuracy: 0.2016\n",
            "Epoch 4/25\n",
            "125/125 [==============================] - 37s 294ms/step - loss: 73691.7422 - accuracy: 0.2019\n",
            "Epoch 5/25\n",
            "125/125 [==============================] - 36s 288ms/step - loss: 53387.0859 - accuracy: 0.2132\n",
            "Epoch 6/25\n",
            "125/125 [==============================] - 36s 290ms/step - loss: 37215.5117 - accuracy: 0.2262\n",
            "Epoch 7/25\n",
            "125/125 [==============================] - 36s 289ms/step - loss: 60731.4531 - accuracy: 0.1935\n",
            "Epoch 8/25\n",
            "125/125 [==============================] - 36s 290ms/step - loss: 78708.4062 - accuracy: 0.1829\n",
            "Epoch 9/25\n",
            "125/125 [==============================] - 36s 288ms/step - loss: 313939.7500 - accuracy: 0.1400\n",
            "Epoch 10/25\n",
            "125/125 [==============================] - 37s 298ms/step - loss: 11354.5283 - accuracy: 0.2564\n",
            "Epoch 11/25\n",
            "125/125 [==============================] - 36s 288ms/step - loss: 5027.1758 - accuracy: 0.2933\n",
            "Epoch 12/25\n",
            "125/125 [==============================] - 36s 290ms/step - loss: 3964.4707 - accuracy: 0.2814\n",
            "Epoch 13/25\n",
            "125/125 [==============================] - 36s 287ms/step - loss: 3549.2812 - accuracy: 0.2810\n",
            "Epoch 14/25\n",
            "125/125 [==============================] - 36s 290ms/step - loss: 3010.1785 - accuracy: 0.2765\n",
            "Epoch 15/25\n",
            "125/125 [==============================] - 36s 291ms/step - loss: 2924.5024 - accuracy: 0.2689\n",
            "Epoch 16/25\n",
            "125/125 [==============================] - 37s 296ms/step - loss: 2636.6150 - accuracy: 0.2646\n",
            "Epoch 17/25\n",
            "125/125 [==============================] - 37s 292ms/step - loss: 2523.1948 - accuracy: 0.2592\n",
            "Epoch 18/25\n",
            "125/125 [==============================] - 36s 291ms/step - loss: 2251.8191 - accuracy: 0.2531\n",
            "Epoch 19/25\n",
            "125/125 [==============================] - 36s 290ms/step - loss: 2099.3040 - accuracy: 0.2550\n",
            "Epoch 20/25\n",
            "125/125 [==============================] - 36s 292ms/step - loss: 12756.8887 - accuracy: 0.1604\n",
            "Epoch 21/25\n",
            "125/125 [==============================] - 36s 292ms/step - loss: 9601.3750 - accuracy: 0.2279\n",
            "Epoch 22/25\n",
            "125/125 [==============================] - 37s 297ms/step - loss: 1026.3304 - accuracy: 0.3040\n",
            "Epoch 23/25\n",
            "125/125 [==============================] - 37s 294ms/step - loss: 784.0624 - accuracy: 0.2954\n",
            "Epoch 24/25\n",
            "125/125 [==============================] - 36s 290ms/step - loss: 630.1339 - accuracy: 0.2991\n",
            "Epoch 25/25\n",
            "125/125 [==============================] - 36s 291ms/step - loss: 800.5029 - accuracy: 0.2708\n",
            "313/313 [==============================] - 5s 15ms/step - loss: 723.5792 - accuracy: 0.2947\n",
            "Epoch 1/25\n",
            "72/72 [==============================] - 36s 490ms/step - loss: 488669856.0000 - accuracy: 0.0988\n",
            "Epoch 2/25\n",
            "72/72 [==============================] - 36s 504ms/step - loss: 1844627.8750 - accuracy: 0.1491\n",
            "Epoch 3/25\n",
            "72/72 [==============================] - 35s 492ms/step - loss: 180836.3594 - accuracy: 0.1993\n",
            "Epoch 4/25\n",
            "72/72 [==============================] - 36s 493ms/step - loss: 71055.8984 - accuracy: 0.2167\n",
            "Epoch 5/25\n",
            "72/72 [==============================] - 35s 490ms/step - loss: 50120.3164 - accuracy: 0.2300\n",
            "Epoch 6/25\n",
            "72/72 [==============================] - 35s 490ms/step - loss: 34856.3398 - accuracy: 0.2490\n",
            "Epoch 7/25\n",
            "72/72 [==============================] - 36s 496ms/step - loss: 30105.5820 - accuracy: 0.2506\n",
            "Epoch 8/25\n",
            "72/72 [==============================] - 36s 506ms/step - loss: 23446.0957 - accuracy: 0.2569\n",
            "Epoch 9/25\n",
            "72/72 [==============================] - 36s 496ms/step - loss: 19530.6562 - accuracy: 0.2621\n",
            "Epoch 10/25\n",
            "72/72 [==============================] - 35s 488ms/step - loss: 16286.4619 - accuracy: 0.2635\n",
            "Epoch 11/25\n",
            "72/72 [==============================] - 35s 489ms/step - loss: 16718.7422 - accuracy: 0.2611\n",
            "Epoch 12/25\n",
            "72/72 [==============================] - 35s 488ms/step - loss: 12388.0371 - accuracy: 0.2761\n",
            "Epoch 13/25\n",
            "72/72 [==============================] - 35s 493ms/step - loss: 10968.0098 - accuracy: 0.2814\n",
            "Epoch 14/25\n",
            "72/72 [==============================] - 36s 504ms/step - loss: 9669.9873 - accuracy: 0.2751\n",
            "Epoch 15/25\n",
            "72/72 [==============================] - 35s 492ms/step - loss: 12329.6533 - accuracy: 0.2573\n",
            "Epoch 16/25\n",
            "72/72 [==============================] - 35s 493ms/step - loss: 8012.3398 - accuracy: 0.2905\n",
            "Epoch 17/25\n",
            "72/72 [==============================] - 36s 494ms/step - loss: 5704.5938 - accuracy: 0.3062\n",
            "Epoch 18/25\n",
            "72/72 [==============================] - 36s 496ms/step - loss: 4681.6904 - accuracy: 0.3107\n",
            "Epoch 19/25\n",
            "72/72 [==============================] - 35s 488ms/step - loss: 5480.8833 - accuracy: 0.2887\n",
            "Epoch 20/25\n",
            "72/72 [==============================] - 36s 503ms/step - loss: 7209.8662 - accuracy: 0.2738\n",
            "Epoch 21/25\n",
            "72/72 [==============================] - 35s 488ms/step - loss: 1036960399360.0000 - accuracy: 0.1123\n",
            "Epoch 22/25\n",
            "72/72 [==============================] - 35s 487ms/step - loss: 249540263936.0000 - accuracy: 0.1066\n",
            "Epoch 23/25\n",
            "72/72 [==============================] - 35s 492ms/step - loss: 1660191744.0000 - accuracy: 0.1847\n",
            "Epoch 24/25\n",
            "72/72 [==============================] - 35s 486ms/step - loss: 553689344.0000 - accuracy: 0.1996\n",
            "Epoch 25/25\n",
            "72/72 [==============================] - 35s 490ms/step - loss: 444196480.0000 - accuracy: 0.1973\n",
            "313/313 [==============================] - 5s 15ms/step - loss: 227682208.0000 - accuracy: 0.2390\n"
          ]
        }
      ],
      "source": [
        "sc=[]\n",
        "a=[]\n",
        "for i in np.arange(0.001,1,0.4):\n",
        "    for j in np.arange(100,800,300):\n",
        "        model = Sequential()\n",
        "        model.add(Conv2D(6, kernel_size=(5,5), strides=(1, 1), input_shape=(32,32,3)))\n",
        "        model.add(MaxPooling2D(pool_size=(2, 2), strides=(2, 2)))\n",
        "        model.add(Conv2D(16, kernel_size=(5,5), strides=(1,1)))\n",
        "        model.add(MaxPooling2D(pool_size=(2, 2), strides=(2, 2)))\n",
        "        model.add(Conv2D(120, kernel_size=(5,5)))\n",
        "        model.add(Flatten())\n",
        "        model.add(Dense(84))\n",
        "        model.add(Dense(10))\n",
        "        model.add(Activation('softmax'))\n",
        "        model.compile(loss='categorical_crossentropy', optimizer=Adam(lr=i), metrics=['accuracy'])\n",
        "        model.fit(X_train,Y_train, batch_size=j, epochs=25)\n",
        "        score = model.evaluate(X_test, Y_test)\n",
        "        sc.append(score)\n",
        "        a.append((i,j))"
      ],
      "id": "20f86f3b"
    },
    {
      "cell_type": "code",
      "execution_count": 6,
      "metadata": {
        "id": "301645cb"
      },
      "outputs": [],
      "source": [
        "import matplotlib.pyplot as plt"
      ],
      "id": "301645cb"
    },
    {
      "cell_type": "code",
      "execution_count": 34,
      "metadata": {
        "colab": {
          "base_uri": "https://localhost:8080/"
        },
        "id": "d1bdb048",
        "outputId": "3a9c1dc3-ece0-4980-a61b-401a4410864c"
      },
      "outputs": [
        {
          "output_type": "stream",
          "name": "stdout",
          "text": [
            "[(0.001, 100), (0.001, 400), (0.001, 700), (0.401, 100), (0.401, 400), (0.401, 700), (0.801, 100), (0.801, 400), (0.801, 700)]\n"
          ]
        }
      ],
      "source": [
        "print(a)"
      ],
      "id": "d1bdb048"
    },
    {
      "cell_type": "code",
      "execution_count": 35,
      "metadata": {
        "id": "978196eb"
      },
      "outputs": [],
      "source": [
        "l=[sc[i][1] for i in range(len(sc))]"
      ],
      "id": "978196eb"
    },
    {
      "cell_type": "code",
      "execution_count": 36,
      "metadata": {
        "colab": {
          "base_uri": "https://localhost:8080/"
        },
        "id": "ecfbc04a",
        "outputId": "4dab08c6-a909-40b0-d643-5662033cf8cb"
      },
      "outputs": [
        {
          "output_type": "execute_result",
          "data": {
            "text/plain": [
              "[0.5909000039100647,\n",
              " 0.5769000053405762,\n",
              " 0.57669997215271,\n",
              " 0.2888999879360199,\n",
              " 0.34689998626708984,\n",
              " 0.24819999933242798,\n",
              " 0.21410000324249268,\n",
              " 0.2946999967098236,\n",
              " 0.23899999260902405]"
            ]
          },
          "metadata": {},
          "execution_count": 36
        }
      ],
      "source": [
        "l"
      ],
      "id": "ecfbc04a"
    },
    {
      "cell_type": "code",
      "execution_count": 37,
      "metadata": {
        "id": "e7b38ad7"
      },
      "outputs": [],
      "source": [
        "l1=[str(i) for i in a]"
      ],
      "id": "e7b38ad7"
    },
    {
      "cell_type": "code",
      "execution_count": 38,
      "metadata": {
        "colab": {
          "base_uri": "https://localhost:8080/",
          "height": 374
        },
        "id": "f3bac0c1",
        "outputId": "4415fada-e44a-4e53-e246-b86e13f982fb"
      },
      "outputs": [
        {
          "output_type": "display_data",
          "data": {
            "text/plain": [
              "<Figure size 1440x432 with 1 Axes>"
            ],
            "image/png": "[encoded data removed]"
          },
          "metadata": {
            "needs_background": "light"
          }
        }
      ],
      "source": [
        "f = plt.figure()\n",
        "plt.bar(l1,l)\n",
        "f.set_figheight(6)\n",
        "f.set_figwidth(20)"
      ],
      "id": "f3bac0c1"
    },
    {
      "cell_type": "code",
      "execution_count": 39,
      "metadata": {
        "colab": {
          "base_uri": "https://localhost:8080/"
        },
        "id": "c478fc52",
        "outputId": "558b931c-9f90-4666-85b7-0b46d25f0711"
      },
      "outputs": [
        {
          "output_type": "stream",
          "name": "stdout",
          "text": [
            "(0.001, 100)\n"
          ]
        }
      ],
      "source": [
        "print(l1[l.index(max(l))])"
      ],
      "id": "c478fc52"
    },
    {
      "cell_type": "markdown",
      "metadata": {
        "id": "112d4140"
      },
      "source": [
        "###  The above parameters that is learning rate of 0.01 and batch size of 100 is yeilding best accuracy for given data"
      ],
      "id": "112d4140"
    },
    {
      "cell_type": "markdown",
      "metadata": {
        "id": "ddfda4c4"
      },
      "source": [
        "#### 1.Various learning rate"
      ],
      "id": "ddfda4c4"
    },
    {
      "cell_type": "code",
      "execution_count": 19,
      "metadata": {
        "id": "140ceeb9",
        "colab": {
          "base_uri": "https://localhost:8080/"
        },
        "outputId": "18258165-9464-4b25-ba2f-629a47353645"
      },
      "outputs": [
        {
          "output_type": "stream",
          "name": "stderr",
          "text": [
            "/usr/local/lib/python3.7/dist-packages/keras/optimizers/optimizer_v2/adam.py:110: UserWarning: The `lr` argument is deprecated, use `learning_rate` instead.\n",
            "  super(Adam, self).__init__(name, **kwargs)\n"
          ]
        },
        {
          "output_type": "stream",
          "name": "stdout",
          "text": [
            "Epoch 1/25\n",
            "196/196 [==============================] - 37s 184ms/step - loss: 1.7125 - accuracy: 0.3873\n",
            "Epoch 2/25\n",
            "196/196 [==============================] - 41s 210ms/step - loss: 1.4627 - accuracy: 0.4836\n",
            "Epoch 3/25\n",
            "196/196 [==============================] - 38s 196ms/step - loss: 1.3603 - accuracy: 0.5211\n",
            "Epoch 4/25\n",
            "196/196 [==============================] - 39s 197ms/step - loss: 1.3054 - accuracy: 0.5434\n",
            "Epoch 5/25\n",
            "196/196 [==============================] - 40s 204ms/step - loss: 1.2697 - accuracy: 0.5559\n",
            "Epoch 6/25\n",
            "196/196 [==============================] - 38s 196ms/step - loss: 1.2489 - accuracy: 0.5639\n",
            "Epoch 7/25\n",
            "196/196 [==============================] - 38s 196ms/step - loss: 1.2239 - accuracy: 0.5735\n",
            "Epoch 8/25\n",
            "196/196 [==============================] - 44s 226ms/step - loss: 1.2079 - accuracy: 0.5784\n",
            "Epoch 9/25\n",
            "196/196 [==============================] - 42s 213ms/step - loss: 1.1926 - accuracy: 0.5872\n",
            "Epoch 10/25\n",
            "196/196 [==============================] - 39s 200ms/step - loss: 1.1786 - accuracy: 0.5885\n",
            "Epoch 11/25\n",
            "196/196 [==============================] - 41s 208ms/step - loss: 1.1788 - accuracy: 0.5900\n",
            "Epoch 12/25\n",
            "196/196 [==============================] - 39s 197ms/step - loss: 1.1625 - accuracy: 0.5956\n",
            "Epoch 13/25\n",
            "196/196 [==============================] - 38s 196ms/step - loss: 1.1591 - accuracy: 0.5951\n",
            "Epoch 14/25\n",
            "196/196 [==============================] - 38s 196ms/step - loss: 1.1518 - accuracy: 0.5979\n",
            "Epoch 15/25\n",
            "196/196 [==============================] - 40s 203ms/step - loss: 1.1383 - accuracy: 0.6034\n",
            "Epoch 16/25\n",
            "196/196 [==============================] - 40s 202ms/step - loss: 1.1337 - accuracy: 0.6053\n",
            "Epoch 17/25\n",
            "196/196 [==============================] - 38s 196ms/step - loss: 1.1307 - accuracy: 0.6056\n",
            "Epoch 18/25\n",
            "196/196 [==============================] - 41s 211ms/step - loss: 1.1202 - accuracy: 0.6100\n",
            "Epoch 19/25\n",
            "196/196 [==============================] - 39s 197ms/step - loss: 1.1182 - accuracy: 0.6132\n",
            "Epoch 20/25\n",
            "196/196 [==============================] - 39s 197ms/step - loss: 1.1125 - accuracy: 0.6122\n",
            "Epoch 21/25\n",
            "196/196 [==============================] - 39s 201ms/step - loss: 1.1094 - accuracy: 0.6124\n",
            "Epoch 22/25\n",
            "196/196 [==============================] - 39s 201ms/step - loss: 1.1041 - accuracy: 0.6147\n",
            "Epoch 23/25\n",
            "196/196 [==============================] - 39s 197ms/step - loss: 1.0971 - accuracy: 0.6198\n",
            "Epoch 24/25\n",
            "196/196 [==============================] - 41s 208ms/step - loss: 1.0924 - accuracy: 0.6175\n",
            "Epoch 25/25\n",
            "196/196 [==============================] - 38s 196ms/step - loss: 1.0884 - accuracy: 0.6218\n",
            "313/313 [==============================] - 5s 15ms/step - loss: 1.1803 - accuracy: 0.5933\n",
            "Epoch 1/25\n",
            "196/196 [==============================] - 40s 202ms/step - loss: 334734.0000 - accuracy: 0.1443\n",
            "Epoch 2/25\n",
            "196/196 [==============================] - 38s 195ms/step - loss: 195.3639 - accuracy: 0.2287\n",
            "Epoch 3/25\n",
            "196/196 [==============================] - 38s 196ms/step - loss: 87.2340 - accuracy: 0.2443\n",
            "Epoch 4/25\n",
            "196/196 [==============================] - 39s 202ms/step - loss: 55.3873 - accuracy: 0.2582\n",
            "Epoch 5/25\n",
            "196/196 [==============================] - 38s 195ms/step - loss: 38.6350 - accuracy: 0.2712\n",
            "Epoch 6/25\n",
            "196/196 [==============================] - 38s 194ms/step - loss: 28.7307 - accuracy: 0.2802\n",
            "Epoch 7/25\n",
            "196/196 [==============================] - 38s 195ms/step - loss: 23.0631 - accuracy: 0.2904\n",
            "Epoch 8/25\n",
            "196/196 [==============================] - 39s 200ms/step - loss: 18.3990 - accuracy: 0.2929\n",
            "Epoch 9/25\n",
            "196/196 [==============================] - 38s 195ms/step - loss: 15.5029 - accuracy: 0.3003\n",
            "Epoch 10/25\n",
            "196/196 [==============================] - 39s 201ms/step - loss: 12.8562 - accuracy: 0.3102\n",
            "Epoch 11/25\n",
            "196/196 [==============================] - 38s 194ms/step - loss: 11.1159 - accuracy: 0.3161\n",
            "Epoch 12/25\n",
            "196/196 [==============================] - 38s 194ms/step - loss: 9.2191 - accuracy: 0.3214\n",
            "Epoch 13/25\n",
            "196/196 [==============================] - 38s 194ms/step - loss: 7.8923 - accuracy: 0.3284\n",
            "Epoch 14/25\n",
            "196/196 [==============================] - 39s 201ms/step - loss: 7.3638 - accuracy: 0.3265\n",
            "Epoch 15/25\n",
            "196/196 [==============================] - 38s 194ms/step - loss: 6.1766 - accuracy: 0.3354\n",
            "Epoch 16/25\n",
            "196/196 [==============================] - 38s 194ms/step - loss: 5.6546 - accuracy: 0.3392\n",
            "Epoch 17/25\n",
            "196/196 [==============================] - 39s 200ms/step - loss: 2501796096.0000 - accuracy: 0.1749\n",
            "Epoch 18/25\n",
            "196/196 [==============================] - 38s 192ms/step - loss: 4636502.5000 - accuracy: 0.1850\n",
            "Epoch 19/25\n",
            "196/196 [==============================] - 38s 193ms/step - loss: 1598582.2500 - accuracy: 0.2017\n",
            "Epoch 20/25\n",
            "196/196 [==============================] - 38s 193ms/step - loss: 1018760.0000 - accuracy: 0.2216\n",
            "Epoch 21/25\n",
            "196/196 [==============================] - 39s 199ms/step - loss: 602331.0000 - accuracy: 0.2431\n",
            "Epoch 22/25\n",
            "196/196 [==============================] - 38s 191ms/step - loss: 490713.1250 - accuracy: 0.2495\n",
            "Epoch 23/25\n",
            "196/196 [==============================] - 39s 198ms/step - loss: 332120.5000 - accuracy: 0.2588\n",
            "Epoch 24/25\n",
            "196/196 [==============================] - 38s 192ms/step - loss: 238111.5469 - accuracy: 0.2681\n",
            "Epoch 25/25\n",
            "196/196 [==============================] - 38s 192ms/step - loss: 188518.4844 - accuracy: 0.2739\n",
            "313/313 [==============================] - 5s 15ms/step - loss: 130512.4609 - accuracy: 0.3001\n",
            "Epoch 1/25\n",
            "196/196 [==============================] - 40s 202ms/step - loss: 6912109.5000 - accuracy: 0.1625\n",
            "Epoch 2/25\n",
            "196/196 [==============================] - 39s 201ms/step - loss: 4835.8521 - accuracy: 0.2416\n",
            "Epoch 3/25\n",
            "196/196 [==============================] - 38s 193ms/step - loss: 2403.7087 - accuracy: 0.2611\n",
            "Epoch 4/25\n",
            "196/196 [==============================] - 39s 200ms/step - loss: 1541.9069 - accuracy: 0.2774\n",
            "Epoch 5/25\n",
            "196/196 [==============================] - 38s 193ms/step - loss: 959.7768 - accuracy: 0.3003\n",
            "Epoch 6/25\n",
            "196/196 [==============================] - 38s 194ms/step - loss: 705.9601 - accuracy: 0.3004\n",
            "Epoch 7/25\n",
            "196/196 [==============================] - 38s 193ms/step - loss: 527.2374 - accuracy: 0.3123\n",
            "Epoch 8/25\n",
            "196/196 [==============================] - 39s 200ms/step - loss: 410.5250 - accuracy: 0.3171\n",
            "Epoch 9/25\n",
            "196/196 [==============================] - 38s 193ms/step - loss: 293.4470 - accuracy: 0.3282\n",
            "Epoch 10/25\n",
            "196/196 [==============================] - 39s 200ms/step - loss: 230.1984 - accuracy: 0.3329\n",
            "Epoch 11/25\n",
            "196/196 [==============================] - 38s 192ms/step - loss: 557264064.0000 - accuracy: 0.2691\n",
            "Epoch 12/25\n",
            "196/196 [==============================] - 37s 191ms/step - loss: 52662263808.0000 - accuracy: 0.1493\n",
            "Epoch 13/25\n",
            "196/196 [==============================] - 38s 192ms/step - loss: 38485600.0000 - accuracy: 0.2103\n",
            "Epoch 14/25\n",
            "196/196 [==============================] - 37s 191ms/step - loss: 19286362.0000 - accuracy: 0.2229\n",
            "Epoch 15/25\n",
            "196/196 [==============================] - 39s 198ms/step - loss: 13141334.0000 - accuracy: 0.2367\n",
            "Epoch 16/25\n",
            "196/196 [==============================] - 37s 191ms/step - loss: 11588820.0000 - accuracy: 0.2297\n",
            "Epoch 17/25\n",
            "196/196 [==============================] - 39s 197ms/step - loss: 8328669.5000 - accuracy: 0.2465\n",
            "Epoch 18/25\n",
            "196/196 [==============================] - 37s 190ms/step - loss: 6113805.0000 - accuracy: 0.2512\n",
            "Epoch 19/25\n",
            "196/196 [==============================] - 37s 191ms/step - loss: 5406016.5000 - accuracy: 0.2424\n",
            "Epoch 20/25\n",
            "196/196 [==============================] - 37s 190ms/step - loss: 4881041.5000 - accuracy: 0.2470\n",
            "Epoch 21/25\n",
            "196/196 [==============================] - 39s 198ms/step - loss: 3793225.7500 - accuracy: 0.2576\n",
            "Epoch 22/25\n",
            "196/196 [==============================] - 38s 191ms/step - loss: 4177497.5000 - accuracy: 0.2489\n",
            "Epoch 23/25\n",
            "196/196 [==============================] - 38s 191ms/step - loss: 3674861.7500 - accuracy: 0.2514\n",
            "Epoch 24/25\n",
            "196/196 [==============================] - 39s 198ms/step - loss: 3125347.0000 - accuracy: 0.2577\n",
            "Epoch 25/25\n",
            "196/196 [==============================] - 38s 192ms/step - loss: 3456520.7500 - accuracy: 0.2500\n",
            "313/313 [==============================] - 5s 15ms/step - loss: 4709545.0000 - accuracy: 0.2276\n",
            "Epoch 1/25\n",
            "196/196 [==============================] - 38s 193ms/step - loss: 66667232.0000 - accuracy: 0.1504\n",
            "Epoch 2/25\n",
            "196/196 [==============================] - 39s 200ms/step - loss: 43000.0430 - accuracy: 0.2277\n",
            "Epoch 3/25\n",
            "196/196 [==============================] - 38s 193ms/step - loss: 22993.6777 - accuracy: 0.2479\n",
            "Epoch 4/25\n",
            "196/196 [==============================] - 39s 200ms/step - loss: 14585.4346 - accuracy: 0.2710\n",
            "Epoch 5/25\n",
            "196/196 [==============================] - 38s 193ms/step - loss: 9929.2031 - accuracy: 0.2840\n",
            "Epoch 6/25\n",
            "196/196 [==============================] - 38s 193ms/step - loss: 6431.8809 - accuracy: 0.3010\n",
            "Epoch 7/25\n",
            "196/196 [==============================] - 38s 193ms/step - loss: 4639.3164 - accuracy: 0.3085\n",
            "Epoch 8/25\n",
            "196/196 [==============================] - 39s 200ms/step - loss: 3821.1875 - accuracy: 0.3084\n",
            "Epoch 9/25\n",
            "196/196 [==============================] - 38s 193ms/step - loss: 3032.3633 - accuracy: 0.3129\n",
            "Epoch 10/25\n",
            "196/196 [==============================] - 38s 193ms/step - loss: 2370.2478 - accuracy: 0.3228\n",
            "Epoch 11/25\n",
            "196/196 [==============================] - 39s 201ms/step - loss: 2080.4585 - accuracy: 0.3209\n",
            "Epoch 12/25\n",
            "196/196 [==============================] - 38s 193ms/step - loss: 1567.2726 - accuracy: 0.3285\n",
            "Epoch 13/25\n",
            "196/196 [==============================] - 38s 193ms/step - loss: 1281.3734 - accuracy: 0.3336\n",
            "Epoch 14/25\n",
            "196/196 [==============================] - 38s 193ms/step - loss: 1159.7936 - accuracy: 0.3312\n",
            "Epoch 15/25\n",
            "196/196 [==============================] - 39s 200ms/step - loss: 1003.0252 - accuracy: 0.3356\n",
            "Epoch 16/25\n",
            "196/196 [==============================] - 38s 192ms/step - loss: 1000.0932 - accuracy: 0.3316\n",
            "Epoch 17/25\n",
            "196/196 [==============================] - 39s 200ms/step - loss: 740.7616 - accuracy: 0.3380\n",
            "Epoch 18/25\n",
            "196/196 [==============================] - 38s 193ms/step - loss: 2450.0396 - accuracy: 0.2909\n",
            "Epoch 19/25\n",
            "196/196 [==============================] - 38s 194ms/step - loss: 747.5981 - accuracy: 0.3569\n",
            "Epoch 20/25\n",
            "196/196 [==============================] - 38s 192ms/step - loss: 395389403136.0000 - accuracy: 0.2043\n",
            "Epoch 21/25\n",
            "196/196 [==============================] - 39s 199ms/step - loss: 1018135680.0000 - accuracy: 0.1767\n",
            "Epoch 22/25\n",
            "196/196 [==============================] - 38s 192ms/step - loss: 210895440.0000 - accuracy: 0.1766\n",
            "Epoch 23/25\n",
            "196/196 [==============================] - 39s 199ms/step - loss: 131338024.0000 - accuracy: 0.1874\n",
            "Epoch 24/25\n",
            "196/196 [==============================] - 38s 193ms/step - loss: 93079344.0000 - accuracy: 0.1987\n",
            "Epoch 25/25\n",
            "196/196 [==============================] - 38s 194ms/step - loss: 64403376.0000 - accuracy: 0.2049\n",
            "313/313 [==============================] - 6s 18ms/step - loss: 63097656.0000 - accuracy: 0.1618\n",
            "Epoch 1/25\n",
            "196/196 [==============================] - 42s 209ms/step - loss: 301116544.0000 - accuracy: 0.1540\n",
            "Epoch 2/25\n",
            "196/196 [==============================] - 39s 198ms/step - loss: 155398.9062 - accuracy: 0.2525\n",
            "Epoch 3/25\n",
            "196/196 [==============================] - 39s 197ms/step - loss: 73903.2578 - accuracy: 0.2779\n",
            "Epoch 4/25\n",
            "196/196 [==============================] - 40s 203ms/step - loss: 44074.5469 - accuracy: 0.2931\n",
            "Epoch 5/25\n",
            "196/196 [==============================] - 38s 195ms/step - loss: 30762.0664 - accuracy: 0.3013\n",
            "Epoch 6/25\n",
            "196/196 [==============================] - 38s 192ms/step - loss: 23285.7832 - accuracy: 0.3087\n",
            "Epoch 7/25\n",
            "196/196 [==============================] - 37s 191ms/step - loss: 17346.5898 - accuracy: 0.3151\n",
            "Epoch 8/25\n",
            "196/196 [==============================] - 39s 198ms/step - loss: 14089.8174 - accuracy: 0.3258\n",
            "Epoch 9/25\n",
            "196/196 [==============================] - 37s 191ms/step - loss: 11340.0977 - accuracy: 0.3266\n",
            "Epoch 10/25\n",
            "196/196 [==============================] - 39s 199ms/step - loss: 9020.1416 - accuracy: 0.3379\n",
            "Epoch 11/25\n",
            "196/196 [==============================] - 38s 192ms/step - loss: 7177.1743 - accuracy: 0.3473\n",
            "Epoch 12/25\n",
            "196/196 [==============================] - 38s 192ms/step - loss: 6487.2480 - accuracy: 0.3421\n",
            "Epoch 13/25\n",
            "196/196 [==============================] - 38s 192ms/step - loss: 5493.5898 - accuracy: 0.3454\n",
            "Epoch 14/25\n",
            "196/196 [==============================] - 39s 199ms/step - loss: 4809.7368 - accuracy: 0.3499\n",
            "Epoch 15/25\n",
            "196/196 [==============================] - 38s 192ms/step - loss: 5355.5576 - accuracy: 0.3338\n",
            "Epoch 16/25\n",
            "196/196 [==============================] - 39s 199ms/step - loss: 3418.4893 - accuracy: 0.3560\n",
            "Epoch 17/25\n",
            "196/196 [==============================] - 37s 191ms/step - loss: 879474507776.0000 - accuracy: 0.1627\n",
            "Epoch 18/25\n",
            "196/196 [==============================] - 37s 191ms/step - loss: 656336832.0000 - accuracy: 0.1875\n",
            "Epoch 19/25\n",
            "196/196 [==============================] - 37s 191ms/step - loss: 211232880.0000 - accuracy: 0.2010\n",
            "Epoch 20/25\n",
            "196/196 [==============================] - 39s 198ms/step - loss: 196586800.0000 - accuracy: 0.2052\n",
            "Epoch 21/25\n",
            "196/196 [==============================] - 38s 191ms/step - loss: 134619728.0000 - accuracy: 0.2124\n",
            "Epoch 22/25\n",
            "196/196 [==============================] - 37s 191ms/step - loss: 114950336.0000 - accuracy: 0.2156\n",
            "Epoch 23/25\n",
            "196/196 [==============================] - 39s 197ms/step - loss: 88450528.0000 - accuracy: 0.2237\n",
            "Epoch 24/25\n",
            "196/196 [==============================] - 37s 191ms/step - loss: 83433816.0000 - accuracy: 0.2234\n",
            "Epoch 25/25\n",
            "196/196 [==============================] - 37s 190ms/step - loss: 62150812.0000 - accuracy: 0.2277\n",
            "313/313 [==============================] - 5s 15ms/step - loss: 40894228.0000 - accuracy: 0.2287\n"
          ]
        }
      ],
      "source": [
        "sc=[]\n",
        "a=[]\n",
        "for i in np.arange(0.001,1,0.2):\n",
        "        model = Sequential()\n",
        "        model.add(Conv2D(6, kernel_size=(5,5), strides=(1, 1), input_shape=(32,32,3)))\n",
        "        model.add(MaxPooling2D(pool_size=(2, 2), strides=(2, 2)))\n",
        "        model.add(Conv2D(16, kernel_size=(5,5), strides=(1,1)))\n",
        "        model.add(MaxPooling2D(pool_size=(2, 2), strides=(2, 2)))\n",
        "        model.add(Conv2D(120, kernel_size=(5,5)))\n",
        "        model.add(Flatten())\n",
        "        model.add(Dense(84))\n",
        "        model.add(Dense(10))\n",
        "        model.add(Activation('softmax'))\n",
        "        model.compile(loss='categorical_crossentropy', optimizer=Adam(lr=i), metrics=['accuracy'])\n",
        "        model.fit(X_train,Y_train, batch_size=256, epochs=25)\n",
        "        score = model.evaluate(X_test, Y_test)\n",
        "        sc.append(score)\n",
        "        a.append((i))"
      ],
      "id": "140ceeb9"
    },
    {
      "cell_type": "code",
      "execution_count": 21,
      "metadata": {
        "id": "1c932e4f"
      },
      "outputs": [],
      "source": [
        "l=[sc[i][1] for i in range(len(sc))]"
      ],
      "id": "1c932e4f"
    },
    {
      "cell_type": "code",
      "execution_count": 22,
      "metadata": {
        "id": "d16f8181"
      },
      "outputs": [],
      "source": [
        "l1=[str(i) for i in a]"
      ],
      "id": "d16f8181"
    },
    {
      "cell_type": "code",
      "execution_count": 23,
      "metadata": {
        "id": "28871d56",
        "scrolled": true,
        "colab": {
          "base_uri": "https://localhost:8080/",
          "height": 374
        },
        "outputId": "79718276-eb06-4441-888a-623ee51a8434"
      },
      "outputs": [
        {
          "output_type": "display_data",
          "data": {
            "text/plain": [
              "<Figure size 1440x432 with 1 Axes>"
            ],
            "image/png": "[encoded data removed]"
          },
          "metadata": {
            "needs_background": "light"
          }
        }
      ],
      "source": [
        "f = plt.figure()\n",
        "plt.bar(l1,l)\n",
        "f.set_figheight(6)\n",
        "f.set_figwidth(20)"
      ],
      "id": "28871d56"
    },
    {
      "cell_type": "code",
      "execution_count": 24,
      "metadata": {
        "id": "5acfcdfc",
        "colab": {
          "base_uri": "https://localhost:8080/",
          "height": 36
        },
        "outputId": "4f97fd39-5022-43da-d654-6f8a6ca1ea70"
      },
      "outputs": [
        {
          "output_type": "execute_result",
          "data": {
            "text/plain": [
              "'0.001'"
            ],
            "application/vnd.google.colaboratory.intrinsic+json": {
              "type": "string"
            }
          },
          "metadata": {},
          "execution_count": 24
        }
      ],
      "source": [
        "l1[l.index(max(l))]"
      ],
      "id": "5acfcdfc"
    },
    {
      "cell_type": "markdown",
      "metadata": {
        "id": "b1983ec6"
      },
      "source": [
        "### from the plot we can see that the best model for the given data is producing highest accuracy at the learning rate 0.001"
      ],
      "id": "b1983ec6"
    },
    {
      "cell_type": "markdown",
      "metadata": {
        "id": "66a0b979"
      },
      "source": [
        "#### 2.Various batch sizes"
      ],
      "id": "66a0b979"
    },
    {
      "cell_type": "code",
      "execution_count": 25,
      "metadata": {
        "id": "2aa7aae4",
        "colab": {
          "base_uri": "https://localhost:8080/"
        },
        "outputId": "03412f8e-5fe8-451c-fc46-c4c3dea7bdc9"
      },
      "outputs": [
        {
          "output_type": "stream",
          "name": "stdout",
          "text": [
            "Epoch 1/25\n",
            "500/500 [==============================] - 43s 85ms/step - loss: 1.7666 - accuracy: 0.3890\n",
            "Epoch 2/25\n",
            "500/500 [==============================] - 44s 88ms/step - loss: 1.4958 - accuracy: 0.4722\n",
            "Epoch 3/25\n",
            "500/500 [==============================] - 42s 85ms/step - loss: 1.4193 - accuracy: 0.5048\n",
            "Epoch 4/25\n",
            "500/500 [==============================] - 42s 85ms/step - loss: 1.4292 - accuracy: 0.5021\n",
            "Epoch 5/25\n",
            "500/500 [==============================] - 44s 87ms/step - loss: 1.3969 - accuracy: 0.5173\n",
            "Epoch 6/25\n",
            "500/500 [==============================] - 42s 85ms/step - loss: 1.3785 - accuracy: 0.5220\n",
            "Epoch 7/25\n",
            "500/500 [==============================] - 43s 87ms/step - loss: 1.3867 - accuracy: 0.5166\n",
            "Epoch 8/25\n",
            "500/500 [==============================] - 42s 85ms/step - loss: 1.3621 - accuracy: 0.5312\n",
            "Epoch 9/25\n",
            "500/500 [==============================] - 42s 84ms/step - loss: 1.3390 - accuracy: 0.5399\n",
            "Epoch 10/25\n",
            "500/500 [==============================] - 42s 84ms/step - loss: 1.3693 - accuracy: 0.5256\n",
            "Epoch 11/25\n",
            "500/500 [==============================] - 44s 87ms/step - loss: 1.3677 - accuracy: 0.5295\n",
            "Epoch 12/25\n",
            "500/500 [==============================] - 42s 85ms/step - loss: 1.3605 - accuracy: 0.5285\n",
            "Epoch 13/25\n",
            "500/500 [==============================] - 44s 87ms/step - loss: 1.3304 - accuracy: 0.5424\n",
            "Epoch 14/25\n",
            "500/500 [==============================] - 42s 85ms/step - loss: 1.3513 - accuracy: 0.5344\n",
            "Epoch 15/25\n",
            "500/500 [==============================] - 42s 85ms/step - loss: 1.3275 - accuracy: 0.5415\n",
            "Epoch 16/25\n",
            "500/500 [==============================] - 44s 87ms/step - loss: 1.3691 - accuracy: 0.5296\n",
            "Epoch 17/25\n",
            "500/500 [==============================] - 42s 85ms/step - loss: 1.3365 - accuracy: 0.5402\n",
            "Epoch 18/25\n",
            "500/500 [==============================] - 43s 87ms/step - loss: 1.3288 - accuracy: 0.5417\n",
            "Epoch 19/25\n",
            "500/500 [==============================] - 42s 85ms/step - loss: 1.3403 - accuracy: 0.5380\n",
            "Epoch 20/25\n",
            "500/500 [==============================] - 42s 85ms/step - loss: 1.3325 - accuracy: 0.5394\n",
            "Epoch 21/25\n",
            "500/500 [==============================] - 42s 84ms/step - loss: 1.3558 - accuracy: 0.5336\n",
            "Epoch 22/25\n",
            "500/500 [==============================] - 43s 87ms/step - loss: 1.2980 - accuracy: 0.5513\n",
            "Epoch 23/25\n",
            "500/500 [==============================] - 42s 84ms/step - loss: 1.3248 - accuracy: 0.5449\n",
            "Epoch 24/25\n",
            "500/500 [==============================] - 43s 86ms/step - loss: 276.2791 - accuracy: 0.3435\n",
            "Epoch 25/25\n",
            "500/500 [==============================] - 42s 84ms/step - loss: 2.4521 - accuracy: 0.4635\n",
            "313/313 [==============================] - 5s 15ms/step - loss: 1.9222 - accuracy: 0.4873\n",
            "Epoch 1/25\n",
            "167/167 [==============================] - 39s 229ms/step - loss: 2.0024 - accuracy: 0.3347\n",
            "Epoch 2/25\n",
            "167/167 [==============================] - 40s 237ms/step - loss: 1.4896 - accuracy: 0.4694\n",
            "Epoch 3/25\n",
            "167/167 [==============================] - 38s 230ms/step - loss: 1.4017 - accuracy: 0.5101\n",
            "Epoch 4/25\n",
            "167/167 [==============================] - 40s 238ms/step - loss: 1.3464 - accuracy: 0.5296\n",
            "Epoch 5/25\n",
            "167/167 [==============================] - 38s 230ms/step - loss: 1.3230 - accuracy: 0.5388\n",
            "Epoch 6/25\n",
            "167/167 [==============================] - 39s 230ms/step - loss: 1.3127 - accuracy: 0.5408\n",
            "Epoch 7/25\n",
            "167/167 [==============================] - 38s 230ms/step - loss: 1.2833 - accuracy: 0.5538\n",
            "Epoch 8/25\n",
            "167/167 [==============================] - 40s 238ms/step - loss: 1.3446 - accuracy: 0.5336\n",
            "Epoch 9/25\n",
            "167/167 [==============================] - 39s 231ms/step - loss: 1.2924 - accuracy: 0.5526\n",
            "Epoch 10/25\n",
            "167/167 [==============================] - 40s 238ms/step - loss: 1.2533 - accuracy: 0.5657\n",
            "Epoch 11/25\n",
            "167/167 [==============================] - 38s 229ms/step - loss: 1.2254 - accuracy: 0.5761\n",
            "Epoch 12/25\n",
            "167/167 [==============================] - 38s 230ms/step - loss: 1.2222 - accuracy: 0.5759\n",
            "Epoch 13/25\n",
            "167/167 [==============================] - 38s 230ms/step - loss: 1.2991 - accuracy: 0.5540\n",
            "Epoch 14/25\n",
            "167/167 [==============================] - 40s 237ms/step - loss: 1.2311 - accuracy: 0.5721\n",
            "Epoch 15/25\n",
            "167/167 [==============================] - 39s 231ms/step - loss: 1.1851 - accuracy: 0.5925\n",
            "Epoch 16/25\n",
            "167/167 [==============================] - 40s 239ms/step - loss: 1.1978 - accuracy: 0.5890\n",
            "Epoch 17/25\n",
            "167/167 [==============================] - 38s 230ms/step - loss: 1.1955 - accuracy: 0.5863\n",
            "Epoch 18/25\n",
            "167/167 [==============================] - 38s 230ms/step - loss: 1.1834 - accuracy: 0.5915\n",
            "Epoch 19/25\n",
            "167/167 [==============================] - 38s 230ms/step - loss: 1.1873 - accuracy: 0.5925\n",
            "Epoch 20/25\n",
            "167/167 [==============================] - 40s 238ms/step - loss: 1.1819 - accuracy: 0.5918\n",
            "Epoch 21/25\n",
            "167/167 [==============================] - 38s 230ms/step - loss: 1.1676 - accuracy: 0.5997\n",
            "Epoch 22/25\n",
            "167/167 [==============================] - 40s 238ms/step - loss: 1.1629 - accuracy: 0.5988\n",
            "Epoch 23/25\n",
            "167/167 [==============================] - 39s 231ms/step - loss: 1.1777 - accuracy: 0.5931\n",
            "Epoch 24/25\n",
            "167/167 [==============================] - 38s 230ms/step - loss: 1.1708 - accuracy: 0.5983\n",
            "Epoch 25/25\n",
            "167/167 [==============================] - 39s 231ms/step - loss: 1.1545 - accuracy: 0.6004\n",
            "313/313 [==============================] - 5s 15ms/step - loss: 1.2006 - accuracy: 0.5923\n",
            "Epoch 1/25\n",
            "100/100 [==============================] - 38s 372ms/step - loss: 2.5595 - accuracy: 0.2853\n",
            "Epoch 2/25\n",
            "100/100 [==============================] - 39s 386ms/step - loss: 1.5904 - accuracy: 0.4291\n",
            "Epoch 3/25\n",
            "100/100 [==============================] - 37s 374ms/step - loss: 1.4708 - accuracy: 0.4795\n",
            "Epoch 4/25\n",
            "100/100 [==============================] - 38s 375ms/step - loss: 1.4040 - accuracy: 0.5056\n",
            "Epoch 5/25\n",
            "100/100 [==============================] - 38s 375ms/step - loss: 3.7400 - accuracy: 0.4807\n",
            "Epoch 6/25\n",
            "100/100 [==============================] - 39s 388ms/step - loss: 107.0177 - accuracy: 0.1681\n",
            "Epoch 7/25\n",
            "100/100 [==============================] - 37s 375ms/step - loss: 1.7781 - accuracy: 0.3918\n",
            "Epoch 8/25\n",
            "100/100 [==============================] - 39s 386ms/step - loss: 1.5831 - accuracy: 0.4395\n",
            "Epoch 9/25\n",
            "100/100 [==============================] - 37s 374ms/step - loss: 1.5156 - accuracy: 0.4656\n",
            "Epoch 10/25\n",
            "100/100 [==============================] - 37s 372ms/step - loss: 1.4763 - accuracy: 0.4832\n",
            "Epoch 11/25\n",
            "100/100 [==============================] - 37s 372ms/step - loss: 1.4445 - accuracy: 0.4948\n",
            "Epoch 12/25\n",
            "100/100 [==============================] - 39s 386ms/step - loss: 1.4161 - accuracy: 0.5063\n",
            "Epoch 13/25\n",
            "100/100 [==============================] - 37s 371ms/step - loss: 1.3967 - accuracy: 0.5136\n",
            "Epoch 14/25\n",
            "100/100 [==============================] - 39s 386ms/step - loss: 1.3786 - accuracy: 0.5193\n",
            "Epoch 15/25\n",
            "100/100 [==============================] - 37s 374ms/step - loss: 1.3612 - accuracy: 0.5255\n",
            "Epoch 16/25\n",
            "100/100 [==============================] - 37s 373ms/step - loss: 1.3480 - accuracy: 0.5300\n",
            "Epoch 17/25\n",
            "100/100 [==============================] - 37s 373ms/step - loss: 1.3334 - accuracy: 0.5361\n",
            "Epoch 18/25\n",
            "100/100 [==============================] - 39s 387ms/step - loss: 1.3177 - accuracy: 0.5417\n",
            "Epoch 19/25\n",
            "100/100 [==============================] - 38s 375ms/step - loss: 1.3044 - accuracy: 0.5462\n",
            "Epoch 20/25\n",
            "100/100 [==============================] - 39s 387ms/step - loss: 1.2976 - accuracy: 0.5475\n",
            "Epoch 21/25\n",
            "100/100 [==============================] - 38s 377ms/step - loss: 1.2827 - accuracy: 0.5536\n",
            "Epoch 22/25\n",
            "100/100 [==============================] - 38s 376ms/step - loss: 1.2724 - accuracy: 0.5572\n",
            "Epoch 23/25\n",
            "100/100 [==============================] - 37s 374ms/step - loss: 1.2649 - accuracy: 0.5608\n",
            "Epoch 24/25\n",
            "100/100 [==============================] - 39s 388ms/step - loss: 1.2559 - accuracy: 0.5631\n",
            "Epoch 25/25\n",
            "100/100 [==============================] - 38s 375ms/step - loss: 1.2529 - accuracy: 0.5646\n",
            "313/313 [==============================] - 5s 15ms/step - loss: 1.3079 - accuracy: 0.5459\n",
            "Epoch 1/25\n",
            "72/72 [==============================] - 37s 508ms/step - loss: 2.4236 - accuracy: 0.2492\n",
            "Epoch 2/25\n",
            "72/72 [==============================] - 36s 503ms/step - loss: 1.6326 - accuracy: 0.4220\n",
            "Epoch 3/25\n",
            "72/72 [==============================] - 36s 504ms/step - loss: 1.4974 - accuracy: 0.4707\n",
            "Epoch 4/25\n",
            "72/72 [==============================] - 36s 505ms/step - loss: 1.4046 - accuracy: 0.5066\n",
            "Epoch 5/25\n",
            "72/72 [==============================] - 36s 506ms/step - loss: 1.3523 - accuracy: 0.5256\n",
            "Epoch 6/25\n",
            "72/72 [==============================] - 38s 524ms/step - loss: 1.3140 - accuracy: 0.5429\n",
            "Epoch 7/25\n",
            "72/72 [==============================] - 36s 505ms/step - loss: 1.2836 - accuracy: 0.5532\n",
            "Epoch 8/25\n",
            "72/72 [==============================] - 37s 509ms/step - loss: 1.2500 - accuracy: 0.5655\n",
            "Epoch 9/25\n",
            "72/72 [==============================] - 38s 525ms/step - loss: 1.2407 - accuracy: 0.5689\n",
            "Epoch 10/25\n",
            "72/72 [==============================] - 36s 506ms/step - loss: 1.2228 - accuracy: 0.5761\n",
            "Epoch 11/25\n",
            "72/72 [==============================] - 37s 510ms/step - loss: 1.2349 - accuracy: 0.5724\n",
            "Epoch 12/25\n",
            "72/72 [==============================] - 38s 527ms/step - loss: 1.2128 - accuracy: 0.5800\n",
            "Epoch 13/25\n",
            "72/72 [==============================] - 37s 510ms/step - loss: 1.1825 - accuracy: 0.5908\n",
            "Epoch 14/25\n",
            "72/72 [==============================] - 37s 511ms/step - loss: 1.1846 - accuracy: 0.5901\n",
            "Epoch 15/25\n",
            "72/72 [==============================] - 38s 529ms/step - loss: 1.2160 - accuracy: 0.5781\n",
            "Epoch 16/25\n",
            "72/72 [==============================] - 37s 511ms/step - loss: 1.1965 - accuracy: 0.5847\n",
            "Epoch 17/25\n",
            "72/72 [==============================] - 37s 511ms/step - loss: 1.1696 - accuracy: 0.5913\n",
            "Epoch 18/25\n",
            "72/72 [==============================] - 38s 528ms/step - loss: 1.1724 - accuracy: 0.5920\n",
            "Epoch 19/25\n",
            "72/72 [==============================] - 37s 508ms/step - loss: 1.1663 - accuracy: 0.5938\n",
            "Epoch 20/25\n",
            "72/72 [==============================] - 38s 526ms/step - loss: 1.1745 - accuracy: 0.5946\n",
            "Epoch 21/25\n",
            "72/72 [==============================] - 37s 510ms/step - loss: 1.1549 - accuracy: 0.6002\n",
            "Epoch 22/25\n",
            "72/72 [==============================] - 37s 507ms/step - loss: 1.1500 - accuracy: 0.6029\n",
            "Epoch 23/25\n",
            "72/72 [==============================] - 37s 510ms/step - loss: 1.1550 - accuracy: 0.6004\n",
            "Epoch 24/25\n",
            "72/72 [==============================] - 38s 525ms/step - loss: 1.1519 - accuracy: 0.5997\n",
            "Epoch 25/25\n",
            "72/72 [==============================] - 33s 455ms/step - loss: 1.1362 - accuracy: 0.6087\n",
            "313/313 [==============================] - 5s 15ms/step - loss: 1.2158 - accuracy: 0.5795\n",
            "Epoch 1/25\n",
            "56/56 [==============================] - 37s 648ms/step - loss: 3.1900 - accuracy: 0.1875\n",
            "Epoch 2/25\n",
            "56/56 [==============================] - 35s 627ms/step - loss: 1.7666 - accuracy: 0.3718\n",
            "Epoch 3/25\n",
            "56/56 [==============================] - 35s 621ms/step - loss: 1.6071 - accuracy: 0.4236\n",
            "Epoch 4/25\n",
            "56/56 [==============================] - 35s 626ms/step - loss: 1.5019 - accuracy: 0.4642\n",
            "Epoch 5/25\n",
            "56/56 [==============================] - 37s 656ms/step - loss: 1.4574 - accuracy: 0.4815\n",
            "Epoch 6/25\n",
            "56/56 [==============================] - 36s 634ms/step - loss: 1.4217 - accuracy: 0.4964\n",
            "Epoch 7/25\n",
            "56/56 [==============================] - 37s 659ms/step - loss: 1.3811 - accuracy: 0.5139\n",
            "Epoch 8/25\n",
            "56/56 [==============================] - 35s 630ms/step - loss: 1.3526 - accuracy: 0.5268\n",
            "Epoch 9/25\n",
            "56/56 [==============================] - 36s 636ms/step - loss: 1.3293 - accuracy: 0.5342\n",
            "Epoch 10/25\n",
            "56/56 [==============================] - 36s 635ms/step - loss: 1.2887 - accuracy: 0.5492\n",
            "Epoch 11/25\n",
            "56/56 [==============================] - 37s 660ms/step - loss: 1.2793 - accuracy: 0.5518\n",
            "Epoch 12/25\n",
            "56/56 [==============================] - 36s 635ms/step - loss: 1.2648 - accuracy: 0.5584\n",
            "Epoch 13/25\n",
            "56/56 [==============================] - 37s 660ms/step - loss: 1.2312 - accuracy: 0.5728\n",
            "Epoch 14/25\n",
            "56/56 [==============================] - 36s 637ms/step - loss: 1.2236 - accuracy: 0.5754\n",
            "Epoch 15/25\n",
            "56/56 [==============================] - 35s 633ms/step - loss: 1.2274 - accuracy: 0.5758\n",
            "Epoch 16/25\n",
            "56/56 [==============================] - 36s 639ms/step - loss: 1.2339 - accuracy: 0.5711\n",
            "Epoch 17/25\n",
            "56/56 [==============================] - 37s 658ms/step - loss: 1.1841 - accuracy: 0.5900\n",
            "Epoch 18/25\n",
            "56/56 [==============================] - 36s 635ms/step - loss: 767.7600 - accuracy: 0.1292\n",
            "Epoch 19/25\n",
            "56/56 [==============================] - 37s 657ms/step - loss: 20.1808 - accuracy: 0.2137\n",
            "Epoch 20/25\n",
            "56/56 [==============================] - 36s 634ms/step - loss: 3.2561 - accuracy: 0.3088\n",
            "Epoch 21/25\n",
            "56/56 [==============================] - 36s 635ms/step - loss: 2.4078 - accuracy: 0.3420\n",
            "Epoch 22/25\n",
            "56/56 [==============================] - 35s 633ms/step - loss: 2.0690 - accuracy: 0.3684\n",
            "Epoch 23/25\n",
            "56/56 [==============================] - 37s 666ms/step - loss: 1.8795 - accuracy: 0.3910\n",
            "Epoch 24/25\n",
            "56/56 [==============================] - 36s 635ms/step - loss: 1.7556 - accuracy: 0.4097\n",
            "Epoch 25/25\n",
            "56/56 [==============================] - 37s 662ms/step - loss: 1.6677 - accuracy: 0.4278\n",
            "313/313 [==============================] - 5s 15ms/step - loss: 1.6464 - accuracy: 0.4392\n"
          ]
        }
      ],
      "source": [
        "sc=[]\n",
        "a=[]\n",
        "for j in np.arange(100,1000,200):\n",
        "        model = Sequential()\n",
        "        model.add(Conv2D(6, kernel_size=(5,5), strides=(1, 1), input_shape=(32,32,3)))\n",
        "        model.add(MaxPooling2D(pool_size=(2, 2), strides=(2, 2)))\n",
        "        model.add(Conv2D(16, kernel_size=(5,5), strides=(1,1)))\n",
        "        model.add(MaxPooling2D(pool_size=(2, 2), strides=(2, 2)))\n",
        "        model.add(Conv2D(120, kernel_size=(5,5)))\n",
        "        model.add(Flatten())\n",
        "        model.add(Dense(84))\n",
        "        model.add(Dense(10))\n",
        "        model.add(Activation('softmax'))\n",
        "        model.compile(loss='categorical_crossentropy', optimizer=Adam(lr=0.01), metrics=['accuracy'])\n",
        "        model.fit(X_train,Y_train, batch_size=j, epochs=25)\n",
        "        score = model.evaluate(X_test, Y_test)\n",
        "        sc.append(score)\n",
        "        a.append((j))"
      ],
      "id": "2aa7aae4"
    },
    {
      "cell_type": "code",
      "execution_count": 26,
      "metadata": {
        "id": "abf282b7"
      },
      "outputs": [],
      "source": [
        "l=[sc[i][1] for i in range(len(sc))]"
      ],
      "id": "abf282b7"
    },
    {
      "cell_type": "code",
      "execution_count": 27,
      "metadata": {
        "id": "690aae9d"
      },
      "outputs": [],
      "source": [
        "l1=[str(i) for i in a]"
      ],
      "id": "690aae9d"
    },
    {
      "cell_type": "code",
      "execution_count": 28,
      "metadata": {
        "id": "d41c68f3",
        "colab": {
          "base_uri": "https://localhost:8080/",
          "height": 374
        },
        "outputId": "746757ca-bc37-4b10-8c95-7f5222a575fe"
      },
      "outputs": [
        {
          "output_type": "display_data",
          "data": {
            "text/plain": [
              "<Figure size 1440x432 with 1 Axes>"
            ],
            "image/png": "[encoded data removed]"
          },
          "metadata": {
            "needs_background": "light"
          }
        }
      ],
      "source": [
        "f = plt.figure()\n",
        "plt.bar(l1,l)\n",
        "f.set_figheight(6)\n",
        "f.set_figwidth(20)"
      ],
      "id": "d41c68f3"
    },
    {
      "cell_type": "code",
      "execution_count": 29,
      "metadata": {
        "id": "e7ee3715",
        "colab": {
          "base_uri": "https://localhost:8080/",
          "height": 36
        },
        "outputId": "19ebc850-1e52-40f0-9809-c45d087b903f"
      },
      "outputs": [
        {
          "output_type": "execute_result",
          "data": {
            "text/plain": [
              "'300'"
            ],
            "application/vnd.google.colaboratory.intrinsic+json": {
              "type": "string"
            }
          },
          "metadata": {},
          "execution_count": 29
        }
      ],
      "source": [
        "l1[l.index(max(l))]"
      ],
      "id": "e7ee3715"
    },
    {
      "cell_type": "markdown",
      "metadata": {
        "id": "8c5cb41a"
      },
      "source": [
        "### from the plot we can see that the best model for the given data is producing highest accuracy at the batch size 300"
      ],
      "id": "8c5cb41a"
    },
    {
      "cell_type": "markdown",
      "metadata": {
        "id": "39af9779"
      },
      "source": [
        "#### 4. Feed forward network"
      ],
      "id": "39af9779"
    },
    {
      "cell_type": "code",
      "execution_count": 30,
      "metadata": {
        "id": "dbbcb697"
      },
      "outputs": [],
      "source": [
        "model = Sequential()\n",
        "model.add(Conv2D(64, kernel_size=5, padding=\"same\",input_shape=(32,32,3)))\n",
        "model.add(Activation(\"relu\"))\n",
        "model.add(MaxPooling2D(pool_size=(2, 2), strides=(2, 2)))\n",
        "model.add(Conv2D(64, kernel_size=5, padding=\"same\"))\n",
        "model.add(Activation(\"relu\"))\n",
        "model.add(MaxPooling2D(pool_size=(2, 2), strides=(2, 2)))\n",
        "model.add(Conv2D(64, kernel_size=5, padding=\"same\"))\n",
        "model.add(Activation(\"relu\"))\n",
        "model.add(Flatten())\n",
        "model.add(Dense(64))\n",
        "model.add(Activation(\"relu\"))\n",
        "model.add(Dense(10))\n",
        "model.add(Activation(\"softmax\"))"
      ],
      "id": "dbbcb697"
    },
    {
      "cell_type": "code",
      "execution_count": null,
      "metadata": {
        "id": "d66ce099",
        "colab": {
          "base_uri": "https://localhost:8080/"
        },
        "outputId": "8bccc5c5-f712-4966-8b77-59e738a4221e"
      },
      "outputs": [
        {
          "output_type": "stream",
          "name": "stdout",
          "text": [
            "Epoch 1/25\n",
            "782/782 [==============================] - 374s 478ms/step - loss: 1087.5807 - accuracy: 0.1005\n",
            "Epoch 2/25\n",
            "782/782 [==============================] - 372s 476ms/step - loss: 2.3110 - accuracy: 0.0971\n",
            "Epoch 3/25\n",
            "782/782 [==============================] - 371s 475ms/step - loss: 2.3119 - accuracy: 0.0975\n",
            "Epoch 4/25\n",
            "782/782 [==============================] - 373s 477ms/step - loss: 2.3116 - accuracy: 0.1020\n",
            "Epoch 5/25\n",
            "782/782 [==============================] - 375s 480ms/step - loss: 2.3118 - accuracy: 0.1005\n",
            "Epoch 6/25\n",
            "782/782 [==============================] - 368s 470ms/step - loss: 2.3125 - accuracy: 0.0981\n",
            "Epoch 7/25\n",
            "782/782 [==============================] - 366s 468ms/step - loss: 2.3122 - accuracy: 0.1005\n",
            "Epoch 8/25\n",
            "782/782 [==============================] - 367s 470ms/step - loss: 2.3113 - accuracy: 0.0990\n",
            "Epoch 9/25\n",
            "782/782 [==============================] - 366s 468ms/step - loss: 2.3118 - accuracy: 0.1029\n",
            "Epoch 10/25\n",
            "782/782 [==============================] - 363s 465ms/step - loss: 2.3116 - accuracy: 0.1009\n",
            "Epoch 11/25\n",
            "782/782 [==============================] - 363s 465ms/step - loss: 2.3114 - accuracy: 0.0980\n",
            "Epoch 12/25\n",
            "782/782 [==============================] - 365s 466ms/step - loss: 2.3118 - accuracy: 0.0995\n",
            "Epoch 13/25\n",
            "782/782 [==============================] - 365s 466ms/step - loss: 2.3114 - accuracy: 0.0994\n",
            "Epoch 14/25\n",
            "782/782 [==============================] - 368s 471ms/step - loss: 2.3116 - accuracy: 0.1009\n",
            "Epoch 15/25\n",
            "782/782 [==============================] - 364s 465ms/step - loss: 2.3105 - accuracy: 0.0992\n",
            "Epoch 16/25\n",
            "782/782 [==============================] - 361s 462ms/step - loss: 2.3120 - accuracy: 0.0996\n",
            "Epoch 17/25\n",
            "782/782 [==============================] - 361s 461ms/step - loss: 2.3120 - accuracy: 0.0999\n",
            "Epoch 18/25\n",
            "782/782 [==============================] - 360s 461ms/step - loss: 2.3103 - accuracy: 0.0979\n",
            "Epoch 19/25\n",
            "782/782 [==============================] - 362s 463ms/step - loss: 2.3114 - accuracy: 0.0997\n",
            "Epoch 20/25\n",
            "782/782 [==============================] - 362s 463ms/step - loss: 2.3112 - accuracy: 0.0985\n",
            "Epoch 21/25\n",
            "782/782 [==============================] - 362s 463ms/step - loss: 2.3115 - accuracy: 0.1008\n",
            "Epoch 22/25\n",
            "782/782 [==============================] - 364s 466ms/step - loss: 2.3120 - accuracy: 0.1001\n",
            "Epoch 23/25\n",
            "575/782 [=====================>........] - ETA: 1:37 - loss: 2.3115 - accuracy: 0.1017"
          ]
        }
      ],
      "source": [
        "model.compile(loss=\"categorical_crossentropy\", optimizer=Adam(learning_rate=0.1),metrics=[\"accuracy\"])\n",
        "model.fit(X_train,Y_train,batch_size=64, epochs=25)\n",
        "score = model.evaluate(X_test, Y_test)\n",
        "print(score[1])"
      ],
      "id": "d66ce099"
    },
    {
      "cell_type": "markdown",
      "metadata": {
        "id": "eda12ed3"
      },
      "source": [
        "###### a.we can see that the accuracy of feed forward network is quite low when compared to lenet implementation there is a margin of 50% in accuracy difference "
      ],
      "id": "eda12ed3"
    },
    {
      "cell_type": "markdown",
      "metadata": {
        "id": "704cc604"
      },
      "source": [
        "###### b.The paramaters used for this are almost similar but there is quite difference in architechture or layers.   \n",
        "###### So from this we can conclude that, the imapact of parameters is minimal until we have well layered model implementation"
      ],
      "id": "704cc604"
    },
    {
      "cell_type": "code",
      "execution_count": 31,
      "metadata": {
        "id": "e7574175"
      },
      "outputs": [],
      "source": [],
      "id": "e7574175"
    }
  ],
  "metadata": {
    "colab": {
      "collapsed_sections": [
        "334b7df9",
        "1ab45f07"
      ],
      "provenance": []
    },
    "kernelspec": {
      "display_name": "Python 3 (ipykernel)",
      "language": "python",
      "name": "python3"
    },
    "language_info": {
      "codemirror_mode": {
        "name": "ipython",
        "version": 3
      },
      "file_extension": ".py",
      "mimetype": "text/x-python",
      "name": "python",
      "nbconvert_exporter": "python",
      "pygments_lexer": "ipython3",
      "version": "3.9.12"
    }
  },
  "nbformat": 4,
  "nbformat_minor": 5
}